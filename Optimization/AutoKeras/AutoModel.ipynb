{
 "cells": [
  {
   "cell_type": "code",
   "execution_count": 1,
   "id": "Kd-Bm8brf0Fz",
   "metadata": {
    "id": "Kd-Bm8brf0Fz"
   },
   "outputs": [],
   "source": [
    "import numpy as np\n",
    "import pandas as pd\n",
    "import tensorflow as tf\n",
    "import autokeras as ak\n",
    "import json\n",
    "import os\n",
    "import time\n",
    "from datetime import datetime\n",
    "from matplotlib import pyplot\n",
    "from sklearn.metrics import classification_report"
   ]
  },
  {
   "cell_type": "code",
   "execution_count": 2,
   "id": "b324f706",
   "metadata": {},
   "outputs": [
    {
     "name": "stdout",
     "output_type": "stream",
     "text": [
      "Please install GPU version of TensorFlow.\n",
      "\n",
      "TensorFlow version:  2.8.0\n",
      "WARNING:tensorflow:From C:\\Users\\marce\\AppData\\Local\\Temp/ipykernel_21404/4157264796.py:9: is_gpu_available (from tensorflow.python.framework.test_util) is deprecated and will be removed in a future version.\n",
      "Instructions for updating:\n",
      "Use `tf.config.list_physical_devices('GPU')` instead.\n",
      "\n",
      "Is GPU available? False\n",
      "\n",
      "Num GPUs Available:  0\n",
      "\n",
      "Physical Devices:  []\n",
      "\n",
      "Local devices: [name: \"/device:CPU:0\"\n",
      "device_type: \"CPU\"\n",
      "memory_limit: 268435456\n",
      "locality {\n",
      "}\n",
      "incarnation: 16137777620463794832\n",
      "xla_global_id: -1\n",
      "]\n"
     ]
    }
   ],
   "source": [
    "import tensorflow as tf\n",
    "if tf.test.gpu_device_name():\n",
    "    print('Default GPU Device: {}'.format(tf.test.gpu_device_name()))\n",
    "else:\n",
    "    print(\"Please install GPU version of TensorFlow.\")\n",
    "\n",
    "import tensorflow as tf\n",
    "print(\"\\nTensorFlow version: \", tf.__version__)\n",
    "print(\"\\nIs GPU available?\", tf.test.is_gpu_available())\n",
    "print(\"\\nNum GPUs Available: \", len(tf.config.experimental.list_physical_devices('GPU')))\n",
    "print(\"\\nPhysical Devices: \", tf.config.list_physical_devices('GPU'))\n",
    "\n",
    "from tensorflow.python.client import device_lib\n",
    "print(\"\\nLocal devices:\", device_lib.list_local_devices())"
   ]
  },
  {
   "cell_type": "code",
   "execution_count": 3,
   "id": "2229336e",
   "metadata": {},
   "outputs": [],
   "source": [
    "SEED        = 10\n",
    "folder_name = 'filtered_by_label'\n",
    "limit_rows  = None\n",
    "n_cpus      = os.cpu_count()"
   ]
  },
  {
   "cell_type": "code",
   "execution_count": 4,
   "id": "dc175db4",
   "metadata": {
    "scrolled": true
   },
   "outputs": [
    {
     "name": "stdout",
     "output_type": "stream",
     "text": [
      "Execution started at 2022-03-10 01:06:36.\n"
     ]
    }
   ],
   "source": [
    "print(f\"Execution started at {datetime.now().strftime('%Y-%m-%d %H:%M:%S')}.\")"
   ]
  },
  {
   "cell_type": "code",
   "execution_count": 5,
   "id": "951e0af6",
   "metadata": {},
   "outputs": [],
   "source": [
    "def load_csv(subset,folder=folder_name):\n",
    "    if limit_rows is None:\n",
    "        full_filename = f'../../Data Preprocessing/{folder}/iot23_combined_{subset}.csv'\n",
    "    else:\n",
    "        full_filename = f'../../Data Preprocessing/{folder}/iot23_combined_{int(limit_rows/1000)}k_{subset}.csv'\n",
    "    \n",
    "    df = pd.read_table(filepath_or_buffer=full_filename, header=None, sep=',').infer_objects().to_numpy()\n",
    "    \n",
    "    return df.ravel() if df.shape[1] == 1 else df"
   ]
  },
  {
   "cell_type": "code",
   "execution_count": 6,
   "id": "steady-hotel",
   "metadata": {
    "id": "steady-hotel"
   },
   "outputs": [
    {
     "name": "stdout",
     "output_type": "stream",
     "text": [
      "X_train (7014497, 15) \n",
      "y_train (7014497,)\n",
      "X_test (1753625, 15) \n",
      "y_test (1753625,)\n"
     ]
    }
   ],
   "source": [
    "X_train, X_test, y_train, y_test = load_csv('X_train'), load_csv('X_test'), load_csv('y_train'), load_csv('y_test')\n",
    "\n",
    "print('X_train',X_train.shape,'\\ny_train',y_train.shape)\n",
    "print('X_test',X_test.shape,'\\ny_test',y_test.shape)"
   ]
  },
  {
   "cell_type": "code",
   "execution_count": 7,
   "id": "f17060b4",
   "metadata": {},
   "outputs": [],
   "source": [
    "clf = ak.AutoModel(inputs=[ak.StructuredDataInput()],\n",
    "                   outputs=[ak.ClassificationHead()],\n",
    "                   overwrite=True,\n",
    "                   max_trials=1,\n",
    "                   seed=SEED)"
   ]
  },
  {
   "cell_type": "code",
   "execution_count": 8,
   "id": "f0269ec5",
   "metadata": {},
   "outputs": [
    {
     "name": "stdout",
     "output_type": "stream",
     "text": [
      "Trial 1 Complete [00h 26m 13s]\n",
      "val_loss: 0.036828529089689255\n",
      "\n",
      "Best val_loss So Far: 0.036828529089689255\n",
      "Total elapsed time: 00h 26m 13s\n",
      "INFO:tensorflow:Oracle triggered exit\n",
      "Epoch 1/100\n",
      "27401/27401 [==============================] - 38s 1ms/step - loss: 3.4404 - accuracy: 0.4918\n",
      "Epoch 2/100\n",
      "27401/27401 [==============================] - 37s 1ms/step - loss: 1.0491 - accuracy: 0.4943\n",
      "Epoch 3/100\n",
      "27401/27401 [==============================] - 37s 1ms/step - loss: 1.0073 - accuracy: 0.4986\n",
      "Epoch 4/100\n",
      "27401/27401 [==============================] - 38s 1ms/step - loss: 0.9032 - accuracy: 0.5356\n",
      "Epoch 5/100\n",
      "27401/27401 [==============================] - 36s 1ms/step - loss: 0.7500 - accuracy: 0.6234\n",
      "Epoch 6/100\n",
      "27401/27401 [==============================] - 40s 1ms/step - loss: 0.3409 - accuracy: 0.8615\n",
      "Epoch 7/100\n",
      "27401/27401 [==============================] - 36s 1ms/step - loss: 0.2575 - accuracy: 0.9121\n",
      "Epoch 8/100\n",
      "27401/27401 [==============================] - 38s 1ms/step - loss: 0.2068 - accuracy: 0.9311\n",
      "Epoch 9/100\n",
      "27401/27401 [==============================] - 36s 1ms/step - loss: 0.1607 - accuracy: 0.9478\n",
      "Epoch 10/100\n",
      "27401/27401 [==============================] - 38s 1ms/step - loss: 0.1665 - accuracy: 0.9452\n",
      "Epoch 11/100\n",
      "27401/27401 [==============================] - 37s 1ms/step - loss: 0.1227 - accuracy: 0.9580\n",
      "Epoch 12/100\n",
      "27401/27401 [==============================] - 37s 1ms/step - loss: 0.1064 - accuracy: 0.9654\n",
      "Epoch 13/100\n",
      "27401/27401 [==============================] - 38s 1ms/step - loss: 0.1323 - accuracy: 0.9580\n",
      "Epoch 14/100\n",
      "27401/27401 [==============================] - 36s 1ms/step - loss: 0.1260 - accuracy: 0.9597\n",
      "Epoch 15/100\n",
      "27401/27401 [==============================] - 38s 1ms/step - loss: 0.1111 - accuracy: 0.9659\n",
      "Epoch 16/100\n",
      "27401/27401 [==============================] - 36s 1ms/step - loss: 0.1384 - accuracy: 0.9502\n",
      "Epoch 17/100\n",
      "27401/27401 [==============================] - 38s 1ms/step - loss: 0.1115 - accuracy: 0.9667\n",
      "Epoch 18/100\n",
      "27401/27401 [==============================] - 37s 1ms/step - loss: 0.1449 - accuracy: 0.9514\n",
      "Epoch 19/100\n",
      "27401/27401 [==============================] - 37s 1ms/step - loss: 0.1279 - accuracy: 0.9619\n",
      "Epoch 20/100\n",
      "27401/27401 [==============================] - 38s 1ms/step - loss: 0.0938 - accuracy: 0.9732\n",
      "Epoch 21/100\n",
      "27401/27401 [==============================] - 36s 1ms/step - loss: 0.1062 - accuracy: 0.9698\n",
      "Epoch 22/100\n",
      "27401/27401 [==============================] - 38s 1ms/step - loss: 0.0937 - accuracy: 0.9719\n",
      "Epoch 23/100\n",
      "27401/27401 [==============================] - 37s 1ms/step - loss: 0.0789 - accuracy: 0.9767\n",
      "Epoch 24/100\n",
      "27401/27401 [==============================] - 37s 1ms/step - loss: 0.1106 - accuracy: 0.9632\n",
      "Epoch 25/100\n",
      "27401/27401 [==============================] - 38s 1ms/step - loss: 0.1008 - accuracy: 0.9707\n",
      "Epoch 26/100\n",
      "27401/27401 [==============================] - 36s 1ms/step - loss: 0.0820 - accuracy: 0.9756\n",
      "Epoch 27/100\n",
      "27401/27401 [==============================] - 38s 1ms/step - loss: 0.0762 - accuracy: 0.9790\n",
      "Epoch 28/100\n",
      "27401/27401 [==============================] - 36s 1ms/step - loss: 0.1171 - accuracy: 0.9620\n",
      "Epoch 29/100\n",
      "27401/27401 [==============================] - 38s 1ms/step - loss: 0.1084 - accuracy: 0.9669\n",
      "Epoch 30/100\n",
      "27401/27401 [==============================] - 37s 1ms/step - loss: 0.1487 - accuracy: 0.9421\n",
      "Epoch 31/100\n",
      "27401/27401 [==============================] - 37s 1ms/step - loss: 0.0785 - accuracy: 0.9794\n",
      "Epoch 32/100\n",
      "27401/27401 [==============================] - 35s 1ms/step - loss: 0.0810 - accuracy: 0.9770\n",
      "Epoch 33/100\n",
      "27401/27401 [==============================] - 35s 1ms/step - loss: 0.0996 - accuracy: 0.9732\n",
      "Epoch 34/100\n",
      "27401/27401 [==============================] - 35s 1ms/step - loss: 0.0703 - accuracy: 0.9815\n",
      "Epoch 35/100\n",
      "27401/27401 [==============================] - 35s 1ms/step - loss: 0.0704 - accuracy: 0.9812\n",
      "Epoch 36/100\n",
      "27401/27401 [==============================] - 35s 1ms/step - loss: 0.1008 - accuracy: 0.9704\n",
      "Epoch 37/100\n",
      "27401/27401 [==============================] - 35s 1ms/step - loss: 0.0810 - accuracy: 0.9790\n",
      "Epoch 38/100\n",
      "27401/27401 [==============================] - 35s 1ms/step - loss: 0.0653 - accuracy: 0.9822\n",
      "Epoch 39/100\n",
      "27401/27401 [==============================] - 35s 1ms/step - loss: 0.0774 - accuracy: 0.9808\n",
      "Epoch 40/100\n",
      "27401/27401 [==============================] - 35s 1ms/step - loss: 0.0606 - accuracy: 0.9849\n",
      "Epoch 41/100\n",
      "27401/27401 [==============================] - 35s 1ms/step - loss: 0.0728 - accuracy: 0.9851\n",
      "Epoch 42/100\n",
      "27401/27401 [==============================] - 35s 1ms/step - loss: 0.0669 - accuracy: 0.9831\n",
      "Epoch 43/100\n",
      "27401/27401 [==============================] - 35s 1ms/step - loss: 0.0788 - accuracy: 0.9810\n",
      "Epoch 44/100\n",
      "27401/27401 [==============================] - 35s 1ms/step - loss: 0.0644 - accuracy: 0.9845\n",
      "Epoch 45/100\n",
      "27401/27401 [==============================] - 35s 1ms/step - loss: 0.0791 - accuracy: 0.9805\n",
      "Epoch 46/100\n",
      "27401/27401 [==============================] - 35s 1ms/step - loss: 0.1234 - accuracy: 0.9635\n",
      "Epoch 47/100\n",
      "27401/27401 [==============================] - 35s 1ms/step - loss: 0.0701 - accuracy: 0.9821\n",
      "Epoch 48/100\n",
      "27401/27401 [==============================] - 35s 1ms/step - loss: 0.1078 - accuracy: 0.9688\n",
      "Epoch 49/100\n",
      "27401/27401 [==============================] - 35s 1ms/step - loss: 0.0752 - accuracy: 0.9795\n",
      "Epoch 50/100\n",
      "27401/27401 [==============================] - 35s 1ms/step - loss: 0.0629 - accuracy: 0.9855\n",
      "Epoch 51/100\n",
      "27401/27401 [==============================] - 36s 1ms/step - loss: 0.0670 - accuracy: 0.9841\n",
      "Epoch 52/100\n",
      "27401/27401 [==============================] - 35s 1ms/step - loss: 0.0757 - accuracy: 0.9793\n",
      "Epoch 53/100\n",
      "27401/27401 [==============================] - 35s 1ms/step - loss: 0.1079 - accuracy: 0.9686\n",
      "Epoch 54/100\n",
      "27401/27401 [==============================] - 34s 1ms/step - loss: 0.0974 - accuracy: 0.9694\n",
      "Epoch 55/100\n",
      "27401/27401 [==============================] - 36s 1ms/step - loss: 0.1213 - accuracy: 0.9602\n",
      "Epoch 56/100\n",
      "27401/27401 [==============================] - 35s 1ms/step - loss: 0.0963 - accuracy: 0.9697\n",
      "Epoch 57/100\n",
      "27401/27401 [==============================] - 35s 1ms/step - loss: 0.0596 - accuracy: 0.9846\n",
      "Epoch 58/100\n",
      "27401/27401 [==============================] - 36s 1ms/step - loss: 0.0656 - accuracy: 0.9840\n",
      "Epoch 59/100\n",
      "27401/27401 [==============================] - 35s 1ms/step - loss: 0.0954 - accuracy: 0.9747\n",
      "Epoch 60/100\n",
      "27401/27401 [==============================] - 35s 1ms/step - loss: 0.0650 - accuracy: 0.9853\n",
      "Epoch 61/100\n",
      "27401/27401 [==============================] - 35s 1ms/step - loss: 0.0731 - accuracy: 0.9814\n",
      "Epoch 62/100\n",
      "27401/27401 [==============================] - 35s 1ms/step - loss: 0.0859 - accuracy: 0.9768\n",
      "Epoch 63/100\n",
      "27401/27401 [==============================] - 36s 1ms/step - loss: 0.0566 - accuracy: 0.9864\n",
      "Epoch 64/100\n",
      "27401/27401 [==============================] - 36s 1ms/step - loss: 0.0636 - accuracy: 0.9854\n",
      "Epoch 65/100\n",
      "27401/27401 [==============================] - 35s 1ms/step - loss: 0.0551 - accuracy: 0.9867\n",
      "Epoch 66/100\n",
      "27401/27401 [==============================] - 35s 1ms/step - loss: 0.0790 - accuracy: 0.9792\n",
      "Epoch 67/100\n",
      "27401/27401 [==============================] - 35s 1ms/step - loss: 0.0624 - accuracy: 0.9859\n",
      "Epoch 68/100\n",
      "27401/27401 [==============================] - 34s 1ms/step - loss: 0.0541 - accuracy: 0.9880\n",
      "Epoch 69/100\n",
      "27401/27401 [==============================] - 34s 1ms/step - loss: 0.0926 - accuracy: 0.9761\n",
      "Epoch 70/100\n",
      "27401/27401 [==============================] - 34s 1ms/step - loss: 0.0698 - accuracy: 0.9823\n",
      "Epoch 71/100\n",
      "27401/27401 [==============================] - 34s 1ms/step - loss: 0.1193 - accuracy: 0.9674\n",
      "Epoch 72/100\n",
      "27401/27401 [==============================] - 34s 1ms/step - loss: 0.1164 - accuracy: 0.9666\n",
      "Epoch 73/100\n",
      "27401/27401 [==============================] - 34s 1ms/step - loss: 0.0729 - accuracy: 0.9826\n",
      "Epoch 74/100\n",
      "27401/27401 [==============================] - 34s 1ms/step - loss: 0.0570 - accuracy: 0.9866\n",
      "Epoch 75/100\n",
      "27401/27401 [==============================] - 34s 1ms/step - loss: 0.1107 - accuracy: 0.9658\n",
      "Epoch 76/100\n"
     ]
    },
    {
     "name": "stdout",
     "output_type": "stream",
     "text": [
      "27401/27401 [==============================] - 34s 1ms/step - loss: 0.0809 - accuracy: 0.9801\n",
      "Epoch 77/100\n",
      "27401/27401 [==============================] - 34s 1ms/step - loss: 0.0852 - accuracy: 0.9775\n",
      "Epoch 78/100\n",
      "27401/27401 [==============================] - 34s 1ms/step - loss: 0.1073 - accuracy: 0.9689\n",
      "Epoch 79/100\n",
      "27401/27401 [==============================] - 34s 1ms/step - loss: 0.0610 - accuracy: 0.9862\n",
      "Epoch 80/100\n",
      "27401/27401 [==============================] - 34s 1ms/step - loss: 0.1319 - accuracy: 0.9645\n",
      "Epoch 81/100\n",
      "27401/27401 [==============================] - 34s 1ms/step - loss: 0.0846 - accuracy: 0.9783\n",
      "Epoch 82/100\n",
      "27401/27401 [==============================] - 34s 1ms/step - loss: 0.0551 - accuracy: 0.9873\n",
      "Epoch 83/100\n",
      "27401/27401 [==============================] - 34s 1ms/step - loss: 0.0918 - accuracy: 0.9760\n",
      "Epoch 84/100\n",
      "27401/27401 [==============================] - 34s 1ms/step - loss: 0.0689 - accuracy: 0.9865\n",
      "Epoch 85/100\n",
      "27401/27401 [==============================] - 34s 1ms/step - loss: 0.0833 - accuracy: 0.9789\n",
      "Epoch 86/100\n",
      "27401/27401 [==============================] - 34s 1ms/step - loss: 0.0689 - accuracy: 0.9812\n",
      "Epoch 87/100\n",
      "27401/27401 [==============================] - 34s 1ms/step - loss: 0.1011 - accuracy: 0.9734\n",
      "Epoch 88/100\n",
      "27401/27401 [==============================] - 34s 1ms/step - loss: 0.0796 - accuracy: 0.9801\n",
      "Epoch 89/100\n",
      "27401/27401 [==============================] - 34s 1ms/step - loss: 0.0772 - accuracy: 0.9822\n",
      "Epoch 90/100\n",
      "27401/27401 [==============================] - 34s 1ms/step - loss: 0.0812 - accuracy: 0.9797\n",
      "Epoch 91/100\n",
      "27401/27401 [==============================] - 34s 1ms/step - loss: 0.0740 - accuracy: 0.9835\n",
      "Epoch 92/100\n",
      "27401/27401 [==============================] - 34s 1ms/step - loss: 0.0795 - accuracy: 0.9827\n",
      "Epoch 93/100\n",
      "27401/27401 [==============================] - 34s 1ms/step - loss: 0.0621 - accuracy: 0.9868\n",
      "Epoch 94/100\n",
      "27401/27401 [==============================] - 34s 1ms/step - loss: 0.0723 - accuracy: 0.9849\n",
      "Epoch 95/100\n",
      "27401/27401 [==============================] - 34s 1ms/step - loss: 0.0877 - accuracy: 0.9803\n",
      "Epoch 96/100\n",
      "27401/27401 [==============================] - 34s 1ms/step - loss: 0.0874 - accuracy: 0.9800\n",
      "Epoch 97/100\n",
      "27401/27401 [==============================] - 34s 1ms/step - loss: 0.0603 - accuracy: 0.9857\n",
      "Epoch 98/100\n",
      "27401/27401 [==============================] - 34s 1ms/step - loss: 0.0717 - accuracy: 0.9825\n",
      "Epoch 99/100\n",
      "27401/27401 [==============================] - 34s 1ms/step - loss: 0.0621 - accuracy: 0.9858\n",
      "Epoch 100/100\n",
      "27401/27401 [==============================] - 34s 1ms/step - loss: 0.0643 - accuracy: 0.9853\n",
      "INFO:tensorflow:Assets written to: .\\auto_model\\best_model\\assets\n",
      "Fitting finished at 2022-03-10 02:40:00.\n"
     ]
    }
   ],
   "source": [
    "early_stopping = tf.keras.callbacks.EarlyStopping(patience=10, min_delta=1e-4)\n",
    "\n",
    "print(f\"Fitting started at {datetime.now().strftime('%Y-%m-%d %H:%M:%S')}.\")\n",
    "\n",
    "clf.fit(X_train, y_train, batch_size=256, callbacks=[early_stopping], epochs=100, validation_split=0.25)\n",
    "\n",
    "print(f\"Fitting finished at {datetime.now().strftime('%Y-%m-%d %H:%M:%S')}.\")"
   ]
  },
  {
   "cell_type": "code",
   "execution_count": 9,
   "id": "24dcc36e",
   "metadata": {},
   "outputs": [],
   "source": [
    "output_filename ='model-autokeras-am-filtered_by_label'"
   ]
  },
  {
   "cell_type": "code",
   "execution_count": 10,
   "id": "4c4a3d33",
   "metadata": {},
   "outputs": [
    {
     "name": "stdout",
     "output_type": "stream",
     "text": [
      "Evaluation started at 2022-03-10 02:40:00.\n",
      "\n",
      "**** AutoKeras evaluation ****\n",
      "6851/6851 [==============================] - 6s 784us/step - loss: 0.0749 - accuracy: 0.9902\n",
      "[0.07488612085580826, 0.9901951551437378]\n",
      "\n",
      "**** Scikit-learn evaluation ****\n",
      "6851/6851 [==============================] - 7s 960us/step\n",
      "              precision    recall  f1-score   support\n",
      "\n",
      "           0     0.9986    0.9850    0.9917    852507\n",
      "           1     0.9733    0.9993    0.9862    433190\n",
      "           2     0.9992    0.8591    0.9239      2988\n",
      "           3     0.9911    0.9921    0.9916    464940\n",
      "\n",
      "    accuracy                         0.9902   1753625\n",
      "   macro avg     0.9906    0.9589    0.9733   1753625\n",
      "weighted avg     0.9904    0.9902    0.9902   1753625\n",
      "\n",
      "Evaluation finished at 2022-03-10 02:40:25.\n"
     ]
    }
   ],
   "source": [
    "print(f\"Evaluation started at {datetime.now().strftime('%Y-%m-%d %H:%M:%S')}.\")\n",
    "\n",
    "print(f'\\n**** AutoKeras evaluation ****')\n",
    "print(clf.evaluate(X_test, y_test, batch_size=256))\n",
    "\n",
    "print(f'\\n**** Scikit-learn evaluation ****')\n",
    "y_pred = [int(x) for x in clf.predict(X_test, batch_size=256)]\n",
    "print(classification_report(y_test, y_pred, output_dict=False, target_names=['Benign','DDoS','Okiru','PartOfAHorizontalPortScan'], zero_division=0))\n",
    "with open(f'{output_filename}_report.json', 'w') as fp:\n",
    "    json.dump(classification_report(y_test, y_pred, output_dict=True, target_names=['Benign','DDoS','Okiru','PartOfAHorizontalPortScan'], zero_division=0), fp)\n",
    "\n",
    "print(f\"Evaluation finished at {datetime.now().strftime('%Y-%m-%d %H:%M:%S')}.\")"
   ]
  },
  {
   "cell_type": "code",
   "execution_count": 11,
   "id": "6aab6b5a",
   "metadata": {},
   "outputs": [],
   "source": [
    "best_model = clf.export_model()"
   ]
  },
  {
   "cell_type": "code",
   "execution_count": 12,
   "id": "24dae90f",
   "metadata": {},
   "outputs": [
    {
     "data": {
      "text/plain": [
       "['loss', 'accuracy']"
      ]
     },
     "execution_count": 12,
     "metadata": {},
     "output_type": "execute_result"
    }
   ],
   "source": [
    "best_model.metrics_names"
   ]
  },
  {
   "cell_type": "code",
   "execution_count": 13,
   "id": "a028994f",
   "metadata": {},
   "outputs": [
    {
     "name": "stdout",
     "output_type": "stream",
     "text": [
      "Model: \"model\"\n",
      "_________________________________________________________________\n",
      " Layer (type)                Output Shape              Param #   \n",
      "=================================================================\n",
      " input_1 (InputLayer)        [(None, 15)]              0         \n",
      "                                                                 \n",
      " multi_category_encoding (Mu  (None, 15)               0         \n",
      " ltiCategoryEncoding)                                            \n",
      "                                                                 \n",
      " dense (Dense)               (None, 32)                512       \n",
      "                                                                 \n",
      " re_lu (ReLU)                (None, 32)                0         \n",
      "                                                                 \n",
      " dense_1 (Dense)             (None, 32)                1056      \n",
      "                                                                 \n",
      " re_lu_1 (ReLU)              (None, 32)                0         \n",
      "                                                                 \n",
      " dropout (Dropout)           (None, 32)                0         \n",
      "                                                                 \n",
      " dense_2 (Dense)             (None, 4)                 132       \n",
      "                                                                 \n",
      " classification_head_1 (Soft  (None, 4)                0         \n",
      " max)                                                            \n",
      "                                                                 \n",
      "=================================================================\n",
      "Total params: 1,700\n",
      "Trainable params: 1,700\n",
      "Non-trainable params: 0\n",
      "_________________________________________________________________\n"
     ]
    }
   ],
   "source": [
    "best_model.summary()"
   ]
  },
  {
   "cell_type": "code",
   "execution_count": null,
   "id": "35598e0a",
   "metadata": {},
   "outputs": [],
   "source": [
    "with open(f'{output_filename}_model.json', 'w') as fp:\n",
    "    json.dump(best_model.to_json(), fp)"
   ]
  },
  {
   "cell_type": "code",
   "execution_count": 14,
   "id": "dd3792a1",
   "metadata": {},
   "outputs": [
    {
     "data": {
      "image/png": "[encoded data removed]",
      "text/plain": [
       "<IPython.core.display.Image object>"
      ]
     },
     "execution_count": 14,
     "metadata": {},
     "output_type": "execute_result"
    }
   ],
   "source": [
    "tf.keras.utils.plot_model(best_model, to_file=f'{output_filename}_plot.png')"
   ]
  },
  {
   "cell_type": "code",
   "execution_count": 15,
   "id": "9a94f034",
   "metadata": {},
   "outputs": [
    {
     "name": "stdout",
     "output_type": "stream",
     "text": [
      "INFO:tensorflow:Assets written to: model-autokeras-am-filtered_by_label\\assets\n"
     ]
    }
   ],
   "source": [
    "best_model.save(f'{output_filename}')"
   ]
  },
  {
   "cell_type": "code",
   "execution_count": 16,
   "id": "dd064505",
   "metadata": {},
   "outputs": [
    {
     "name": "stdout",
     "output_type": "stream",
     "text": [
      "Execution finished at 2022-03-10 02:40:28.\n"
     ]
    }
   ],
   "source": [
    "print(f\"Execution finished at {datetime.now().strftime('%Y-%m-%d %H:%M:%S')}.\")"
   ]
  }
 ],
 "metadata": {
  "accelerator": "GPU",
  "colab": {
   "name": "IoT23 - DNN Opt.ipynb",
   "provenance": []
  },
  "kernelspec": {
   "display_name": "Python 3 (ipykernel)",
   "language": "python",
   "name": "python3"
  },
  "language_info": {
   "codemirror_mode": {
    "name": "ipython",
    "version": 3
   },
   "file_extension": ".py",
   "mimetype": "text/x-python",
   "name": "python",
   "nbconvert_exporter": "python",
   "pygments_lexer": "ipython3",
   "version": "3.9.7"
  }
 },
 "nbformat": 4,
 "nbformat_minor": 5
}
