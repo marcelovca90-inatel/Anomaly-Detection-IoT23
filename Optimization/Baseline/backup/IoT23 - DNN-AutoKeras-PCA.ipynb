{
 "cells": [
  {
   "cell_type": "code",
   "execution_count": 1,
   "id": "Kd-Bm8brf0Fz",
   "metadata": {
    "id": "Kd-Bm8brf0Fz"
   },
   "outputs": [],
   "source": [
    "import numpy as np\n",
    "import pandas as pd\n",
    "import tensorflow as tf\n",
    "import autokeras as ak\n",
    "import time\n",
    "from datetime import datetime\n",
    "from matplotlib import pyplot\n",
    "from sklearn.model_selection import train_test_split\n",
    "from sklearn.preprocessing import MinMaxScaler, StandardScaler"
   ]
  },
  {
   "cell_type": "code",
   "execution_count": 2,
   "id": "dc175db4",
   "metadata": {},
   "outputs": [
    {
     "name": "stdout",
     "output_type": "stream",
     "text": [
      "Execution started at 2022-02-19 00:23:46.\n"
     ]
    }
   ],
   "source": [
    "print(f\"Execution started at {datetime.now().strftime('%Y-%m-%d %H:%M:%S')}.\")"
   ]
  },
  {
   "cell_type": "code",
   "execution_count": 3,
   "id": "sFrfJQqBggzf",
   "metadata": {
    "colab": {
     "base_uri": "https://localhost:8080/"
    },
    "id": "sFrfJQqBggzf",
    "outputId": "64b59079-01a1-4024-af2b-cbdbabb36391"
   },
   "outputs": [
    {
     "name": "stdout",
     "output_type": "stream",
     "text": [
      "Please install GPU version of TensorFlow.\n",
      "\n",
      "TensorFlow version:  2.8.0\n",
      "WARNING:tensorflow:From C:\\Users\\marce\\AppData\\Local\\Temp/ipykernel_17332/4157264796.py:9: is_gpu_available (from tensorflow.python.framework.test_util) is deprecated and will be removed in a future version.\n",
      "Instructions for updating:\n",
      "Use `tf.config.list_physical_devices('GPU')` instead.\n",
      "\n",
      "Is GPU available? False\n",
      "\n",
      "Num GPUs Available:  0\n",
      "\n",
      "Physical Devices:  []\n",
      "\n",
      "Local devices: [name: \"/device:CPU:0\"\n",
      "device_type: \"CPU\"\n",
      "memory_limit: 268435456\n",
      "locality {\n",
      "}\n",
      "incarnation: 17748979567492494945\n",
      "xla_global_id: -1\n",
      "]\n"
     ]
    }
   ],
   "source": [
    "import tensorflow as tf\n",
    "if tf.test.gpu_device_name():\n",
    "    print('Default GPU Device: {}'.format(tf.test.gpu_device_name()))\n",
    "else:\n",
    "    print(\"Please install GPU version of TensorFlow.\")\n",
    "\n",
    "import tensorflow as tf\n",
    "print(\"\\nTensorFlow version: \", tf.__version__)\n",
    "print(\"\\nIs GPU available?\", tf.test.is_gpu_available())\n",
    "print(\"\\nNum GPUs Available: \", len(tf.config.experimental.list_physical_devices('GPU')))\n",
    "print(\"\\nPhysical Devices: \", tf.config.list_physical_devices('GPU'))\n",
    "\n",
    "from tensorflow.python.client import device_lib\n",
    "print(\"\\nLocal devices:\", device_lib.list_local_devices())"
   ]
  },
  {
   "cell_type": "code",
   "execution_count": 4,
   "id": "better-permit",
   "metadata": {
    "id": "better-permit"
   },
   "outputs": [],
   "source": [
    "filepath = \"../Data Preprocessing/iot23_combined_200k.csv\"\n",
    "df = pd.read_csv(filepath)"
   ]
  },
  {
   "cell_type": "code",
   "execution_count": 5,
   "id": "initial-biotechnology",
   "metadata": {
    "colab": {
     "base_uri": "https://localhost:8080/",
     "height": 505
    },
    "id": "initial-biotechnology",
    "outputId": "e027dfbe-1202-4a40-d0d4-fdbb083049ba"
   },
   "outputs": [
    {
     "data": {
      "text/html": [
       "<div>\n",
       "<style scoped>\n",
       "    .dataframe tbody tr th:only-of-type {\n",
       "        vertical-align: middle;\n",
       "    }\n",
       "\n",
       "    .dataframe tbody tr th {\n",
       "        vertical-align: top;\n",
       "    }\n",
       "\n",
       "    .dataframe thead th {\n",
       "        text-align: right;\n",
       "    }\n",
       "</style>\n",
       "<table border=\"1\" class=\"dataframe\">\n",
       "  <thead>\n",
       "    <tr style=\"text-align: right;\">\n",
       "      <th></th>\n",
       "      <th>Unnamed: 0</th>\n",
       "      <th>duration</th>\n",
       "      <th>orig_bytes</th>\n",
       "      <th>resp_bytes</th>\n",
       "      <th>missed_bytes</th>\n",
       "      <th>orig_pkts</th>\n",
       "      <th>orig_ip_bytes</th>\n",
       "      <th>resp_pkts</th>\n",
       "      <th>resp_ip_bytes</th>\n",
       "      <th>label</th>\n",
       "      <th>...</th>\n",
       "      <th>conn_state_RSTOS0</th>\n",
       "      <th>conn_state_RSTR</th>\n",
       "      <th>conn_state_RSTRH</th>\n",
       "      <th>conn_state_S0</th>\n",
       "      <th>conn_state_S1</th>\n",
       "      <th>conn_state_S2</th>\n",
       "      <th>conn_state_S3</th>\n",
       "      <th>conn_state_SF</th>\n",
       "      <th>conn_state_SH</th>\n",
       "      <th>conn_state_SHR</th>\n",
       "    </tr>\n",
       "  </thead>\n",
       "  <tbody>\n",
       "    <tr>\n",
       "      <th>0</th>\n",
       "      <td>0</td>\n",
       "      <td>2.998796</td>\n",
       "      <td>0</td>\n",
       "      <td>0</td>\n",
       "      <td>0.0</td>\n",
       "      <td>3.0</td>\n",
       "      <td>180.0</td>\n",
       "      <td>0.0</td>\n",
       "      <td>0.0</td>\n",
       "      <td>PartOfAHorizontalPortScan</td>\n",
       "      <td>...</td>\n",
       "      <td>0</td>\n",
       "      <td>0</td>\n",
       "      <td>0</td>\n",
       "      <td>1</td>\n",
       "      <td>0</td>\n",
       "      <td>0</td>\n",
       "      <td>0</td>\n",
       "      <td>0</td>\n",
       "      <td>0</td>\n",
       "      <td>0</td>\n",
       "    </tr>\n",
       "    <tr>\n",
       "      <th>1</th>\n",
       "      <td>1</td>\n",
       "      <td>0.000000</td>\n",
       "      <td>0</td>\n",
       "      <td>0</td>\n",
       "      <td>0.0</td>\n",
       "      <td>1.0</td>\n",
       "      <td>60.0</td>\n",
       "      <td>0.0</td>\n",
       "      <td>0.0</td>\n",
       "      <td>PartOfAHorizontalPortScan</td>\n",
       "      <td>...</td>\n",
       "      <td>0</td>\n",
       "      <td>0</td>\n",
       "      <td>0</td>\n",
       "      <td>1</td>\n",
       "      <td>0</td>\n",
       "      <td>0</td>\n",
       "      <td>0</td>\n",
       "      <td>0</td>\n",
       "      <td>0</td>\n",
       "      <td>0</td>\n",
       "    </tr>\n",
       "    <tr>\n",
       "      <th>2</th>\n",
       "      <td>2</td>\n",
       "      <td>0.000000</td>\n",
       "      <td>0</td>\n",
       "      <td>0</td>\n",
       "      <td>0.0</td>\n",
       "      <td>1.0</td>\n",
       "      <td>60.0</td>\n",
       "      <td>0.0</td>\n",
       "      <td>0.0</td>\n",
       "      <td>PartOfAHorizontalPortScan</td>\n",
       "      <td>...</td>\n",
       "      <td>0</td>\n",
       "      <td>0</td>\n",
       "      <td>0</td>\n",
       "      <td>1</td>\n",
       "      <td>0</td>\n",
       "      <td>0</td>\n",
       "      <td>0</td>\n",
       "      <td>0</td>\n",
       "      <td>0</td>\n",
       "      <td>0</td>\n",
       "    </tr>\n",
       "    <tr>\n",
       "      <th>3</th>\n",
       "      <td>3</td>\n",
       "      <td>2.998804</td>\n",
       "      <td>0</td>\n",
       "      <td>0</td>\n",
       "      <td>0.0</td>\n",
       "      <td>3.0</td>\n",
       "      <td>180.0</td>\n",
       "      <td>0.0</td>\n",
       "      <td>0.0</td>\n",
       "      <td>Benign</td>\n",
       "      <td>...</td>\n",
       "      <td>0</td>\n",
       "      <td>0</td>\n",
       "      <td>0</td>\n",
       "      <td>1</td>\n",
       "      <td>0</td>\n",
       "      <td>0</td>\n",
       "      <td>0</td>\n",
       "      <td>0</td>\n",
       "      <td>0</td>\n",
       "      <td>0</td>\n",
       "    </tr>\n",
       "    <tr>\n",
       "      <th>4</th>\n",
       "      <td>4</td>\n",
       "      <td>0.000000</td>\n",
       "      <td>0</td>\n",
       "      <td>0</td>\n",
       "      <td>0.0</td>\n",
       "      <td>1.0</td>\n",
       "      <td>60.0</td>\n",
       "      <td>0.0</td>\n",
       "      <td>0.0</td>\n",
       "      <td>Benign</td>\n",
       "      <td>...</td>\n",
       "      <td>0</td>\n",
       "      <td>0</td>\n",
       "      <td>0</td>\n",
       "      <td>1</td>\n",
       "      <td>0</td>\n",
       "      <td>0</td>\n",
       "      <td>0</td>\n",
       "      <td>0</td>\n",
       "      <td>0</td>\n",
       "      <td>0</td>\n",
       "    </tr>\n",
       "    <tr>\n",
       "      <th>...</th>\n",
       "      <td>...</td>\n",
       "      <td>...</td>\n",
       "      <td>...</td>\n",
       "      <td>...</td>\n",
       "      <td>...</td>\n",
       "      <td>...</td>\n",
       "      <td>...</td>\n",
       "      <td>...</td>\n",
       "      <td>...</td>\n",
       "      <td>...</td>\n",
       "      <td>...</td>\n",
       "      <td>...</td>\n",
       "      <td>...</td>\n",
       "      <td>...</td>\n",
       "      <td>...</td>\n",
       "      <td>...</td>\n",
       "      <td>...</td>\n",
       "      <td>...</td>\n",
       "      <td>...</td>\n",
       "      <td>...</td>\n",
       "      <td>...</td>\n",
       "    </tr>\n",
       "    <tr>\n",
       "      <th>2800770</th>\n",
       "      <td>199994</td>\n",
       "      <td>0.000000</td>\n",
       "      <td>0</td>\n",
       "      <td>0</td>\n",
       "      <td>0.0</td>\n",
       "      <td>1.0</td>\n",
       "      <td>40.0</td>\n",
       "      <td>0.0</td>\n",
       "      <td>0.0</td>\n",
       "      <td>PartOfAHorizontalPortScan</td>\n",
       "      <td>...</td>\n",
       "      <td>0</td>\n",
       "      <td>0</td>\n",
       "      <td>0</td>\n",
       "      <td>1</td>\n",
       "      <td>0</td>\n",
       "      <td>0</td>\n",
       "      <td>0</td>\n",
       "      <td>0</td>\n",
       "      <td>0</td>\n",
       "      <td>0</td>\n",
       "    </tr>\n",
       "    <tr>\n",
       "      <th>2800771</th>\n",
       "      <td>199995</td>\n",
       "      <td>0.000000</td>\n",
       "      <td>0</td>\n",
       "      <td>0</td>\n",
       "      <td>0.0</td>\n",
       "      <td>1.0</td>\n",
       "      <td>40.0</td>\n",
       "      <td>0.0</td>\n",
       "      <td>0.0</td>\n",
       "      <td>PartOfAHorizontalPortScan</td>\n",
       "      <td>...</td>\n",
       "      <td>0</td>\n",
       "      <td>0</td>\n",
       "      <td>0</td>\n",
       "      <td>1</td>\n",
       "      <td>0</td>\n",
       "      <td>0</td>\n",
       "      <td>0</td>\n",
       "      <td>0</td>\n",
       "      <td>0</td>\n",
       "      <td>0</td>\n",
       "    </tr>\n",
       "    <tr>\n",
       "      <th>2800772</th>\n",
       "      <td>199996</td>\n",
       "      <td>0.000000</td>\n",
       "      <td>0</td>\n",
       "      <td>0</td>\n",
       "      <td>0.0</td>\n",
       "      <td>1.0</td>\n",
       "      <td>40.0</td>\n",
       "      <td>0.0</td>\n",
       "      <td>0.0</td>\n",
       "      <td>PartOfAHorizontalPortScan</td>\n",
       "      <td>...</td>\n",
       "      <td>0</td>\n",
       "      <td>0</td>\n",
       "      <td>0</td>\n",
       "      <td>1</td>\n",
       "      <td>0</td>\n",
       "      <td>0</td>\n",
       "      <td>0</td>\n",
       "      <td>0</td>\n",
       "      <td>0</td>\n",
       "      <td>0</td>\n",
       "    </tr>\n",
       "    <tr>\n",
       "      <th>2800773</th>\n",
       "      <td>199997</td>\n",
       "      <td>0.000000</td>\n",
       "      <td>0</td>\n",
       "      <td>0</td>\n",
       "      <td>0.0</td>\n",
       "      <td>1.0</td>\n",
       "      <td>40.0</td>\n",
       "      <td>0.0</td>\n",
       "      <td>0.0</td>\n",
       "      <td>PartOfAHorizontalPortScan</td>\n",
       "      <td>...</td>\n",
       "      <td>0</td>\n",
       "      <td>0</td>\n",
       "      <td>0</td>\n",
       "      <td>1</td>\n",
       "      <td>0</td>\n",
       "      <td>0</td>\n",
       "      <td>0</td>\n",
       "      <td>0</td>\n",
       "      <td>0</td>\n",
       "      <td>0</td>\n",
       "    </tr>\n",
       "    <tr>\n",
       "      <th>2800774</th>\n",
       "      <td>199998</td>\n",
       "      <td>0.000000</td>\n",
       "      <td>0</td>\n",
       "      <td>0</td>\n",
       "      <td>0.0</td>\n",
       "      <td>1.0</td>\n",
       "      <td>40.0</td>\n",
       "      <td>0.0</td>\n",
       "      <td>0.0</td>\n",
       "      <td>PartOfAHorizontalPortScan</td>\n",
       "      <td>...</td>\n",
       "      <td>0</td>\n",
       "      <td>0</td>\n",
       "      <td>0</td>\n",
       "      <td>1</td>\n",
       "      <td>0</td>\n",
       "      <td>0</td>\n",
       "      <td>0</td>\n",
       "      <td>0</td>\n",
       "      <td>0</td>\n",
       "      <td>0</td>\n",
       "    </tr>\n",
       "  </tbody>\n",
       "</table>\n",
       "<p>2800775 rows × 26 columns</p>\n",
       "</div>"
      ],
      "text/plain": [
       "         Unnamed: 0  duration  orig_bytes  resp_bytes  missed_bytes  \\\n",
       "0                 0  2.998796           0           0           0.0   \n",
       "1                 1  0.000000           0           0           0.0   \n",
       "2                 2  0.000000           0           0           0.0   \n",
       "3                 3  2.998804           0           0           0.0   \n",
       "4                 4  0.000000           0           0           0.0   \n",
       "...             ...       ...         ...         ...           ...   \n",
       "2800770      199994  0.000000           0           0           0.0   \n",
       "2800771      199995  0.000000           0           0           0.0   \n",
       "2800772      199996  0.000000           0           0           0.0   \n",
       "2800773      199997  0.000000           0           0           0.0   \n",
       "2800774      199998  0.000000           0           0           0.0   \n",
       "\n",
       "         orig_pkts  orig_ip_bytes  resp_pkts  resp_ip_bytes  \\\n",
       "0              3.0          180.0        0.0            0.0   \n",
       "1              1.0           60.0        0.0            0.0   \n",
       "2              1.0           60.0        0.0            0.0   \n",
       "3              3.0          180.0        0.0            0.0   \n",
       "4              1.0           60.0        0.0            0.0   \n",
       "...            ...            ...        ...            ...   \n",
       "2800770        1.0           40.0        0.0            0.0   \n",
       "2800771        1.0           40.0        0.0            0.0   \n",
       "2800772        1.0           40.0        0.0            0.0   \n",
       "2800773        1.0           40.0        0.0            0.0   \n",
       "2800774        1.0           40.0        0.0            0.0   \n",
       "\n",
       "                             label  ...  conn_state_RSTOS0  conn_state_RSTR  \\\n",
       "0        PartOfAHorizontalPortScan  ...                  0                0   \n",
       "1        PartOfAHorizontalPortScan  ...                  0                0   \n",
       "2        PartOfAHorizontalPortScan  ...                  0                0   \n",
       "3                           Benign  ...                  0                0   \n",
       "4                           Benign  ...                  0                0   \n",
       "...                            ...  ...                ...              ...   \n",
       "2800770  PartOfAHorizontalPortScan  ...                  0                0   \n",
       "2800771  PartOfAHorizontalPortScan  ...                  0                0   \n",
       "2800772  PartOfAHorizontalPortScan  ...                  0                0   \n",
       "2800773  PartOfAHorizontalPortScan  ...                  0                0   \n",
       "2800774  PartOfAHorizontalPortScan  ...                  0                0   \n",
       "\n",
       "         conn_state_RSTRH  conn_state_S0  conn_state_S1  conn_state_S2  \\\n",
       "0                       0              1              0              0   \n",
       "1                       0              1              0              0   \n",
       "2                       0              1              0              0   \n",
       "3                       0              1              0              0   \n",
       "4                       0              1              0              0   \n",
       "...                   ...            ...            ...            ...   \n",
       "2800770                 0              1              0              0   \n",
       "2800771                 0              1              0              0   \n",
       "2800772                 0              1              0              0   \n",
       "2800773                 0              1              0              0   \n",
       "2800774                 0              1              0              0   \n",
       "\n",
       "         conn_state_S3  conn_state_SF  conn_state_SH  conn_state_SHR  \n",
       "0                    0              0              0               0  \n",
       "1                    0              0              0               0  \n",
       "2                    0              0              0               0  \n",
       "3                    0              0              0               0  \n",
       "4                    0              0              0               0  \n",
       "...                ...            ...            ...             ...  \n",
       "2800770              0              0              0               0  \n",
       "2800771              0              0              0               0  \n",
       "2800772              0              0              0               0  \n",
       "2800773              0              0              0               0  \n",
       "2800774              0              0              0               0  \n",
       "\n",
       "[2800775 rows x 26 columns]"
      ]
     },
     "execution_count": 5,
     "metadata": {},
     "output_type": "execute_result"
    }
   ],
   "source": [
    "df"
   ]
  },
  {
   "cell_type": "code",
   "execution_count": 6,
   "id": "paperback-heritage",
   "metadata": {
    "id": "paperback-heritage"
   },
   "outputs": [],
   "source": [
    "del df['Unnamed: 0']"
   ]
  },
  {
   "cell_type": "code",
   "execution_count": 7,
   "id": "inside-north",
   "metadata": {
    "colab": {
     "base_uri": "https://localhost:8080/"
    },
    "id": "inside-north",
    "outputId": "e2ccfd8b-0e5b-486d-ee29-432dbeeddad2",
    "scrolled": true
   },
   "outputs": [
    {
     "data": {
      "text/plain": [
       "PartOfAHorizontalPortScan     1610568\n",
       "Okiru                          525051\n",
       "Benign                         379408\n",
       "DDoS                           263740\n",
       "C&C                             15153\n",
       "Attack                           6161\n",
       "C&C-HeartBeat                     593\n",
       "C&C-FileDownload                   46\n",
       "C&C-Torii                          30\n",
       "FileDownload                       13\n",
       "C&C-HeartBeat-FileDownload          8\n",
       "Okiru-Attack                        3\n",
       "C&C-Mirai                           1\n",
       "Name: label, dtype: int64"
      ]
     },
     "execution_count": 7,
     "metadata": {},
     "output_type": "execute_result"
    }
   ],
   "source": [
    "df['label'].value_counts()"
   ]
  },
  {
   "cell_type": "code",
   "execution_count": 8,
   "id": "210006fd",
   "metadata": {
    "scrolled": true
   },
   "outputs": [],
   "source": [
    "# keep only top 4 labels\n",
    "for label in df['label'].value_counts()[4:].index:\n",
    "    df.drop(df[df.label == label].index, inplace=True)"
   ]
  },
  {
   "cell_type": "code",
   "execution_count": 9,
   "id": "10219c0d",
   "metadata": {},
   "outputs": [
    {
     "data": {
      "text/plain": [
       "PartOfAHorizontalPortScan    1610568\n",
       "Okiru                         525051\n",
       "Benign                        379408\n",
       "DDoS                          263740\n",
       "Name: label, dtype: int64"
      ]
     },
     "execution_count": 9,
     "metadata": {},
     "output_type": "execute_result"
    }
   ],
   "source": [
    "df['label'].value_counts()"
   ]
  },
  {
   "cell_type": "code",
   "execution_count": 10,
   "id": "steady-hotel",
   "metadata": {
    "id": "steady-hotel"
   },
   "outputs": [],
   "source": [
    "X = df[['duration', 'orig_bytes', 'resp_bytes', 'missed_bytes', 'orig_pkts', 'orig_ip_bytes', 'resp_pkts', 'resp_ip_bytes', 'proto_icmp', 'proto_tcp', 'proto_udp', 'conn_state_OTH', 'conn_state_REJ', 'conn_state_RSTO', 'conn_state_RSTOS0', 'conn_state_RSTR', 'conn_state_RSTRH', 'conn_state_S0', 'conn_state_S1', 'conn_state_S2', 'conn_state_S3', 'conn_state_SF', 'conn_state_SH', 'conn_state_SHR']].values"
   ]
  },
  {
   "cell_type": "code",
   "execution_count": 11,
   "id": "cloudy-press",
   "metadata": {
    "colab": {
     "base_uri": "https://localhost:8080/"
    },
    "id": "cloudy-press",
    "outputId": "febf445c-d2dd-43d8-f68e-910fec43434e"
   },
   "outputs": [
    {
     "data": {
      "text/plain": [
       "(2778767, 24)"
      ]
     },
     "execution_count": 11,
     "metadata": {},
     "output_type": "execute_result"
    }
   ],
   "source": [
    "X.shape"
   ]
  },
  {
   "cell_type": "code",
   "execution_count": 12,
   "id": "published-store",
   "metadata": {
    "id": "published-store"
   },
   "outputs": [],
   "source": [
    "Y = pd.get_dummies(df['label']).values"
   ]
  },
  {
   "cell_type": "code",
   "execution_count": 13,
   "id": "hearing-arena",
   "metadata": {
    "colab": {
     "base_uri": "https://localhost:8080/"
    },
    "id": "hearing-arena",
    "outputId": "1f03cd3e-b0df-49b4-cefc-1ca5475886f4"
   },
   "outputs": [
    {
     "data": {
      "text/plain": [
       "(2778767, 4)"
      ]
     },
     "execution_count": 13,
     "metadata": {},
     "output_type": "execute_result"
    }
   ],
   "source": [
    "Y.shape"
   ]
  },
  {
   "cell_type": "code",
   "execution_count": 14,
   "id": "green-schema",
   "metadata": {
    "colab": {
     "base_uri": "https://localhost:8080/",
     "height": 488
    },
    "id": "green-schema",
    "outputId": "b4b07e01-9bb8-4483-ea97-ffca33a201c6"
   },
   "outputs": [
    {
     "data": {
      "text/html": [
       "<div>\n",
       "<style scoped>\n",
       "    .dataframe tbody tr th:only-of-type {\n",
       "        vertical-align: middle;\n",
       "    }\n",
       "\n",
       "    .dataframe tbody tr th {\n",
       "        vertical-align: top;\n",
       "    }\n",
       "\n",
       "    .dataframe thead th {\n",
       "        text-align: right;\n",
       "    }\n",
       "</style>\n",
       "<table border=\"1\" class=\"dataframe\">\n",
       "  <thead>\n",
       "    <tr style=\"text-align: right;\">\n",
       "      <th></th>\n",
       "      <th>duration</th>\n",
       "      <th>orig_bytes</th>\n",
       "      <th>resp_bytes</th>\n",
       "      <th>missed_bytes</th>\n",
       "      <th>orig_pkts</th>\n",
       "      <th>orig_ip_bytes</th>\n",
       "      <th>resp_pkts</th>\n",
       "      <th>resp_ip_bytes</th>\n",
       "      <th>label</th>\n",
       "      <th>proto_icmp</th>\n",
       "      <th>...</th>\n",
       "      <th>conn_state_RSTOS0</th>\n",
       "      <th>conn_state_RSTR</th>\n",
       "      <th>conn_state_RSTRH</th>\n",
       "      <th>conn_state_S0</th>\n",
       "      <th>conn_state_S1</th>\n",
       "      <th>conn_state_S2</th>\n",
       "      <th>conn_state_S3</th>\n",
       "      <th>conn_state_SF</th>\n",
       "      <th>conn_state_SH</th>\n",
       "      <th>conn_state_SHR</th>\n",
       "    </tr>\n",
       "  </thead>\n",
       "  <tbody>\n",
       "    <tr>\n",
       "      <th>0</th>\n",
       "      <td>2.998796</td>\n",
       "      <td>0</td>\n",
       "      <td>0</td>\n",
       "      <td>0.0</td>\n",
       "      <td>3.0</td>\n",
       "      <td>180.0</td>\n",
       "      <td>0.0</td>\n",
       "      <td>0.0</td>\n",
       "      <td>PartOfAHorizontalPortScan</td>\n",
       "      <td>0</td>\n",
       "      <td>...</td>\n",
       "      <td>0</td>\n",
       "      <td>0</td>\n",
       "      <td>0</td>\n",
       "      <td>1</td>\n",
       "      <td>0</td>\n",
       "      <td>0</td>\n",
       "      <td>0</td>\n",
       "      <td>0</td>\n",
       "      <td>0</td>\n",
       "      <td>0</td>\n",
       "    </tr>\n",
       "    <tr>\n",
       "      <th>1</th>\n",
       "      <td>0.000000</td>\n",
       "      <td>0</td>\n",
       "      <td>0</td>\n",
       "      <td>0.0</td>\n",
       "      <td>1.0</td>\n",
       "      <td>60.0</td>\n",
       "      <td>0.0</td>\n",
       "      <td>0.0</td>\n",
       "      <td>PartOfAHorizontalPortScan</td>\n",
       "      <td>0</td>\n",
       "      <td>...</td>\n",
       "      <td>0</td>\n",
       "      <td>0</td>\n",
       "      <td>0</td>\n",
       "      <td>1</td>\n",
       "      <td>0</td>\n",
       "      <td>0</td>\n",
       "      <td>0</td>\n",
       "      <td>0</td>\n",
       "      <td>0</td>\n",
       "      <td>0</td>\n",
       "    </tr>\n",
       "    <tr>\n",
       "      <th>2</th>\n",
       "      <td>0.000000</td>\n",
       "      <td>0</td>\n",
       "      <td>0</td>\n",
       "      <td>0.0</td>\n",
       "      <td>1.0</td>\n",
       "      <td>60.0</td>\n",
       "      <td>0.0</td>\n",
       "      <td>0.0</td>\n",
       "      <td>PartOfAHorizontalPortScan</td>\n",
       "      <td>0</td>\n",
       "      <td>...</td>\n",
       "      <td>0</td>\n",
       "      <td>0</td>\n",
       "      <td>0</td>\n",
       "      <td>1</td>\n",
       "      <td>0</td>\n",
       "      <td>0</td>\n",
       "      <td>0</td>\n",
       "      <td>0</td>\n",
       "      <td>0</td>\n",
       "      <td>0</td>\n",
       "    </tr>\n",
       "    <tr>\n",
       "      <th>3</th>\n",
       "      <td>2.998804</td>\n",
       "      <td>0</td>\n",
       "      <td>0</td>\n",
       "      <td>0.0</td>\n",
       "      <td>3.0</td>\n",
       "      <td>180.0</td>\n",
       "      <td>0.0</td>\n",
       "      <td>0.0</td>\n",
       "      <td>Benign</td>\n",
       "      <td>0</td>\n",
       "      <td>...</td>\n",
       "      <td>0</td>\n",
       "      <td>0</td>\n",
       "      <td>0</td>\n",
       "      <td>1</td>\n",
       "      <td>0</td>\n",
       "      <td>0</td>\n",
       "      <td>0</td>\n",
       "      <td>0</td>\n",
       "      <td>0</td>\n",
       "      <td>0</td>\n",
       "    </tr>\n",
       "    <tr>\n",
       "      <th>4</th>\n",
       "      <td>0.000000</td>\n",
       "      <td>0</td>\n",
       "      <td>0</td>\n",
       "      <td>0.0</td>\n",
       "      <td>1.0</td>\n",
       "      <td>60.0</td>\n",
       "      <td>0.0</td>\n",
       "      <td>0.0</td>\n",
       "      <td>Benign</td>\n",
       "      <td>0</td>\n",
       "      <td>...</td>\n",
       "      <td>0</td>\n",
       "      <td>0</td>\n",
       "      <td>0</td>\n",
       "      <td>1</td>\n",
       "      <td>0</td>\n",
       "      <td>0</td>\n",
       "      <td>0</td>\n",
       "      <td>0</td>\n",
       "      <td>0</td>\n",
       "      <td>0</td>\n",
       "    </tr>\n",
       "    <tr>\n",
       "      <th>...</th>\n",
       "      <td>...</td>\n",
       "      <td>...</td>\n",
       "      <td>...</td>\n",
       "      <td>...</td>\n",
       "      <td>...</td>\n",
       "      <td>...</td>\n",
       "      <td>...</td>\n",
       "      <td>...</td>\n",
       "      <td>...</td>\n",
       "      <td>...</td>\n",
       "      <td>...</td>\n",
       "      <td>...</td>\n",
       "      <td>...</td>\n",
       "      <td>...</td>\n",
       "      <td>...</td>\n",
       "      <td>...</td>\n",
       "      <td>...</td>\n",
       "      <td>...</td>\n",
       "      <td>...</td>\n",
       "      <td>...</td>\n",
       "      <td>...</td>\n",
       "    </tr>\n",
       "    <tr>\n",
       "      <th>2800770</th>\n",
       "      <td>0.000000</td>\n",
       "      <td>0</td>\n",
       "      <td>0</td>\n",
       "      <td>0.0</td>\n",
       "      <td>1.0</td>\n",
       "      <td>40.0</td>\n",
       "      <td>0.0</td>\n",
       "      <td>0.0</td>\n",
       "      <td>PartOfAHorizontalPortScan</td>\n",
       "      <td>0</td>\n",
       "      <td>...</td>\n",
       "      <td>0</td>\n",
       "      <td>0</td>\n",
       "      <td>0</td>\n",
       "      <td>1</td>\n",
       "      <td>0</td>\n",
       "      <td>0</td>\n",
       "      <td>0</td>\n",
       "      <td>0</td>\n",
       "      <td>0</td>\n",
       "      <td>0</td>\n",
       "    </tr>\n",
       "    <tr>\n",
       "      <th>2800771</th>\n",
       "      <td>0.000000</td>\n",
       "      <td>0</td>\n",
       "      <td>0</td>\n",
       "      <td>0.0</td>\n",
       "      <td>1.0</td>\n",
       "      <td>40.0</td>\n",
       "      <td>0.0</td>\n",
       "      <td>0.0</td>\n",
       "      <td>PartOfAHorizontalPortScan</td>\n",
       "      <td>0</td>\n",
       "      <td>...</td>\n",
       "      <td>0</td>\n",
       "      <td>0</td>\n",
       "      <td>0</td>\n",
       "      <td>1</td>\n",
       "      <td>0</td>\n",
       "      <td>0</td>\n",
       "      <td>0</td>\n",
       "      <td>0</td>\n",
       "      <td>0</td>\n",
       "      <td>0</td>\n",
       "    </tr>\n",
       "    <tr>\n",
       "      <th>2800772</th>\n",
       "      <td>0.000000</td>\n",
       "      <td>0</td>\n",
       "      <td>0</td>\n",
       "      <td>0.0</td>\n",
       "      <td>1.0</td>\n",
       "      <td>40.0</td>\n",
       "      <td>0.0</td>\n",
       "      <td>0.0</td>\n",
       "      <td>PartOfAHorizontalPortScan</td>\n",
       "      <td>0</td>\n",
       "      <td>...</td>\n",
       "      <td>0</td>\n",
       "      <td>0</td>\n",
       "      <td>0</td>\n",
       "      <td>1</td>\n",
       "      <td>0</td>\n",
       "      <td>0</td>\n",
       "      <td>0</td>\n",
       "      <td>0</td>\n",
       "      <td>0</td>\n",
       "      <td>0</td>\n",
       "    </tr>\n",
       "    <tr>\n",
       "      <th>2800773</th>\n",
       "      <td>0.000000</td>\n",
       "      <td>0</td>\n",
       "      <td>0</td>\n",
       "      <td>0.0</td>\n",
       "      <td>1.0</td>\n",
       "      <td>40.0</td>\n",
       "      <td>0.0</td>\n",
       "      <td>0.0</td>\n",
       "      <td>PartOfAHorizontalPortScan</td>\n",
       "      <td>0</td>\n",
       "      <td>...</td>\n",
       "      <td>0</td>\n",
       "      <td>0</td>\n",
       "      <td>0</td>\n",
       "      <td>1</td>\n",
       "      <td>0</td>\n",
       "      <td>0</td>\n",
       "      <td>0</td>\n",
       "      <td>0</td>\n",
       "      <td>0</td>\n",
       "      <td>0</td>\n",
       "    </tr>\n",
       "    <tr>\n",
       "      <th>2800774</th>\n",
       "      <td>0.000000</td>\n",
       "      <td>0</td>\n",
       "      <td>0</td>\n",
       "      <td>0.0</td>\n",
       "      <td>1.0</td>\n",
       "      <td>40.0</td>\n",
       "      <td>0.0</td>\n",
       "      <td>0.0</td>\n",
       "      <td>PartOfAHorizontalPortScan</td>\n",
       "      <td>0</td>\n",
       "      <td>...</td>\n",
       "      <td>0</td>\n",
       "      <td>0</td>\n",
       "      <td>0</td>\n",
       "      <td>1</td>\n",
       "      <td>0</td>\n",
       "      <td>0</td>\n",
       "      <td>0</td>\n",
       "      <td>0</td>\n",
       "      <td>0</td>\n",
       "      <td>0</td>\n",
       "    </tr>\n",
       "  </tbody>\n",
       "</table>\n",
       "<p>2778767 rows × 25 columns</p>\n",
       "</div>"
      ],
      "text/plain": [
       "         duration  orig_bytes  resp_bytes  missed_bytes  orig_pkts  \\\n",
       "0        2.998796           0           0           0.0        3.0   \n",
       "1        0.000000           0           0           0.0        1.0   \n",
       "2        0.000000           0           0           0.0        1.0   \n",
       "3        2.998804           0           0           0.0        3.0   \n",
       "4        0.000000           0           0           0.0        1.0   \n",
       "...           ...         ...         ...           ...        ...   \n",
       "2800770  0.000000           0           0           0.0        1.0   \n",
       "2800771  0.000000           0           0           0.0        1.0   \n",
       "2800772  0.000000           0           0           0.0        1.0   \n",
       "2800773  0.000000           0           0           0.0        1.0   \n",
       "2800774  0.000000           0           0           0.0        1.0   \n",
       "\n",
       "         orig_ip_bytes  resp_pkts  resp_ip_bytes                      label  \\\n",
       "0                180.0        0.0            0.0  PartOfAHorizontalPortScan   \n",
       "1                 60.0        0.0            0.0  PartOfAHorizontalPortScan   \n",
       "2                 60.0        0.0            0.0  PartOfAHorizontalPortScan   \n",
       "3                180.0        0.0            0.0                     Benign   \n",
       "4                 60.0        0.0            0.0                     Benign   \n",
       "...                ...        ...            ...                        ...   \n",
       "2800770           40.0        0.0            0.0  PartOfAHorizontalPortScan   \n",
       "2800771           40.0        0.0            0.0  PartOfAHorizontalPortScan   \n",
       "2800772           40.0        0.0            0.0  PartOfAHorizontalPortScan   \n",
       "2800773           40.0        0.0            0.0  PartOfAHorizontalPortScan   \n",
       "2800774           40.0        0.0            0.0  PartOfAHorizontalPortScan   \n",
       "\n",
       "         proto_icmp  ...  conn_state_RSTOS0  conn_state_RSTR  \\\n",
       "0                 0  ...                  0                0   \n",
       "1                 0  ...                  0                0   \n",
       "2                 0  ...                  0                0   \n",
       "3                 0  ...                  0                0   \n",
       "4                 0  ...                  0                0   \n",
       "...             ...  ...                ...              ...   \n",
       "2800770           0  ...                  0                0   \n",
       "2800771           0  ...                  0                0   \n",
       "2800772           0  ...                  0                0   \n",
       "2800773           0  ...                  0                0   \n",
       "2800774           0  ...                  0                0   \n",
       "\n",
       "         conn_state_RSTRH  conn_state_S0  conn_state_S1  conn_state_S2  \\\n",
       "0                       0              1              0              0   \n",
       "1                       0              1              0              0   \n",
       "2                       0              1              0              0   \n",
       "3                       0              1              0              0   \n",
       "4                       0              1              0              0   \n",
       "...                   ...            ...            ...            ...   \n",
       "2800770                 0              1              0              0   \n",
       "2800771                 0              1              0              0   \n",
       "2800772                 0              1              0              0   \n",
       "2800773                 0              1              0              0   \n",
       "2800774                 0              1              0              0   \n",
       "\n",
       "         conn_state_S3  conn_state_SF  conn_state_SH  conn_state_SHR  \n",
       "0                    0              0              0               0  \n",
       "1                    0              0              0               0  \n",
       "2                    0              0              0               0  \n",
       "3                    0              0              0               0  \n",
       "4                    0              0              0               0  \n",
       "...                ...            ...            ...             ...  \n",
       "2800770              0              0              0               0  \n",
       "2800771              0              0              0               0  \n",
       "2800772              0              0              0               0  \n",
       "2800773              0              0              0               0  \n",
       "2800774              0              0              0               0  \n",
       "\n",
       "[2778767 rows x 25 columns]"
      ]
     },
     "execution_count": 14,
     "metadata": {},
     "output_type": "execute_result"
    }
   ],
   "source": [
    "df"
   ]
  },
  {
   "cell_type": "code",
   "execution_count": 15,
   "id": "historic-generator",
   "metadata": {
    "id": "historic-generator"
   },
   "outputs": [],
   "source": [
    "scaler = MinMaxScaler()"
   ]
  },
  {
   "cell_type": "code",
   "execution_count": 16,
   "id": "approved-aircraft",
   "metadata": {
    "colab": {
     "base_uri": "https://localhost:8080/"
    },
    "id": "approved-aircraft",
    "outputId": "98f51894-1a7d-4cba-8993-12f03a5e603c"
   },
   "outputs": [
    {
     "data": {
      "text/plain": [
       "MinMaxScaler()"
      ]
     },
     "execution_count": 16,
     "metadata": {},
     "output_type": "execute_result"
    }
   ],
   "source": [
    "scaler.fit(X)"
   ]
  },
  {
   "cell_type": "code",
   "execution_count": 17,
   "id": "fiscal-aluminum",
   "metadata": {
    "id": "fiscal-aluminum"
   },
   "outputs": [],
   "source": [
    "normalized_x = scaler.transform(X)"
   ]
  },
  {
   "cell_type": "code",
   "execution_count": 18,
   "id": "related-efficiency",
   "metadata": {
    "colab": {
     "base_uri": "https://localhost:8080/"
    },
    "id": "related-efficiency",
    "outputId": "c54c973d-668e-4381-a96c-7a3460800aba"
   },
   "outputs": [
    {
     "data": {
      "text/plain": [
       "array([[1.33257122e-04, 5.73121586e-10, 8.57558209e-08, ...,\n",
       "        0.00000000e+00, 0.00000000e+00, 0.00000000e+00],\n",
       "       [3.33243111e-05, 5.73121586e-10, 8.57558209e-08, ...,\n",
       "        0.00000000e+00, 0.00000000e+00, 0.00000000e+00],\n",
       "       [3.33243111e-05, 5.73121586e-10, 8.57558209e-08, ...,\n",
       "        0.00000000e+00, 0.00000000e+00, 0.00000000e+00],\n",
       "       ...,\n",
       "       [3.33243111e-05, 5.73121586e-10, 8.57558209e-08, ...,\n",
       "        0.00000000e+00, 0.00000000e+00, 0.00000000e+00],\n",
       "       [3.33243111e-05, 5.73121586e-10, 8.57558209e-08, ...,\n",
       "        0.00000000e+00, 0.00000000e+00, 0.00000000e+00],\n",
       "       [3.33243111e-05, 5.73121586e-10, 8.57558209e-08, ...,\n",
       "        0.00000000e+00, 0.00000000e+00, 0.00000000e+00]])"
      ]
     },
     "execution_count": 18,
     "metadata": {},
     "output_type": "execute_result"
    }
   ],
   "source": [
    "normalized_x"
   ]
  },
  {
   "cell_type": "code",
   "execution_count": 19,
   "id": "numeric-trainer",
   "metadata": {
    "colab": {
     "base_uri": "https://localhost:8080/"
    },
    "id": "numeric-trainer",
    "outputId": "f94e8a24-bf1d-433c-9626-ec4c815603df"
   },
   "outputs": [
    {
     "data": {
      "text/plain": [
       "(2778767, 24)"
      ]
     },
     "execution_count": 19,
     "metadata": {},
     "output_type": "execute_result"
    }
   ],
   "source": [
    "normalized_x.shape"
   ]
  },
  {
   "cell_type": "code",
   "execution_count": 20,
   "id": "legislative-jamaica",
   "metadata": {
    "colab": {
     "base_uri": "https://localhost:8080/"
    },
    "id": "legislative-jamaica",
    "outputId": "0c494ff1-4510-4068-96aa-77899772356e"
   },
   "outputs": [
    {
     "data": {
      "text/plain": [
       "MinMaxScaler()"
      ]
     },
     "execution_count": 20,
     "metadata": {},
     "output_type": "execute_result"
    }
   ],
   "source": [
    "scaler.fit(Y)"
   ]
  },
  {
   "cell_type": "code",
   "execution_count": 21,
   "id": "strange-tobacco",
   "metadata": {
    "id": "strange-tobacco"
   },
   "outputs": [],
   "source": [
    "normalized_y = Y#scaler.transform(Y)"
   ]
  },
  {
   "cell_type": "code",
   "execution_count": 22,
   "id": "quarterly-chile",
   "metadata": {
    "colab": {
     "base_uri": "https://localhost:8080/"
    },
    "id": "quarterly-chile",
    "outputId": "04f1d718-cb81-4728-a9a8-d853d8d41be7"
   },
   "outputs": [
    {
     "data": {
      "text/plain": [
       "array([[0, 0, 0, 1],\n",
       "       [0, 0, 0, 1],\n",
       "       [0, 0, 0, 1],\n",
       "       ...,\n",
       "       [0, 0, 0, 1],\n",
       "       [0, 0, 0, 1],\n",
       "       [0, 0, 0, 1]], dtype=uint8)"
      ]
     },
     "execution_count": 22,
     "metadata": {},
     "output_type": "execute_result"
    }
   ],
   "source": [
    "normalized_y"
   ]
  },
  {
   "cell_type": "code",
   "execution_count": 23,
   "id": "7_i59sySXNG6",
   "metadata": {
    "colab": {
     "base_uri": "https://localhost:8080/"
    },
    "id": "7_i59sySXNG6",
    "outputId": "0f84a9d7-0080-4b1d-94a0-070fcfb8c812"
   },
   "outputs": [
    {
     "name": "stdout",
     "output_type": "stream",
     "text": [
      "Components: [[ 7.86242493e-06 -5.08794039e-07  2.19994263e-06  1.74038118e-05\n",
      "  -8.89554486e-07 -1.33402953e-06  1.64450342e-05  2.59240440e-06\n",
      "   2.21964239e-02 -2.35836249e-02  1.38720104e-03  6.90481261e-01\n",
      "   6.42248254e-03  2.55352930e-04  8.31483756e-05  8.69082288e-04\n",
      "   1.31271682e-05 -7.22237338e-01  6.56415578e-05  7.14770504e-05\n",
      "   1.27599921e-03  2.26792251e-02  1.75030178e-05  3.03777019e-06]\n",
      " [ 2.09888875e-05  1.63996998e-05  1.14196257e-06  5.45711434e-06\n",
      "   2.80456995e-05  4.20160174e-05  1.66267420e-05  1.43889303e-06\n",
      "   2.42379051e-02 -7.13308809e-01  6.89070903e-01 -6.60621415e-02\n",
      "  -3.03428284e-04 -1.19134732e-05 -3.87794593e-06 -4.05974379e-05\n",
      "  -6.12149421e-07 -3.46251686e-02 -3.06130210e-06 -3.33351423e-06\n",
      "  -5.96550298e-05  1.01099691e-01 -8.16212502e-07  1.49149354e-05]\n",
      " [ 4.59246308e-05 -1.86307830e-05  7.88041878e-05  6.73035867e-04\n",
      "  -3.18623538e-05 -4.77083381e-05  5.10695968e-04  9.12137013e-05\n",
      "  -8.40500901e-02  1.26214932e-01 -4.21648419e-02 -4.70795970e-01\n",
      "   1.20055341e-01  3.81106427e-03  1.23401551e-03  1.32363275e-02\n",
      "   1.94379571e-04 -4.32439668e-01  9.73641826e-04  1.06039927e-03\n",
      "   1.97011634e-02  7.42683652e-01  2.59211387e-04  2.64424765e-05]]\n",
      "Explained variance: [0.14893955 0.06706316 0.00724117]\n",
      "Explained variance ratio: [0.6487983  0.29213506 0.03154338]\n",
      "Singular values: [643.32584854 431.68602292 141.85029781]\n",
      "Mean: [3.33864332e-05 8.12067061e-07 5.70797591e-07 4.13852619e-06\n",
      " 1.41298874e-06 2.12058511e-06 3.84922139e-06 6.06088782e-07\n",
      " 2.46728135e-03 9.63881822e-01 3.36508962e-02 7.93794514e-02\n",
      " 1.56796162e-03 6.29775724e-05 2.05126950e-05 2.14123746e-04\n",
      " 3.23884658e-06 9.13185236e-01 1.61942329e-05 1.76337203e-05\n",
      " 3.14168118e-04 5.21346338e-03 4.31846211e-06 7.19743685e-07]\n",
      "Components: 3\n"
     ]
    }
   ],
   "source": [
    "from sklearn.decomposition import PCA\n",
    "\n",
    "pca = PCA(n_components=0.95)\n",
    "pca = pca.fit(normalized_x)\n",
    "print('Components:',pca.components_)\n",
    "print('Explained variance:',pca.explained_variance_)\n",
    "print('Explained variance ratio:',pca.explained_variance_ratio_)\n",
    "print('Singular values:',pca.singular_values_)\n",
    "print('Mean:',pca.mean_)\n",
    "print('Components:',pca.n_components_)\n",
    "normalized_x = pca.transform(normalized_x)"
   ]
  },
  {
   "cell_type": "code",
   "execution_count": 24,
   "id": "touched-tanzania",
   "metadata": {
    "id": "touched-tanzania"
   },
   "outputs": [],
   "source": [
    "X_train, X_test, Y_train, Y_test = train_test_split(normalized_x, normalized_y, random_state=10, test_size=0.2)"
   ]
  },
  {
   "cell_type": "code",
   "execution_count": 25,
   "id": "lightweight-trail",
   "metadata": {
    "colab": {
     "base_uri": "https://localhost:8080/"
    },
    "id": "lightweight-trail",
    "outputId": "dd6ec73b-5328-482b-b8e8-281f3d5c1820",
    "scrolled": true
   },
   "outputs": [
    {
     "data": {
      "text/plain": [
       "(2223013, 3)"
      ]
     },
     "execution_count": 25,
     "metadata": {},
     "output_type": "execute_result"
    }
   ],
   "source": [
    "X_train.shape"
   ]
  },
  {
   "cell_type": "code",
   "execution_count": 26,
   "id": "earned-advertiser",
   "metadata": {
    "id": "earned-advertiser"
   },
   "outputs": [
    {
     "name": "stdout",
     "output_type": "stream",
     "text": [
      "<autokeras.tasks.structured_data.StructuredDataClassifier object at 0x000001F5EEFAA7C0>\n"
     ]
    }
   ],
   "source": [
    "model = ak.StructuredDataClassifier(overwrite=True, max_trials=20)\n",
    "print(model)"
   ]
  },
  {
   "cell_type": "code",
   "execution_count": 27,
   "id": "distinct-effort",
   "metadata": {
    "colab": {
     "base_uri": "https://localhost:8080/"
    },
    "id": "distinct-effort",
    "outputId": "80a11e56-1308-4ed9-8bcf-9c4c755fc78c",
    "scrolled": false
   },
   "outputs": [
    {
     "name": "stdout",
     "output_type": "stream",
     "text": [
      "Trial 20 Complete [00h 08m 53s]\n",
      "val_accuracy: 0.6937506198883057\n",
      "\n",
      "Best val_accuracy So Far: 0.6937794089317322\n",
      "Total elapsed time: 03h 28m 28s\n",
      "INFO:tensorflow:Oracle triggered exit\n",
      "69470/69470 [==============================] - 43s 619us/step - loss: 0.8294 - accuracy: 0.6930\n",
      "INFO:tensorflow:Assets written to: .\\structured_data_classifier\\best_model\\assets\n",
      "<keras.callbacks.History object at 0x000001F605FDE760>\n",
      "\n",
      "program end...\n",
      "\n",
      "time cost: \n",
      "12662.170739412308 seconds\n"
     ]
    }
   ],
   "source": [
    "start = time.time()\n",
    "print('program start...')\n",
    "print()\n",
    "\n",
    "history = model.fit(X_train, Y_train, validation_split=0.25)\n",
    "print(history)\n",
    "\n",
    "print()\n",
    "end = time.time()\n",
    "print('program end...')\n",
    "print()\n",
    "print('time cost: ')\n",
    "print(end - start, 'seconds')"
   ]
  },
  {
   "cell_type": "code",
   "execution_count": 34,
   "id": "2c17319e",
   "metadata": {},
   "outputs": [
    {
     "name": "stdout",
     "output_type": "stream",
     "text": [
      "None\n"
     ]
    }
   ],
   "source": [
    "best_model = model.export_model()"
   ]
  },
  {
   "cell_type": "code",
   "execution_count": 35,
   "id": "4e89968d",
   "metadata": {},
   "outputs": [
    {
     "ename": "NameError",
     "evalue": "name 'num_epochs' is not defined",
     "output_type": "error",
     "traceback": [
      "\u001b[1;31m---------------------------------------------------------------------------\u001b[0m",
      "\u001b[1;31mNameError\u001b[0m                                 Traceback (most recent call last)",
      "\u001b[1;32m~\\AppData\\Local\\Temp/ipykernel_17332/2142186217.py\u001b[0m in \u001b[0;36m<module>\u001b[1;34m\u001b[0m\n\u001b[0;32m      1\u001b[0m \u001b[1;32mimport\u001b[0m \u001b[0mmatplotlib\u001b[0m\u001b[1;33m.\u001b[0m\u001b[0mpyplot\u001b[0m \u001b[1;32mas\u001b[0m \u001b[0mplt\u001b[0m\u001b[1;33m\u001b[0m\u001b[1;33m\u001b[0m\u001b[0m\n\u001b[0;32m      2\u001b[0m \u001b[0mfig\u001b[0m\u001b[1;33m,\u001b[0m \u001b[0max\u001b[0m \u001b[1;33m=\u001b[0m \u001b[0mplt\u001b[0m\u001b[1;33m.\u001b[0m\u001b[0msubplots\u001b[0m\u001b[1;33m(\u001b[0m\u001b[1;36m1\u001b[0m\u001b[1;33m,\u001b[0m \u001b[1;36m1\u001b[0m\u001b[1;33m,\u001b[0m \u001b[0mfigsize\u001b[0m\u001b[1;33m=\u001b[0m\u001b[1;33m(\u001b[0m\u001b[1;36m11.75\u001b[0m\u001b[1;33m,\u001b[0m\u001b[1;36m8.25\u001b[0m\u001b[1;33m)\u001b[0m\u001b[1;33m)\u001b[0m\u001b[1;33m\u001b[0m\u001b[1;33m\u001b[0m\u001b[0m\n\u001b[1;32m----> 3\u001b[1;33m \u001b[0max\u001b[0m\u001b[1;33m.\u001b[0m\u001b[0mplot\u001b[0m\u001b[1;33m(\u001b[0m\u001b[0mnp\u001b[0m\u001b[1;33m.\u001b[0m\u001b[0marange\u001b[0m\u001b[1;33m(\u001b[0m\u001b[1;36m0\u001b[0m\u001b[1;33m,\u001b[0m\u001b[0mnum_epochs\u001b[0m\u001b[1;33m)\u001b[0m\u001b[1;33m,\u001b[0m \u001b[0mhistory\u001b[0m\u001b[1;33m.\u001b[0m\u001b[0mhistory\u001b[0m\u001b[1;33m[\u001b[0m\u001b[1;34m'loss'\u001b[0m\u001b[1;33m]\u001b[0m\u001b[1;33m,\u001b[0m \u001b[0mlabel\u001b[0m\u001b[1;33m=\u001b[0m\u001b[1;34m'Loss'\u001b[0m\u001b[1;33m,\u001b[0m \u001b[0mcolor\u001b[0m\u001b[1;33m=\u001b[0m\u001b[1;34m'red'\u001b[0m\u001b[1;33m)\u001b[0m\u001b[1;33m\u001b[0m\u001b[1;33m\u001b[0m\u001b[0m\n\u001b[0m\u001b[0;32m      4\u001b[0m \u001b[0max\u001b[0m\u001b[1;33m.\u001b[0m\u001b[0mplot\u001b[0m\u001b[1;33m(\u001b[0m\u001b[0mnp\u001b[0m\u001b[1;33m.\u001b[0m\u001b[0marange\u001b[0m\u001b[1;33m(\u001b[0m\u001b[1;36m0\u001b[0m\u001b[1;33m,\u001b[0m\u001b[0mnum_epochs\u001b[0m\u001b[1;33m)\u001b[0m\u001b[1;33m,\u001b[0m \u001b[0mhistory\u001b[0m\u001b[1;33m.\u001b[0m\u001b[0mhistory\u001b[0m\u001b[1;33m[\u001b[0m\u001b[1;34m'accuracy'\u001b[0m\u001b[1;33m]\u001b[0m\u001b[1;33m,\u001b[0m \u001b[0mlabel\u001b[0m\u001b[1;33m=\u001b[0m\u001b[1;34m'Accuracy'\u001b[0m\u001b[1;33m,\u001b[0m \u001b[0mcolor\u001b[0m\u001b[1;33m=\u001b[0m\u001b[1;34m'blue'\u001b[0m\u001b[1;33m)\u001b[0m\u001b[1;33m\u001b[0m\u001b[1;33m\u001b[0m\u001b[0m\n\u001b[0;32m      5\u001b[0m \u001b[0max\u001b[0m\u001b[1;33m.\u001b[0m\u001b[0mgrid\u001b[0m\u001b[1;33m(\u001b[0m\u001b[1;32mTrue\u001b[0m\u001b[1;33m,\u001b[0m \u001b[0mwhich\u001b[0m\u001b[1;33m=\u001b[0m\u001b[1;34m'both'\u001b[0m\u001b[1;33m)\u001b[0m\u001b[1;33m\u001b[0m\u001b[1;33m\u001b[0m\u001b[0m\n",
      "\u001b[1;31mNameError\u001b[0m: name 'num_epochs' is not defined"
     ]
    },
    {
     "data": {
      "image/png": "[encoded data removed]",
      "text/plain": [
       "<Figure size 846x594 with 1 Axes>"
      ]
     },
     "metadata": {
      "needs_background": "light"
     },
     "output_type": "display_data"
    }
   ],
   "source": [
    "import matplotlib.pyplot as plt\n",
    "fig, ax = plt.subplots(1, 1, figsize=(11.75,8.25))\n",
    "ax.plot(np.arange(0,num_epochs), history.history['loss'], label='Loss', color='red')\n",
    "ax.plot(np.arange(0,num_epochs), history.history['accuracy'], label='Accuracy', color='blue')\n",
    "ax.grid(True, which='both')\n",
    "ax.legend(loc='upper right')\n",
    "ax.set_xlabel('Epoch')\n",
    "ax.set_ylabel('Value')\n",
    "ax.set_xlim(0, num_epochs)\n",
    "ax.set_ylim(0, 1.1*np.max([np.max(history.history['loss']),np.max(history.history['accuracy'])]))\n",
    "#ax.set_title(code.capitalize() + ' code ($M_{ep}=2^{' + str(nb_epoch_exp) + '})$ - ' + optimizer_name)"
   ]
  },
  {
   "cell_type": "code",
   "execution_count": 36,
   "id": "e9ab51d5",
   "metadata": {
    "scrolled": false
   },
   "outputs": [
    {
     "name": "stdout",
     "output_type": "stream",
     "text": [
      "Evaluate on test data\n",
      "17368/17368 [==============================] - 10s 578us/step - loss: 0.8265 - accuracy: 0.6936\n",
      "test loss, test acc: [0.8265435099601746, 0.6936198472976685]\n"
     ]
    }
   ],
   "source": [
    "print(\"Evaluate on test data\")\n",
    "results = best_model.evaluate(X_test, Y_test)\n",
    "print(\"test loss, test acc:\", results)"
   ]
  },
  {
   "cell_type": "code",
   "execution_count": 37,
   "id": "dd064505",
   "metadata": {},
   "outputs": [
    {
     "name": "stdout",
     "output_type": "stream",
     "text": [
      "Execution finished at 2022-02-19 08:57:11.\n"
     ]
    }
   ],
   "source": [
    "print(f\"Execution finished at {datetime.now().strftime('%Y-%m-%d %H:%M:%S')}.\")"
   ]
  }
 ],
 "metadata": {
  "accelerator": "GPU",
  "colab": {
   "name": "IoT23 - DNN Opt.ipynb",
   "provenance": []
  },
  "kernelspec": {
   "display_name": "Python 3 (ipykernel)",
   "language": "python",
   "name": "python3"
  },
  "language_info": {
   "codemirror_mode": {
    "name": "ipython",
    "version": 3
   },
   "file_extension": ".py",
   "mimetype": "text/x-python",
   "name": "python",
   "nbconvert_exporter": "python",
   "pygments_lexer": "ipython3",
   "version": "3.8.12"
  }
 },
 "nbformat": 4,
 "nbformat_minor": 5
}
