{
 "cells": [
  {
   "cell_type": "code",
   "execution_count": 1,
   "id": "Kd-Bm8brf0Fz",
   "metadata": {
    "id": "Kd-Bm8brf0Fz"
   },
   "outputs": [],
   "source": [
    "import numpy as np\n",
    "import pandas as pd\n",
    "import tensorflow as tf\n",
    "import autokeras as ak\n",
    "import time\n",
    "from datetime import datetime\n",
    "from matplotlib import pyplot"
   ]
  },
  {
   "cell_type": "code",
   "execution_count": 2,
   "id": "b324f706",
   "metadata": {},
   "outputs": [
    {
     "name": "stdout",
     "output_type": "stream",
     "text": [
      "Default GPU Device: /device:GPU:0\n",
      "\n",
      "TensorFlow version:  2.8.0\n",
      "WARNING:tensorflow:From C:\\Users\\marce\\AppData\\Local\\Temp/ipykernel_2052/4157264796.py:9: is_gpu_available (from tensorflow.python.framework.test_util) is deprecated and will be removed in a future version.\n",
      "Instructions for updating:\n",
      "Use `tf.config.list_physical_devices('GPU')` instead.\n",
      "\n",
      "Is GPU available? True\n",
      "\n",
      "Num GPUs Available:  1\n",
      "\n",
      "Physical Devices:  [PhysicalDevice(name='/physical_device:GPU:0', device_type='GPU')]\n",
      "\n",
      "Local devices: [name: \"/device:CPU:0\"\n",
      "device_type: \"CPU\"\n",
      "memory_limit: 268435456\n",
      "locality {\n",
      "}\n",
      "incarnation: 4377100855289100927\n",
      "xla_global_id: -1\n",
      ", name: \"/device:GPU:0\"\n",
      "device_type: \"GPU\"\n",
      "memory_limit: 4162256896\n",
      "locality {\n",
      "  bus_id: 1\n",
      "  links {\n",
      "  }\n",
      "}\n",
      "incarnation: 14075380505116992407\n",
      "physical_device_desc: \"device: 0, name: NVIDIA GeForce RTX 2060, pci bus id: 0000:06:00.0, compute capability: 7.5\"\n",
      "xla_global_id: 416903419\n",
      "]\n"
     ]
    }
   ],
   "source": [
    "import tensorflow as tf\n",
    "if tf.test.gpu_device_name():\n",
    "    print('Default GPU Device: {}'.format(tf.test.gpu_device_name()))\n",
    "else:\n",
    "    print(\"Please install GPU version of TensorFlow.\")\n",
    "\n",
    "import tensorflow as tf\n",
    "print(\"\\nTensorFlow version: \", tf.__version__)\n",
    "print(\"\\nIs GPU available?\", tf.test.is_gpu_available())\n",
    "print(\"\\nNum GPUs Available: \", len(tf.config.experimental.list_physical_devices('GPU')))\n",
    "print(\"\\nPhysical Devices: \", tf.config.list_physical_devices('GPU'))\n",
    "\n",
    "from tensorflow.python.client import device_lib\n",
    "print(\"\\nLocal devices:\", device_lib.list_local_devices())"
   ]
  },
  {
   "cell_type": "code",
   "execution_count": 3,
   "id": "2229336e",
   "metadata": {},
   "outputs": [],
   "source": [
    "SEED = 10\n",
    "limit_rows = (1)*1000"
   ]
  },
  {
   "cell_type": "code",
   "execution_count": 4,
   "id": "dc175db4",
   "metadata": {
    "scrolled": true
   },
   "outputs": [
    {
     "name": "stdout",
     "output_type": "stream",
     "text": [
      "Execution started at 2022-03-01 19:39:43.\n"
     ]
    }
   ],
   "source": [
    "print(f\"Execution started at {datetime.now().strftime('%Y-%m-%d %H:%M:%S')}.\")"
   ]
  },
  {
   "cell_type": "code",
   "execution_count": 5,
   "id": "951e0af6",
   "metadata": {},
   "outputs": [],
   "source": [
    "def load_csv(name):\n",
    "    if limit_rows is None:\n",
    "        return pd.read_table(filepath_or_buffer=f'../Data Preprocessing/sklearn/iot23_combined_{name}.csv', sep=',').infer_objects()\n",
    "    else:\n",
    "        return pd.read_table(filepath_or_buffer=f'../Data Preprocessing/sklearn/iot23_combined_{int(limit_rows/1000)}k_{name}.csv', sep=',').infer_objects()"
   ]
  },
  {
   "cell_type": "code",
   "execution_count": 6,
   "id": "steady-hotel",
   "metadata": {
    "id": "steady-hotel"
   },
   "outputs": [
    {
     "name": "stdout",
     "output_type": "stream",
     "text": [
      "X_train (7713, 16) \n",
      "y_train (7713, 1)\n",
      "X_test (1928, 16) \n",
      "y_test (1928, 1)\n"
     ]
    }
   ],
   "source": [
    "X_train, X_test, y_train, y_test = load_csv('X_train'), load_csv('X_test'), load_csv('y_train'), load_csv('y_test')\n",
    "\n",
    "print('X_train',X_train.shape,'\\ny_train',y_train.shape)\n",
    "print('X_test',X_test.shape,'\\ny_test',y_test.shape)"
   ]
  },
  {
   "cell_type": "code",
   "execution_count": 7,
   "id": "f17060b4",
   "metadata": {},
   "outputs": [],
   "source": [
    "clf = ak.StructuredDataClassifier(overwrite=True, max_trials=3, seed=SEED)"
   ]
  },
  {
   "cell_type": "code",
   "execution_count": 8,
   "id": "f0269ec5",
   "metadata": {},
   "outputs": [
    {
     "name": "stdout",
     "output_type": "stream",
     "text": [
      "Trial 3 Complete [00h 00m 51s]\n",
      "val_accuracy: 0.8358920216560364\n",
      "\n",
      "Best val_accuracy So Far: 0.9184753894805908\n",
      "Total elapsed time: 00h 04m 20s\n",
      "INFO:tensorflow:Oracle triggered exit\n",
      "242/242 [==============================] - 2s 6ms/step - loss: 0.7202 - accuracy: 0.6967\n",
      "INFO:tensorflow:Assets written to: .\\structured_data_classifier\\best_model\\assets\n",
      "Fitting finished at 2022-03-01 19:44:12.\n"
     ]
    }
   ],
   "source": [
    "print(f\"Fitting started at {datetime.now().strftime('%Y-%m-%d %H:%M:%S')}.\")\n",
    "\n",
    "clf.fit(X_train, y_train, validation_split=0.25)\n",
    "\n",
    "print(f\"Fitting finished at {datetime.now().strftime('%Y-%m-%d %H:%M:%S')}.\")"
   ]
  },
  {
   "cell_type": "code",
   "execution_count": 9,
   "id": "d1447725",
   "metadata": {},
   "outputs": [
    {
     "name": "stdout",
     "output_type": "stream",
     "text": [
      "Evaluation started at 2022-03-01 19:44:12.\n",
      "61/61 [==============================] - 0s 6ms/step - loss: 0.5391 - accuracy: 0.7650\n",
      "Results: [test loss, test acc] = [0.5391361713409424, 0.7650414705276489]\n",
      "Evaluation finished at 2022-03-01 19:44:13.\n"
     ]
    }
   ],
   "source": [
    "print(f\"Evaluation started at {datetime.now().strftime('%Y-%m-%d %H:%M:%S')}.\")\n",
    "\n",
    "print(f\"Results: [test loss, test acc] = {clf.evaluate(X_test, y_test)}\")\n",
    "\n",
    "print(f\"Evaluation finished at {datetime.now().strftime('%Y-%m-%d %H:%M:%S')}.\")"
   ]
  },
  {
   "cell_type": "code",
   "execution_count": 10,
   "id": "dd3792a1",
   "metadata": {},
   "outputs": [
    {
     "data": {
      "image/png": "[encoded data removed]",
      "text/plain": [
       "<IPython.core.display.Image object>"
      ]
     },
     "execution_count": 10,
     "metadata": {},
     "output_type": "execute_result"
    }
   ],
   "source": [
    "tf.keras.utils.plot_model(clf.export_model(), to_file='best_model.png')"
   ]
  },
  {
   "cell_type": "code",
   "execution_count": 11,
   "id": "dd064505",
   "metadata": {},
   "outputs": [
    {
     "name": "stdout",
     "output_type": "stream",
     "text": [
      "Execution finished at 2022-03-01 19:44:15.\n"
     ]
    }
   ],
   "source": [
    "print(f\"Execution finished at {datetime.now().strftime('%Y-%m-%d %H:%M:%S')}.\")"
   ]
  }
 ],
 "metadata": {
  "accelerator": "GPU",
  "colab": {
   "name": "IoT23 - DNN Opt.ipynb",
   "provenance": []
  },
  "kernelspec": {
   "display_name": "Python 3 (ipykernel)",
   "language": "python",
   "name": "python3"
  },
  "language_info": {
   "codemirror_mode": {
    "name": "ipython",
    "version": 3
   },
   "file_extension": ".py",
   "mimetype": "text/x-python",
   "name": "python",
   "nbconvert_exporter": "python",
   "pygments_lexer": "ipython3",
   "version": "3.9.7"
  }
 },
 "nbformat": 4,
 "nbformat_minor": 5
}
