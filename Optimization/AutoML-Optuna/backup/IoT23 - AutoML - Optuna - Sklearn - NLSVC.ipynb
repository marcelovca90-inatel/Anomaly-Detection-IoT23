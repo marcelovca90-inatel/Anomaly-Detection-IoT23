{
 "cells": [
  {
   "cell_type": "code",
   "execution_count": 1,
   "id": "Kd-Bm8brf0Fz",
   "metadata": {
    "id": "Kd-Bm8brf0Fz"
   },
   "outputs": [
    {
     "name": "stderr",
     "output_type": "stream",
     "text": [
      "Intel(R) Extension for Scikit-learn* enabled (https://github.com/intel/scikit-learn-intelex)\n"
     ]
    }
   ],
   "source": [
    "import matplotlib.pyplot as plt\n",
    "import numpy as np\n",
    "import pandas as pd\n",
    "import json\n",
    "import os\n",
    "import time\n",
    "import plotly\n",
    "from datetime import datetime\n",
    "import optuna\n",
    "import sklearn\n",
    "from sklearnex import patch_sklearn\n",
    "patch_sklearn()"
   ]
  },
  {
   "cell_type": "code",
   "execution_count": 2,
   "id": "2229336e",
   "metadata": {},
   "outputs": [],
   "source": [
    "SEED = 10\n",
    "limit_rows = None"
   ]
  },
  {
   "cell_type": "code",
   "execution_count": 3,
   "id": "dc175db4",
   "metadata": {
    "scrolled": true
   },
   "outputs": [
    {
     "name": "stdout",
     "output_type": "stream",
     "text": [
      "Execution started at 2022-03-02 16:51:45.\n"
     ]
    }
   ],
   "source": [
    "print(f\"Execution started at {datetime.now().strftime('%Y-%m-%d %H:%M:%S')}.\")"
   ]
  },
  {
   "cell_type": "code",
   "execution_count": 4,
   "id": "208d5970",
   "metadata": {},
   "outputs": [],
   "source": [
    "def load_csv(name):\n",
    "    if limit_rows is None:\n",
    "        full_filename = f'../Data Preprocessing/sklearn/full/iot23_combined_{name}.csv'\n",
    "    else:\n",
    "        full_filename = f'../Data Preprocessing/sklearn/semi/iot23_combined_{int(limit_rows/1000)}k_{name}.csv'\n",
    "    \n",
    "    df = pd.read_table(filepath_or_buffer=full_filename, header=None, sep=',').infer_objects().to_numpy()\n",
    "    \n",
    "    return df.ravel() if df.shape[1] == 1 else df"
   ]
  },
  {
   "cell_type": "code",
   "execution_count": 5,
   "id": "steady-hotel",
   "metadata": {
    "id": "steady-hotel",
    "scrolled": false
   },
   "outputs": [
    {
     "name": "stdout",
     "output_type": "stream",
     "text": [
      "X_train (7142855, 15) \n",
      "y_train (7142855,)\n",
      "X_test (1785714, 15) \n",
      "y_test (1785714,)\n"
     ]
    }
   ],
   "source": [
    "X_train, X_test, y_train, y_test = load_csv('X_train'), load_csv('X_test'), load_csv('y_train'), load_csv('y_test')\n",
    "\n",
    "print('X_train',X_train.shape,'\\ny_train',y_train.shape)\n",
    "print('X_test',X_test.shape,'\\ny_test',y_test.shape)"
   ]
  },
  {
   "cell_type": "code",
   "execution_count": 6,
   "id": "52071f65",
   "metadata": {},
   "outputs": [],
   "source": [
    "from sklearn.kernel_approximation import Nystroem\n",
    "from sklearn.svm import LinearSVC\n",
    "\n",
    "def objective(trial):\n",
    "    \n",
    "    # feature mapper parameters\n",
    "    nystroem_gamma        = trial.suggest_discrete_uniform(\"nystroem_gamma\", 0.1, 1.0, 0.1)\n",
    "    nystroem_n_components = trial.suggest_int(\"nystroem_n_components\", 50, 200, 25)\n",
    "\n",
    "    feature_mapper = Nystroem(gamma=nystroem_gamma,n_components=nystroem_n_components)\n",
    "    feature_mapper.fit(X_train)\n",
    "    \n",
    "    X_train_transf = feature_mapper.transform(X_train)\n",
    "    X_test_transf  = feature_mapper.transform(X_test)\n",
    "    \n",
    "    # classifier parameters\n",
    "    dual = trial.suggest_categorical('dual', [False])\n",
    "    C    = trial.suggest_loguniform('C', 1e-6, 1e3)\n",
    "    \n",
    "    classifier_obj = LinearSVC(dual=dual,C=C)\n",
    "    \n",
    "    classifier_obj.fit(X_train_transf, y_train)\n",
    "    \n",
    "    y_pred = classifier_obj.predict(X_test_transf)\n",
    "    \n",
    "    accuracy = sklearn.metrics.accuracy_score(y_test, y_pred)\n",
    "    \n",
    "    return accuracy"
   ]
  },
  {
   "cell_type": "code",
   "execution_count": 7,
   "id": "a6e0c60a",
   "metadata": {},
   "outputs": [
    {
     "name": "stdout",
     "output_type": "stream",
     "text": [
      "Optimization started at 2022-03-02 16:51:54.\n"
     ]
    }
   ],
   "source": [
    "print(f\"Optimization started at {datetime.now().strftime('%Y-%m-%d %H:%M:%S')}.\")"
   ]
  },
  {
   "cell_type": "code",
   "execution_count": null,
   "id": "c21cceac",
   "metadata": {},
   "outputs": [
    {
     "name": "stderr",
     "output_type": "stream",
     "text": [
      "\u001b[32m[I 2022-03-02 16:51:54,286]\u001b[0m A new study created in memory with name: no-name-c32c5f86-a65b-4625-a3a3-03925ad8390f\u001b[0m\n",
      "C:\\Users\\marce\\anaconda3\\envs\\tf\\lib\\site-packages\\optuna\\study\\study.py:393: FutureWarning: `n_jobs` argument has been deprecated in v2.7.0. This feature will be removed in v4.0.0. See https://github.com/optuna/optuna/releases/tag/v2.7.0.\n",
      "  warnings.warn(\n"
     ]
    }
   ],
   "source": [
    "study = optuna.create_study(direction=\"maximize\")\n",
    "\n",
    "study.optimize(objective, n_trials=10, n_jobs=2, catch=(NotImplementedError,))"
   ]
  },
  {
   "cell_type": "code",
   "execution_count": null,
   "id": "f39bbe2c",
   "metadata": {},
   "outputs": [],
   "source": [
    "print(f\"Optimization finished at {datetime.now().strftime('%Y-%m-%d %H:%M:%S')}.\")"
   ]
  },
  {
   "cell_type": "code",
   "execution_count": null,
   "id": "9292da88",
   "metadata": {},
   "outputs": [],
   "source": [
    "def format_trial(trial):\n",
    "    return json.dumps({'number' : trial.number,\n",
    "                       'score'  : trial.values[0],\n",
    "                       'params' : trial.params}, indent=4, default=str)"
   ]
  },
  {
   "cell_type": "code",
   "execution_count": null,
   "id": "3c56ec98",
   "metadata": {
    "scrolled": true
   },
   "outputs": [],
   "source": [
    "print(format_trial(study.best_trial))"
   ]
  },
  {
   "cell_type": "code",
   "execution_count": null,
   "id": "60d5d793",
   "metadata": {
    "scrolled": true
   },
   "outputs": [],
   "source": [
    "for trial in study.best_trials:\n",
    "    print(format_trial(trial))"
   ]
  },
  {
   "cell_type": "code",
   "execution_count": null,
   "id": "d1447725",
   "metadata": {
    "scrolled": true
   },
   "outputs": [],
   "source": [
    "optuna.visualization.plot_optimization_history(study).show()"
   ]
  },
  {
   "cell_type": "code",
   "execution_count": null,
   "id": "9c6a3a29",
   "metadata": {},
   "outputs": [],
   "source": []
  }
 ],
 "metadata": {
  "accelerator": "GPU",
  "colab": {
   "name": "IoT23 - DNN Opt.ipynb",
   "provenance": []
  },
  "kernelspec": {
   "display_name": "Python 3 (ipykernel)",
   "language": "python",
   "name": "python3"
  },
  "language_info": {
   "codemirror_mode": {
    "name": "ipython",
    "version": 3
   },
   "file_extension": ".py",
   "mimetype": "text/x-python",
   "name": "python",
   "nbconvert_exporter": "python",
   "pygments_lexer": "ipython3",
   "version": "3.9.7"
  }
 },
 "nbformat": 4,
 "nbformat_minor": 5
}
