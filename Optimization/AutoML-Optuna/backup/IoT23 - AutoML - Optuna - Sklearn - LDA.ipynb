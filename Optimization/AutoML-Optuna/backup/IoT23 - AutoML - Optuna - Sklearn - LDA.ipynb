{
 "cells": [
  {
   "cell_type": "code",
   "execution_count": 1,
   "id": "Kd-Bm8brf0Fz",
   "metadata": {
    "id": "Kd-Bm8brf0Fz"
   },
   "outputs": [
    {
     "name": "stderr",
     "output_type": "stream",
     "text": [
      "Intel(R) Extension for Scikit-learn* enabled (https://github.com/intel/scikit-learn-intelex)\n"
     ]
    }
   ],
   "source": [
    "import matplotlib.pyplot as plt\n",
    "import numpy as np\n",
    "import pandas as pd\n",
    "import json\n",
    "import time\n",
    "import plotly\n",
    "from datetime import datetime\n",
    "import optuna\n",
    "import sklearn\n",
    "from sklearnex import patch_sklearn\n",
    "patch_sklearn()"
   ]
  },
  {
   "cell_type": "code",
   "execution_count": 2,
   "id": "2229336e",
   "metadata": {},
   "outputs": [],
   "source": [
    "SEED = 10\n",
    "limit_rows = None"
   ]
  },
  {
   "cell_type": "code",
   "execution_count": 3,
   "id": "dc175db4",
   "metadata": {
    "scrolled": true
   },
   "outputs": [
    {
     "name": "stdout",
     "output_type": "stream",
     "text": [
      "Execution started at 2022-03-02 04:32:16.\n"
     ]
    }
   ],
   "source": [
    "print(f\"Execution started at {datetime.now().strftime('%Y-%m-%d %H:%M:%S')}.\")"
   ]
  },
  {
   "cell_type": "code",
   "execution_count": 4,
   "id": "208d5970",
   "metadata": {},
   "outputs": [],
   "source": [
    "def load_csv(name):\n",
    "    if limit_rows is None:\n",
    "        full_filename = f'../Data Preprocessing/sklearn/full/iot23_combined_{name}.csv'\n",
    "    else:\n",
    "        full_filename = f'../Data Preprocessing/sklearn/semi/iot23_combined_{int(limit_rows/1000)}k_{name}.csv'\n",
    "    \n",
    "    df = pd.read_table(filepath_or_buffer=full_filename, header=None, sep=',').infer_objects().to_numpy()\n",
    "    \n",
    "    return df.ravel() if df.shape[1] == 1 else df"
   ]
  },
  {
   "cell_type": "code",
   "execution_count": 5,
   "id": "steady-hotel",
   "metadata": {
    "id": "steady-hotel",
    "scrolled": false
   },
   "outputs": [
    {
     "name": "stdout",
     "output_type": "stream",
     "text": [
      "X_train (7142855, 15) \n",
      "y_train (7142855,)\n",
      "X_test (1785714, 15) \n",
      "y_test (1785714,)\n"
     ]
    }
   ],
   "source": [
    "X_train, X_test, y_train, y_test = load_csv('X_train'), load_csv('X_test'), load_csv('y_train'), load_csv('y_test')\n",
    "\n",
    "print('X_train',X_train.shape,'\\ny_train',y_train.shape)\n",
    "print('X_test',X_test.shape,'\\ny_test',y_test.shape)"
   ]
  },
  {
   "cell_type": "code",
   "execution_count": 6,
   "id": "52071f65",
   "metadata": {},
   "outputs": [],
   "source": [
    "from sklearn.discriminant_analysis import LinearDiscriminantAnalysis\n",
    "\n",
    "n_features = X_train.shape[1]\n",
    "n_classes = len(set(y_train))\n",
    "\n",
    "def objective(trial):\n",
    "    \n",
    "    solver       = trial.suggest_categorical('solver', ['svd', 'lsqr', 'eigen'])\n",
    "    shrinkage    = trial.suggest_categorical('shrinkage', [None, 'auto'])\n",
    "    n_components = trial.suggest_int('n_components', 1, min(n_features, n_classes-1))\n",
    "\n",
    "    classifier_obj = LinearDiscriminantAnalysis(solver=solver,\n",
    "                                                shrinkage=shrinkage,\n",
    "                                                n_components=n_components)\n",
    "    \n",
    "    classifier_obj.fit(X_train, y_train)\n",
    "    \n",
    "    y_pred = classifier_obj.predict(X_test)\n",
    "    \n",
    "    accuracy = sklearn.metrics.accuracy_score(y_test, y_pred)\n",
    "    \n",
    "    return accuracy"
   ]
  },
  {
   "cell_type": "code",
   "execution_count": 7,
   "id": "a6e0c60a",
   "metadata": {},
   "outputs": [
    {
     "name": "stdout",
     "output_type": "stream",
     "text": [
      "Optimization started at 2022-03-02 04:32:28.\n"
     ]
    }
   ],
   "source": [
    "print(f\"Optimization started at {datetime.now().strftime('%Y-%m-%d %H:%M:%S')}.\")"
   ]
  },
  {
   "cell_type": "code",
   "execution_count": null,
   "id": "c21cceac",
   "metadata": {},
   "outputs": [
    {
     "name": "stderr",
     "output_type": "stream",
     "text": [
      "\u001b[32m[I 2022-03-02 04:32:28,504]\u001b[0m A new study created in memory with name: no-name-4bf87453-df2b-43cf-9bba-bb704abaea83\u001b[0m\n",
      "C:\\Users\\marce\\anaconda3\\envs\\tf\\lib\\site-packages\\optuna\\study\\study.py:393: FutureWarning: `n_jobs` argument has been deprecated in v2.7.0. This feature will be removed in v4.0.0. See https://github.com/optuna/optuna/releases/tag/v2.7.0.\n",
      "  warnings.warn(\n",
      "\u001b[33m[W 2022-03-02 04:32:30,065]\u001b[0m Trial 2 failed because of the following error: NotImplementedError('shrinkage not supported')\u001b[0m\n",
      "Traceback (most recent call last):\n",
      "  File \"C:\\Users\\marce\\anaconda3\\envs\\tf\\lib\\site-packages\\optuna\\study\\_optimize.py\", line 213, in _run_trial\n",
      "    value_or_values = func(trial)\n",
      "  File \"C:\\Users\\marce\\AppData\\Local\\Temp/ipykernel_5116/800447189.py\", line 16, in objective\n",
      "    classifier_obj.fit(X_train, y_train)\n",
      "  File \"C:\\Users\\marce\\anaconda3\\envs\\tf\\lib\\site-packages\\sklearn\\discriminant_analysis.py\", line 583, in fit\n",
      "    raise NotImplementedError(\"shrinkage not supported\")\n",
      "NotImplementedError: shrinkage not supported\n",
      "\u001b[32m[I 2022-03-02 04:32:41,663]\u001b[0m Trial 0 finished with value: 0.7072537931606069 and parameters: {'solver': 'lsqr', 'shrinkage': None, 'n_components': 11}. Best is trial 0 with value: 0.7072537931606069.\u001b[0m\n",
      "\u001b[32m[I 2022-03-02 04:32:42,773]\u001b[0m Trial 1 finished with value: 0.7072537931606069 and parameters: {'solver': 'lsqr', 'shrinkage': None, 'n_components': 12}. Best is trial 0 with value: 0.7072537931606069.\u001b[0m\n",
      "\u001b[32m[I 2022-03-02 04:32:49,242]\u001b[0m Trial 3 finished with value: 0.7072537931606069 and parameters: {'solver': 'svd', 'shrinkage': None, 'n_components': 6}. Best is trial 0 with value: 0.7072537931606069.\u001b[0m\n",
      "\u001b[32m[I 2022-03-02 04:32:51,111]\u001b[0m Trial 4 finished with value: 0.704216912674706 and parameters: {'solver': 'lsqr', 'shrinkage': 'auto', 'n_components': 4}. Best is trial 0 with value: 0.7072537931606069.\u001b[0m\n",
      "\u001b[32m[I 2022-03-02 04:32:56,045]\u001b[0m Trial 5 finished with value: 0.7072537931606069 and parameters: {'solver': 'eigen', 'shrinkage': None, 'n_components': 5}. Best is trial 0 with value: 0.7072537931606069.\u001b[0m\n",
      "\u001b[32m[I 2022-03-02 04:32:56,369]\u001b[0m Trial 6 finished with value: 0.7072537931606069 and parameters: {'solver': 'lsqr', 'shrinkage': None, 'n_components': 10}. Best is trial 0 with value: 0.7072537931606069.\u001b[0m\n",
      "\u001b[32m[I 2022-03-02 04:33:10,080]\u001b[0m Trial 7 finished with value: 0.678155068504811 and parameters: {'solver': 'lsqr', 'shrinkage': 'auto', 'n_components': 7}. Best is trial 0 with value: 0.7072537931606069.\u001b[0m\n",
      "\u001b[32m[I 2022-03-02 04:33:10,082]\u001b[0m Trial 8 finished with value: 0.6642872262859562 and parameters: {'solver': 'svd', 'shrinkage': None, 'n_components': 8}. Best is trial 0 with value: 0.7072537931606069.\u001b[0m\n",
      "\u001b[32m[I 2022-03-02 04:33:13,436]\u001b[0m Trial 10 finished with value: 0.7072537931606069 and parameters: {'solver': 'eigen', 'shrinkage': None, 'n_components': 3}. Best is trial 0 with value: 0.7072537931606069.\u001b[0m\n",
      "\u001b[33m[W 2022-03-02 04:33:14,414]\u001b[0m Trial 13 failed because of the following error: NotImplementedError('shrinkage not supported')\u001b[0m\n",
      "Traceback (most recent call last):\n",
      "  File \"C:\\Users\\marce\\anaconda3\\envs\\tf\\lib\\site-packages\\optuna\\study\\_optimize.py\", line 213, in _run_trial\n",
      "    value_or_values = func(trial)\n",
      "  File \"C:\\Users\\marce\\AppData\\Local\\Temp/ipykernel_5116/800447189.py\", line 16, in objective\n",
      "    classifier_obj.fit(X_train, y_train)\n",
      "  File \"C:\\Users\\marce\\anaconda3\\envs\\tf\\lib\\site-packages\\sklearn\\discriminant_analysis.py\", line 583, in fit\n",
      "    raise NotImplementedError(\"shrinkage not supported\")\n",
      "NotImplementedError: shrinkage not supported\n",
      "\u001b[32m[I 2022-03-02 04:33:18,822]\u001b[0m Trial 9 finished with value: 0.7072537931606069 and parameters: {'solver': 'svd', 'shrinkage': None, 'n_components': 7}. Best is trial 0 with value: 0.7072537931606069.\u001b[0m\n",
      "\u001b[32m[I 2022-03-02 04:33:30,063]\u001b[0m Trial 11 finished with value: 0.7072537931606069 and parameters: {'solver': 'svd', 'shrinkage': None, 'n_components': 1}. Best is trial 0 with value: 0.7072537931606069.\u001b[0m\n",
      "\u001b[32m[I 2022-03-02 04:33:31,815]\u001b[0m Trial 12 finished with value: 0.704216912674706 and parameters: {'solver': 'lsqr', 'shrinkage': 'auto', 'n_components': 15}. Best is trial 0 with value: 0.7072537931606069.\u001b[0m\n",
      "\u001b[32m[I 2022-03-02 04:33:33,236]\u001b[0m Trial 15 finished with value: 0.7072537931606069 and parameters: {'solver': 'lsqr', 'shrinkage': None, 'n_components': 15}. Best is trial 0 with value: 0.7072537931606069.\u001b[0m\n",
      "\u001b[32m[I 2022-03-02 04:33:38,785]\u001b[0m Trial 14 finished with value: 0.7072537931606069 and parameters: {'solver': 'svd', 'shrinkage': None, 'n_components': 3}. Best is trial 0 with value: 0.7072537931606069.\u001b[0m\n",
      "\u001b[32m[I 2022-03-02 04:33:43,233]\u001b[0m Trial 16 finished with value: 0.7072537931606069 and parameters: {'solver': 'lsqr', 'shrinkage': None, 'n_components': 14}. Best is trial 0 with value: 0.7072537931606069.\u001b[0m\n",
      "\u001b[32m[I 2022-03-02 04:33:45,514]\u001b[0m Trial 17 finished with value: 0.7072537931606069 and parameters: {'solver': 'lsqr', 'shrinkage': None, 'n_components': 12}. Best is trial 0 with value: 0.7072537931606069.\u001b[0m\n",
      "\u001b[32m[I 2022-03-02 04:33:46,457]\u001b[0m Trial 18 finished with value: 0.7072537931606069 and parameters: {'solver': 'lsqr', 'shrinkage': None, 'n_components': 11}. Best is trial 0 with value: 0.7072537931606069.\u001b[0m\n",
      "\u001b[32m[I 2022-03-02 04:33:50,604]\u001b[0m Trial 19 finished with value: 0.7072537931606069 and parameters: {'solver': 'lsqr', 'shrinkage': None, 'n_components': 11}. Best is trial 0 with value: 0.7072537931606069.\u001b[0m\n",
      "\u001b[32m[I 2022-03-02 04:33:55,379]\u001b[0m Trial 20 finished with value: 0.7072537931606069 and parameters: {'solver': 'lsqr', 'shrinkage': None, 'n_components': 11}. Best is trial 0 with value: 0.7072537931606069.\u001b[0m\n",
      "\u001b[32m[I 2022-03-02 04:33:58,012]\u001b[0m Trial 21 finished with value: 0.7072537931606069 and parameters: {'solver': 'lsqr', 'shrinkage': None, 'n_components': 11}. Best is trial 0 with value: 0.7072537931606069.\u001b[0m\n",
      "\u001b[32m[I 2022-03-02 04:33:59,567]\u001b[0m Trial 22 finished with value: 0.7072537931606069 and parameters: {'solver': 'eigen', 'shrinkage': None, 'n_components': 13}. Best is trial 0 with value: 0.7072537931606069.\u001b[0m\n",
      "\u001b[32m[I 2022-03-02 04:34:03,426]\u001b[0m Trial 23 finished with value: 0.7072537931606069 and parameters: {'solver': 'eigen', 'shrinkage': None, 'n_components': 13}. Best is trial 0 with value: 0.7072537931606069.\u001b[0m\n",
      "\u001b[32m[I 2022-03-02 04:34:09,123]\u001b[0m Trial 24 finished with value: 0.7072537931606069 and parameters: {'solver': 'eigen', 'shrinkage': None, 'n_components': 10}. Best is trial 0 with value: 0.7072537931606069.\u001b[0m\n",
      "\u001b[32m[I 2022-03-02 04:34:12,002]\u001b[0m Trial 25 finished with value: 0.7072537931606069 and parameters: {'solver': 'eigen', 'shrinkage': None, 'n_components': 9}. Best is trial 0 with value: 0.7072537931606069.\u001b[0m\n",
      "\u001b[32m[I 2022-03-02 04:34:12,803]\u001b[0m Trial 26 finished with value: 0.7072537931606069 and parameters: {'solver': 'lsqr', 'shrinkage': None, 'n_components': 9}. Best is trial 0 with value: 0.7072537931606069.\u001b[0m\n",
      "\u001b[32m[I 2022-03-02 04:34:16,128]\u001b[0m Trial 27 finished with value: 0.7072537931606069 and parameters: {'solver': 'lsqr', 'shrinkage': None, 'n_components': 9}. Best is trial 0 with value: 0.7072537931606069.\u001b[0m\n",
      "\u001b[32m[I 2022-03-02 04:34:21,987]\u001b[0m Trial 28 finished with value: 0.7072537931606069 and parameters: {'solver': 'eigen', 'shrinkage': None, 'n_components': 9}. Best is trial 0 with value: 0.7072537931606069.\u001b[0m\n",
      "\u001b[32m[I 2022-03-02 04:34:25,578]\u001b[0m Trial 29 finished with value: 0.7072537931606069 and parameters: {'solver': 'eigen', 'shrinkage': None, 'n_components': 13}. Best is trial 0 with value: 0.7072537931606069.\u001b[0m\n",
      "\u001b[32m[I 2022-03-02 04:34:26,528]\u001b[0m Trial 30 finished with value: 0.7072537931606069 and parameters: {'solver': 'eigen', 'shrinkage': None, 'n_components': 13}. Best is trial 0 with value: 0.7072537931606069.\u001b[0m\n",
      "\u001b[32m[I 2022-03-02 04:34:28,991]\u001b[0m Trial 31 finished with value: 0.7072537931606069 and parameters: {'solver': 'eigen', 'shrinkage': None, 'n_components': 8}. Best is trial 0 with value: 0.7072537931606069.\u001b[0m\n",
      "\u001b[32m[I 2022-03-02 04:34:34,236]\u001b[0m Trial 32 finished with value: 0.7072537931606069 and parameters: {'solver': 'eigen', 'shrinkage': None, 'n_components': 8}. Best is trial 0 with value: 0.7072537931606069.\u001b[0m\n"
     ]
    },
    {
     "name": "stderr",
     "output_type": "stream",
     "text": [
      "\u001b[32m[I 2022-03-02 04:34:37,832]\u001b[0m Trial 33 finished with value: 0.7072537931606069 and parameters: {'solver': 'lsqr', 'shrinkage': None, 'n_components': 8}. Best is trial 0 with value: 0.7072537931606069.\u001b[0m\n",
      "\u001b[32m[I 2022-03-02 04:34:39,546]\u001b[0m Trial 34 finished with value: 0.7072537931606069 and parameters: {'solver': 'eigen', 'shrinkage': None, 'n_components': 8}. Best is trial 0 with value: 0.7072537931606069.\u001b[0m\n",
      "\u001b[32m[I 2022-03-02 04:34:41,875]\u001b[0m Trial 35 finished with value: 0.7072537931606069 and parameters: {'solver': 'eigen', 'shrinkage': None, 'n_components': 12}. Best is trial 0 with value: 0.7072537931606069.\u001b[0m\n",
      "\u001b[32m[I 2022-03-02 04:34:46,718]\u001b[0m Trial 36 finished with value: 0.7072537931606069 and parameters: {'solver': 'eigen', 'shrinkage': None, 'n_components': 13}. Best is trial 0 with value: 0.7072537931606069.\u001b[0m\n",
      "\u001b[32m[I 2022-03-02 04:34:50,724]\u001b[0m Trial 37 finished with value: 0.7072537931606069 and parameters: {'solver': 'eigen', 'shrinkage': None, 'n_components': 13}. Best is trial 0 with value: 0.7072537931606069.\u001b[0m\n",
      "\u001b[32m[I 2022-03-02 04:34:52,751]\u001b[0m Trial 38 finished with value: 0.7072537931606069 and parameters: {'solver': 'eigen', 'shrinkage': None, 'n_components': 6}. Best is trial 0 with value: 0.7072537931606069.\u001b[0m\n",
      "\u001b[32m[I 2022-03-02 04:34:54,751]\u001b[0m Trial 39 finished with value: 0.7072537931606069 and parameters: {'solver': 'eigen', 'shrinkage': None, 'n_components': 6}. Best is trial 0 with value: 0.7072537931606069.\u001b[0m\n",
      "\u001b[32m[I 2022-03-02 04:34:59,047]\u001b[0m Trial 40 finished with value: 0.7072537931606069 and parameters: {'solver': 'eigen', 'shrinkage': None, 'n_components': 14}. Best is trial 0 with value: 0.7072537931606069.\u001b[0m\n",
      "\u001b[32m[I 2022-03-02 04:35:04,167]\u001b[0m Trial 41 finished with value: 0.7072537931606069 and parameters: {'solver': 'eigen', 'shrinkage': None, 'n_components': 14}. Best is trial 0 with value: 0.7072537931606069.\u001b[0m\n",
      "\u001b[32m[I 2022-03-02 04:35:06,051]\u001b[0m Trial 42 finished with value: 0.7072537931606069 and parameters: {'solver': 'eigen', 'shrinkage': None, 'n_components': 14}. Best is trial 0 with value: 0.7072537931606069.\u001b[0m\n",
      "\u001b[32m[I 2022-03-02 04:35:07,951]\u001b[0m Trial 43 finished with value: 0.7072537931606069 and parameters: {'solver': 'eigen', 'shrinkage': None, 'n_components': 10}. Best is trial 0 with value: 0.7072537931606069.\u001b[0m\n",
      "\u001b[32m[I 2022-03-02 04:35:11,461]\u001b[0m Trial 44 finished with value: 0.7072537931606069 and parameters: {'solver': 'eigen', 'shrinkage': None, 'n_components': 10}. Best is trial 0 with value: 0.7072537931606069.\u001b[0m\n",
      "\u001b[32m[I 2022-03-02 04:35:18,181]\u001b[0m Trial 46 finished with value: 0.7072537931606069 and parameters: {'solver': 'lsqr', 'shrinkage': None, 'n_components': 10}. Best is trial 0 with value: 0.7072537931606069.\u001b[0m\n",
      "\u001b[32m[I 2022-03-02 04:35:22,729]\u001b[0m Trial 45 finished with value: 0.7072537931606069 and parameters: {'solver': 'svd', 'shrinkage': None, 'n_components': 10}. Best is trial 0 with value: 0.7072537931606069.\u001b[0m\n",
      "\u001b[32m[I 2022-03-02 04:35:23,762]\u001b[0m Trial 47 finished with value: 0.7072537931606069 and parameters: {'solver': 'lsqr', 'shrinkage': None, 'n_components': 9}. Best is trial 0 with value: 0.7072537931606069.\u001b[0m\n",
      "\u001b[32m[I 2022-03-02 04:35:25,482]\u001b[0m Trial 48 finished with value: 0.7072537931606069 and parameters: {'solver': 'lsqr', 'shrinkage': None, 'n_components': 9}. Best is trial 0 with value: 0.7072537931606069.\u001b[0m\n",
      "\u001b[32m[I 2022-03-02 04:35:33,966]\u001b[0m Trial 49 finished with value: 0.7072537931606069 and parameters: {'solver': 'lsqr', 'shrinkage': None, 'n_components': 9}. Best is trial 0 with value: 0.7072537931606069.\u001b[0m\n",
      "\u001b[32m[I 2022-03-02 04:35:36,331]\u001b[0m Trial 50 finished with value: 0.7072537931606069 and parameters: {'solver': 'lsqr', 'shrinkage': None, 'n_components': 9}. Best is trial 0 with value: 0.7072537931606069.\u001b[0m\n",
      "\u001b[32m[I 2022-03-02 04:35:38,459]\u001b[0m Trial 52 finished with value: 0.7072537931606069 and parameters: {'solver': 'lsqr', 'shrinkage': None, 'n_components': 12}. Best is trial 0 with value: 0.7072537931606069.\u001b[0m\n",
      "\u001b[32m[I 2022-03-02 04:35:42,973]\u001b[0m Trial 51 finished with value: 0.7072537931606069 and parameters: {'solver': 'svd', 'shrinkage': None, 'n_components': 12}. Best is trial 0 with value: 0.7072537931606069.\u001b[0m\n",
      "\u001b[32m[I 2022-03-02 04:35:53,773]\u001b[0m Trial 53 finished with value: 0.7072537931606069 and parameters: {'solver': 'svd', 'shrinkage': None, 'n_components': 7}. Best is trial 0 with value: 0.7072537931606069.\u001b[0m\n",
      "\u001b[32m[I 2022-03-02 04:35:59,276]\u001b[0m Trial 54 finished with value: 0.7072537931606069 and parameters: {'solver': 'svd', 'shrinkage': None, 'n_components': 7}. Best is trial 0 with value: 0.7072537931606069.\u001b[0m\n",
      "\u001b[32m[I 2022-03-02 04:36:00,923]\u001b[0m Trial 56 finished with value: 0.7072537931606069 and parameters: {'solver': 'eigen', 'shrinkage': None, 'n_components': 7}. Best is trial 0 with value: 0.7072537931606069.\u001b[0m\n",
      "\u001b[32m[I 2022-03-02 04:36:05,682]\u001b[0m Trial 55 finished with value: 0.7072537931606069 and parameters: {'solver': 'svd', 'shrinkage': None, 'n_components': 5}. Best is trial 0 with value: 0.7072537931606069.\u001b[0m\n",
      "\u001b[32m[I 2022-03-02 04:36:11,566]\u001b[0m Trial 57 finished with value: 0.7072537931606069 and parameters: {'solver': 'eigen', 'shrinkage': None, 'n_components': 8}. Best is trial 0 with value: 0.7072537931606069.\u001b[0m\n",
      "\u001b[32m[I 2022-03-02 04:36:14,011]\u001b[0m Trial 58 finished with value: 0.7072537931606069 and parameters: {'solver': 'eigen', 'shrinkage': None, 'n_components': 8}. Best is trial 0 with value: 0.7072537931606069.\u001b[0m\n",
      "\u001b[32m[I 2022-03-02 04:36:18,273]\u001b[0m Trial 59 finished with value: 0.7072537931606069 and parameters: {'solver': 'eigen', 'shrinkage': None, 'n_components': 8}. Best is trial 0 with value: 0.7072537931606069.\u001b[0m\n",
      "\u001b[32m[I 2022-03-02 04:36:20,672]\u001b[0m Trial 60 finished with value: 0.7072537931606069 and parameters: {'solver': 'eigen', 'shrinkage': None, 'n_components': 8}. Best is trial 0 with value: 0.7072537931606069.\u001b[0m\n",
      "\u001b[32m[I 2022-03-02 04:36:25,759]\u001b[0m Trial 61 finished with value: 0.7072537931606069 and parameters: {'solver': 'eigen', 'shrinkage': None, 'n_components': 11}. Best is trial 0 with value: 0.7072537931606069.\u001b[0m\n",
      "\u001b[32m[I 2022-03-02 04:36:28,372]\u001b[0m Trial 62 finished with value: 0.7072537931606069 and parameters: {'solver': 'eigen', 'shrinkage': None, 'n_components': 11}. Best is trial 0 with value: 0.7072537931606069.\u001b[0m\n",
      "\u001b[32m[I 2022-03-02 04:36:31,983]\u001b[0m Trial 63 finished with value: 0.7072537931606069 and parameters: {'solver': 'eigen', 'shrinkage': None, 'n_components': 15}. Best is trial 0 with value: 0.7072537931606069.\u001b[0m\n",
      "\u001b[32m[I 2022-03-02 04:36:34,298]\u001b[0m Trial 64 finished with value: 0.7072537931606069 and parameters: {'solver': 'eigen', 'shrinkage': None, 'n_components': 12}. Best is trial 0 with value: 0.7072537931606069.\u001b[0m\n",
      "\u001b[32m[I 2022-03-02 04:36:38,136]\u001b[0m Trial 65 finished with value: 0.7072537931606069 and parameters: {'solver': 'eigen', 'shrinkage': None, 'n_components': 5}. Best is trial 0 with value: 0.7072537931606069.\u001b[0m\n",
      "\u001b[32m[I 2022-03-02 04:36:40,954]\u001b[0m Trial 66 finished with value: 0.7072537931606069 and parameters: {'solver': 'eigen', 'shrinkage': None, 'n_components': 6}. Best is trial 0 with value: 0.7072537931606069.\u001b[0m\n",
      "\u001b[32m[I 2022-03-02 04:36:44,696]\u001b[0m Trial 67 finished with value: 0.7072537931606069 and parameters: {'solver': 'eigen', 'shrinkage': None, 'n_components': 5}. Best is trial 0 with value: 0.7072537931606069.\u001b[0m\n",
      "\u001b[32m[I 2022-03-02 04:36:46,861]\u001b[0m Trial 68 finished with value: 0.7072537931606069 and parameters: {'solver': 'eigen', 'shrinkage': None, 'n_components': 5}. Best is trial 0 with value: 0.7072537931606069.\u001b[0m\n",
      "\u001b[32m[I 2022-03-02 04:36:50,750]\u001b[0m Trial 69 finished with value: 0.7072537931606069 and parameters: {'solver': 'eigen', 'shrinkage': None, 'n_components': 14}. Best is trial 0 with value: 0.7072537931606069.\u001b[0m\n",
      "\u001b[32m[I 2022-03-02 04:36:53,581]\u001b[0m Trial 70 finished with value: 0.7072537931606069 and parameters: {'solver': 'eigen', 'shrinkage': None, 'n_components': 14}. Best is trial 0 with value: 0.7072537931606069.\u001b[0m\n",
      "\u001b[32m[I 2022-03-02 04:36:57,643]\u001b[0m Trial 71 finished with value: 0.7072537931606069 and parameters: {'solver': 'eigen', 'shrinkage': None, 'n_components': 14}. Best is trial 0 with value: 0.7072537931606069.\u001b[0m\n"
     ]
    },
    {
     "name": "stderr",
     "output_type": "stream",
     "text": [
      "\u001b[32m[I 2022-03-02 04:37:00,007]\u001b[0m Trial 72 finished with value: 0.7072537931606069 and parameters: {'solver': 'eigen', 'shrinkage': None, 'n_components': 14}. Best is trial 0 with value: 0.7072537931606069.\u001b[0m\n",
      "\u001b[32m[I 2022-03-02 04:37:04,258]\u001b[0m Trial 73 finished with value: 0.7072537931606069 and parameters: {'solver': 'eigen', 'shrinkage': None, 'n_components': 14}. Best is trial 0 with value: 0.7072537931606069.\u001b[0m\n",
      "\u001b[32m[I 2022-03-02 04:37:07,119]\u001b[0m Trial 74 finished with value: 0.7072537931606069 and parameters: {'solver': 'eigen', 'shrinkage': None, 'n_components': 6}. Best is trial 0 with value: 0.7072537931606069.\u001b[0m\n",
      "\u001b[32m[I 2022-03-02 04:37:11,332]\u001b[0m Trial 75 finished with value: 0.7072537931606069 and parameters: {'solver': 'eigen', 'shrinkage': None, 'n_components': 15}. Best is trial 0 with value: 0.7072537931606069.\u001b[0m\n",
      "\u001b[32m[I 2022-03-02 04:37:12,722]\u001b[0m Trial 76 finished with value: 0.7072537931606069 and parameters: {'solver': 'lsqr', 'shrinkage': None, 'n_components': 9}. Best is trial 0 with value: 0.7072537931606069.\u001b[0m\n",
      "\u001b[32m[I 2022-03-02 04:37:22,373]\u001b[0m Trial 77 finished with value: 0.7072537931606069 and parameters: {'solver': 'svd', 'shrinkage': None, 'n_components': 7}. Best is trial 0 with value: 0.7072537931606069.\u001b[0m\n",
      "\u001b[32m[I 2022-03-02 04:37:29,357]\u001b[0m Trial 78 finished with value: 0.7072537931606069 and parameters: {'solver': 'svd', 'shrinkage': None, 'n_components': 7}. Best is trial 0 with value: 0.7072537931606069.\u001b[0m\n"
     ]
    }
   ],
   "source": [
    "study = optuna.create_study(direction=\"maximize\")\n",
    "\n",
    "study.optimize(objective, n_trials=100, n_jobs=4, catch=(NotImplementedError,))"
   ]
  },
  {
   "cell_type": "code",
   "execution_count": null,
   "id": "f39bbe2c",
   "metadata": {},
   "outputs": [],
   "source": [
    "print(f\"Optimization finished at {datetime.now().strftime('%Y-%m-%d %H:%M:%S')}.\")"
   ]
  },
  {
   "cell_type": "code",
   "execution_count": null,
   "id": "9292da88",
   "metadata": {},
   "outputs": [],
   "source": [
    "def format_trial(trial):\n",
    "    return json.dumps({'number' : trial.number,\n",
    "                       'score'  : trial.values[0],\n",
    "                       'params' : trial.params}, indent=4, default=str)"
   ]
  },
  {
   "cell_type": "code",
   "execution_count": null,
   "id": "3c56ec98",
   "metadata": {
    "scrolled": true
   },
   "outputs": [],
   "source": [
    "print(format_trial(study.best_trial))"
   ]
  },
  {
   "cell_type": "code",
   "execution_count": null,
   "id": "60d5d793",
   "metadata": {
    "scrolled": true
   },
   "outputs": [],
   "source": [
    "for trial in study.best_trials:\n",
    "    print(format_trial(trial))"
   ]
  },
  {
   "cell_type": "code",
   "execution_count": null,
   "id": "d1447725",
   "metadata": {
    "scrolled": true
   },
   "outputs": [],
   "source": [
    "optuna.visualization.plot_optimization_history(study).show()"
   ]
  }
 ],
 "metadata": {
  "accelerator": "GPU",
  "colab": {
   "name": "IoT23 - DNN Opt.ipynb",
   "provenance": []
  },
  "kernelspec": {
   "display_name": "Python 3 (ipykernel)",
   "language": "python",
   "name": "python3"
  },
  "language_info": {
   "codemirror_mode": {
    "name": "ipython",
    "version": 3
   },
   "file_extension": ".py",
   "mimetype": "text/x-python",
   "name": "python",
   "nbconvert_exporter": "python",
   "pygments_lexer": "ipython3",
   "version": "3.9.7"
  }
 },
 "nbformat": 4,
 "nbformat_minor": 5
}
