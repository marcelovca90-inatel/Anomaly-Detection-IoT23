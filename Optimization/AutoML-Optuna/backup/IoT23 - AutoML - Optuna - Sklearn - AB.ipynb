{
 "cells": [
  {
   "cell_type": "code",
   "execution_count": null,
   "id": "Kd-Bm8brf0Fz",
   "metadata": {
    "id": "Kd-Bm8brf0Fz"
   },
   "outputs": [],
   "source": [
    "import matplotlib.pyplot as plt\n",
    "import numpy as np\n",
    "import pandas as pd\n",
    "import json\n",
    "import time\n",
    "import plotly\n",
    "from datetime import datetime\n",
    "import optuna\n",
    "import sklearn\n",
    "from sklearnex import patch_sklearn\n",
    "patch_sklearn()"
   ]
  },
  {
   "cell_type": "code",
   "execution_count": null,
   "id": "2229336e",
   "metadata": {},
   "outputs": [],
   "source": [
    "SEED = 10\n",
    "limit_rows = None"
   ]
  },
  {
   "cell_type": "code",
   "execution_count": null,
   "id": "dc175db4",
   "metadata": {
    "scrolled": true
   },
   "outputs": [],
   "source": [
    "print(f\"Execution started at {datetime.now().strftime('%Y-%m-%d %H:%M:%S')}.\")"
   ]
  },
  {
   "cell_type": "code",
   "execution_count": null,
   "id": "208d5970",
   "metadata": {},
   "outputs": [],
   "source": [
    "def load_csv(name):\n",
    "    if limit_rows is None:\n",
    "        full_filename = f'../Data Preprocessing/sklearn/full/iot23_combined_{name}.csv'\n",
    "    else:\n",
    "        full_filename = f'../Data Preprocessing/sklearn/semi/iot23_combined_{int(limit_rows/1000)}k_{name}.csv'\n",
    "    \n",
    "    df = pd.read_table(filepath_or_buffer=full_filename, header=None, sep=',').infer_objects().to_numpy()\n",
    "    \n",
    "    return df.ravel() if df.shape[1] == 1 else df"
   ]
  },
  {
   "cell_type": "code",
   "execution_count": null,
   "id": "steady-hotel",
   "metadata": {
    "id": "steady-hotel",
    "scrolled": false
   },
   "outputs": [],
   "source": [
    "X_train, X_test, y_train, y_test = load_csv('X_train'), load_csv('X_test'), load_csv('y_train'), load_csv('y_test')\n",
    "\n",
    "print('X_train',X_train.shape,'\\ny_train',y_train.shape)\n",
    "print('X_test',X_test.shape,'\\ny_test',y_test.shape)"
   ]
  },
  {
   "cell_type": "code",
   "execution_count": null,
   "id": "52071f65",
   "metadata": {},
   "outputs": [],
   "source": [
    "from sklearn.ensemble import AdaBoostClassifier\n",
    "\n",
    "def objective(trial):\n",
    "    \n",
    "    n_estimators  = trial.suggest_int(\"n_estimators\", 10, 200, 10)\n",
    "    learning_rate = trial.suggest_loguniform(\"learning_rate\", 1e-6, 1e0)\n",
    "\n",
    "    classifier_obj = AdaBoostClassifier(n_estimators=n_estimators,learning_rate=learning_rate)\n",
    "    \n",
    "    classifier_obj.fit(X_train, y_train)\n",
    "    \n",
    "    y_pred = classifier_obj.predict(X_test)\n",
    "    \n",
    "    accuracy = sklearn.metrics.accuracy_score(y_test, y_pred)\n",
    "    \n",
    "    return accuracy"
   ]
  },
  {
   "cell_type": "code",
   "execution_count": null,
   "id": "b09e9425",
   "metadata": {},
   "outputs": [],
   "source": [
    "print(f\"Optimization started at {datetime.now().strftime('%Y-%m-%d %H:%M:%S')}.\")"
   ]
  },
  {
   "cell_type": "code",
   "execution_count": null,
   "id": "c21cceac",
   "metadata": {
    "scrolled": false
   },
   "outputs": [],
   "source": [
    "study = optuna.create_study(direction=\"maximize\")\n",
    "\n",
    "study.optimize(objective, n_trials=100, n_jobs=-1, catch=(NotImplementedError,))"
   ]
  },
  {
   "cell_type": "code",
   "execution_count": null,
   "id": "4c63740f",
   "metadata": {},
   "outputs": [],
   "source": [
    "print(f\"Optimization finished at {datetime.now().strftime('%Y-%m-%d %H:%M:%S')}.\")"
   ]
  },
  {
   "cell_type": "code",
   "execution_count": null,
   "id": "a4dfbdb5",
   "metadata": {},
   "outputs": [],
   "source": [
    "def format_trial(trial):\n",
    "    return json.dumps({'number' : trial.number,\n",
    "                       'score'  : trial.values[0],\n",
    "                       'params' : trial.params}, indent=4, default=str)"
   ]
  },
  {
   "cell_type": "code",
   "execution_count": null,
   "id": "29508db8",
   "metadata": {
    "scrolled": true
   },
   "outputs": [],
   "source": [
    "print(format_trial(study.best_trial))"
   ]
  },
  {
   "cell_type": "code",
   "execution_count": null,
   "id": "2e2858f6",
   "metadata": {
    "scrolled": false
   },
   "outputs": [],
   "source": [
    "for trial in study.best_trials:\n",
    "    print(format_trial(trial))"
   ]
  },
  {
   "cell_type": "code",
   "execution_count": null,
   "id": "d1447725",
   "metadata": {
    "scrolled": false
   },
   "outputs": [],
   "source": [
    "optuna.visualization.plot_optimization_history(study).show()"
   ]
  }
 ],
 "metadata": {
  "accelerator": "GPU",
  "colab": {
   "name": "IoT23 - DNN Opt.ipynb",
   "provenance": []
  },
  "kernelspec": {
   "display_name": "Python 3 (ipykernel)",
   "language": "python",
   "name": "python3"
  },
  "language_info": {
   "codemirror_mode": {
    "name": "ipython",
    "version": 3
   },
   "file_extension": ".py",
   "mimetype": "text/x-python",
   "name": "python",
   "nbconvert_exporter": "python",
   "pygments_lexer": "ipython3",
   "version": "3.9.7"
  }
 },
 "nbformat": 4,
 "nbformat_minor": 5
}
