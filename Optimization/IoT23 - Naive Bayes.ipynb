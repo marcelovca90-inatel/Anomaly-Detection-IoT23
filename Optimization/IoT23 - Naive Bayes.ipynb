{
 "cells": [
  {
   "cell_type": "code",
   "execution_count": 1,
   "metadata": {},
   "outputs": [],
   "source": [
    "import pandas as pd\n",
    "import matplotlib.pyplot as plt\n",
    "import numpy as np\n",
    "import time\n",
    "from sklearn.metrics import classification_report, confusion_matrix, ConfusionMatrixDisplay\n",
    "from sklearn.model_selection import GridSearchCV\n",
    "from sklearn.model_selection import train_test_split\n",
    "from sklearn.naive_bayes import GaussianNB\n",
    "from sklearn.preprocessing import MinMaxScaler"
   ]
  },
  {
   "cell_type": "code",
   "execution_count": 2,
   "metadata": {},
   "outputs": [
    {
     "data": {
      "text/html": [
       "<div>\n",
       "<style scoped>\n",
       "    .dataframe tbody tr th:only-of-type {\n",
       "        vertical-align: middle;\n",
       "    }\n",
       "\n",
       "    .dataframe tbody tr th {\n",
       "        vertical-align: top;\n",
       "    }\n",
       "\n",
       "    .dataframe thead th {\n",
       "        text-align: right;\n",
       "    }\n",
       "</style>\n",
       "<table border=\"1\" class=\"dataframe\">\n",
       "  <thead>\n",
       "    <tr style=\"text-align: right;\">\n",
       "      <th></th>\n",
       "      <th>duration</th>\n",
       "      <th>orig_bytes</th>\n",
       "      <th>resp_bytes</th>\n",
       "      <th>missed_bytes</th>\n",
       "      <th>orig_pkts</th>\n",
       "      <th>orig_ip_bytes</th>\n",
       "      <th>resp_pkts</th>\n",
       "      <th>resp_ip_bytes</th>\n",
       "      <th>label</th>\n",
       "      <th>proto_icmp</th>\n",
       "      <th>...</th>\n",
       "      <th>conn_state_RSTOS0</th>\n",
       "      <th>conn_state_RSTR</th>\n",
       "      <th>conn_state_RSTRH</th>\n",
       "      <th>conn_state_S0</th>\n",
       "      <th>conn_state_S1</th>\n",
       "      <th>conn_state_S2</th>\n",
       "      <th>conn_state_S3</th>\n",
       "      <th>conn_state_SF</th>\n",
       "      <th>conn_state_SH</th>\n",
       "      <th>conn_state_SHR</th>\n",
       "    </tr>\n",
       "  </thead>\n",
       "  <tbody>\n",
       "    <tr>\n",
       "      <th>0</th>\n",
       "      <td>2.998796</td>\n",
       "      <td>0</td>\n",
       "      <td>0</td>\n",
       "      <td>0.0</td>\n",
       "      <td>3.0</td>\n",
       "      <td>180.0</td>\n",
       "      <td>0.0</td>\n",
       "      <td>0.0</td>\n",
       "      <td>PartOfAHorizontalPortScan</td>\n",
       "      <td>0</td>\n",
       "      <td>...</td>\n",
       "      <td>0</td>\n",
       "      <td>0</td>\n",
       "      <td>0</td>\n",
       "      <td>1</td>\n",
       "      <td>0</td>\n",
       "      <td>0</td>\n",
       "      <td>0</td>\n",
       "      <td>0</td>\n",
       "      <td>0</td>\n",
       "      <td>0</td>\n",
       "    </tr>\n",
       "    <tr>\n",
       "      <th>1</th>\n",
       "      <td>0.000000</td>\n",
       "      <td>0</td>\n",
       "      <td>0</td>\n",
       "      <td>0.0</td>\n",
       "      <td>1.0</td>\n",
       "      <td>60.0</td>\n",
       "      <td>0.0</td>\n",
       "      <td>0.0</td>\n",
       "      <td>PartOfAHorizontalPortScan</td>\n",
       "      <td>0</td>\n",
       "      <td>...</td>\n",
       "      <td>0</td>\n",
       "      <td>0</td>\n",
       "      <td>0</td>\n",
       "      <td>1</td>\n",
       "      <td>0</td>\n",
       "      <td>0</td>\n",
       "      <td>0</td>\n",
       "      <td>0</td>\n",
       "      <td>0</td>\n",
       "      <td>0</td>\n",
       "    </tr>\n",
       "    <tr>\n",
       "      <th>2</th>\n",
       "      <td>0.000000</td>\n",
       "      <td>0</td>\n",
       "      <td>0</td>\n",
       "      <td>0.0</td>\n",
       "      <td>1.0</td>\n",
       "      <td>60.0</td>\n",
       "      <td>0.0</td>\n",
       "      <td>0.0</td>\n",
       "      <td>PartOfAHorizontalPortScan</td>\n",
       "      <td>0</td>\n",
       "      <td>...</td>\n",
       "      <td>0</td>\n",
       "      <td>0</td>\n",
       "      <td>0</td>\n",
       "      <td>1</td>\n",
       "      <td>0</td>\n",
       "      <td>0</td>\n",
       "      <td>0</td>\n",
       "      <td>0</td>\n",
       "      <td>0</td>\n",
       "      <td>0</td>\n",
       "    </tr>\n",
       "    <tr>\n",
       "      <th>3</th>\n",
       "      <td>2.998804</td>\n",
       "      <td>0</td>\n",
       "      <td>0</td>\n",
       "      <td>0.0</td>\n",
       "      <td>3.0</td>\n",
       "      <td>180.0</td>\n",
       "      <td>0.0</td>\n",
       "      <td>0.0</td>\n",
       "      <td>Benign</td>\n",
       "      <td>0</td>\n",
       "      <td>...</td>\n",
       "      <td>0</td>\n",
       "      <td>0</td>\n",
       "      <td>0</td>\n",
       "      <td>1</td>\n",
       "      <td>0</td>\n",
       "      <td>0</td>\n",
       "      <td>0</td>\n",
       "      <td>0</td>\n",
       "      <td>0</td>\n",
       "      <td>0</td>\n",
       "    </tr>\n",
       "    <tr>\n",
       "      <th>4</th>\n",
       "      <td>0.000000</td>\n",
       "      <td>0</td>\n",
       "      <td>0</td>\n",
       "      <td>0.0</td>\n",
       "      <td>1.0</td>\n",
       "      <td>60.0</td>\n",
       "      <td>0.0</td>\n",
       "      <td>0.0</td>\n",
       "      <td>Benign</td>\n",
       "      <td>0</td>\n",
       "      <td>...</td>\n",
       "      <td>0</td>\n",
       "      <td>0</td>\n",
       "      <td>0</td>\n",
       "      <td>1</td>\n",
       "      <td>0</td>\n",
       "      <td>0</td>\n",
       "      <td>0</td>\n",
       "      <td>0</td>\n",
       "      <td>0</td>\n",
       "      <td>0</td>\n",
       "    </tr>\n",
       "    <tr>\n",
       "      <th>...</th>\n",
       "      <td>...</td>\n",
       "      <td>...</td>\n",
       "      <td>...</td>\n",
       "      <td>...</td>\n",
       "      <td>...</td>\n",
       "      <td>...</td>\n",
       "      <td>...</td>\n",
       "      <td>...</td>\n",
       "      <td>...</td>\n",
       "      <td>...</td>\n",
       "      <td>...</td>\n",
       "      <td>...</td>\n",
       "      <td>...</td>\n",
       "      <td>...</td>\n",
       "      <td>...</td>\n",
       "      <td>...</td>\n",
       "      <td>...</td>\n",
       "      <td>...</td>\n",
       "      <td>...</td>\n",
       "      <td>...</td>\n",
       "      <td>...</td>\n",
       "    </tr>\n",
       "    <tr>\n",
       "      <th>1444669</th>\n",
       "      <td>0.000000</td>\n",
       "      <td>0</td>\n",
       "      <td>0</td>\n",
       "      <td>0.0</td>\n",
       "      <td>1.0</td>\n",
       "      <td>40.0</td>\n",
       "      <td>0.0</td>\n",
       "      <td>0.0</td>\n",
       "      <td>PartOfAHorizontalPortScan</td>\n",
       "      <td>0</td>\n",
       "      <td>...</td>\n",
       "      <td>0</td>\n",
       "      <td>0</td>\n",
       "      <td>0</td>\n",
       "      <td>1</td>\n",
       "      <td>0</td>\n",
       "      <td>0</td>\n",
       "      <td>0</td>\n",
       "      <td>0</td>\n",
       "      <td>0</td>\n",
       "      <td>0</td>\n",
       "    </tr>\n",
       "    <tr>\n",
       "      <th>1444670</th>\n",
       "      <td>0.000000</td>\n",
       "      <td>0</td>\n",
       "      <td>0</td>\n",
       "      <td>0.0</td>\n",
       "      <td>1.0</td>\n",
       "      <td>40.0</td>\n",
       "      <td>0.0</td>\n",
       "      <td>0.0</td>\n",
       "      <td>PartOfAHorizontalPortScan</td>\n",
       "      <td>0</td>\n",
       "      <td>...</td>\n",
       "      <td>0</td>\n",
       "      <td>0</td>\n",
       "      <td>0</td>\n",
       "      <td>1</td>\n",
       "      <td>0</td>\n",
       "      <td>0</td>\n",
       "      <td>0</td>\n",
       "      <td>0</td>\n",
       "      <td>0</td>\n",
       "      <td>0</td>\n",
       "    </tr>\n",
       "    <tr>\n",
       "      <th>1444671</th>\n",
       "      <td>0.000000</td>\n",
       "      <td>0</td>\n",
       "      <td>0</td>\n",
       "      <td>0.0</td>\n",
       "      <td>1.0</td>\n",
       "      <td>40.0</td>\n",
       "      <td>0.0</td>\n",
       "      <td>0.0</td>\n",
       "      <td>PartOfAHorizontalPortScan</td>\n",
       "      <td>0</td>\n",
       "      <td>...</td>\n",
       "      <td>0</td>\n",
       "      <td>0</td>\n",
       "      <td>0</td>\n",
       "      <td>1</td>\n",
       "      <td>0</td>\n",
       "      <td>0</td>\n",
       "      <td>0</td>\n",
       "      <td>0</td>\n",
       "      <td>0</td>\n",
       "      <td>0</td>\n",
       "    </tr>\n",
       "    <tr>\n",
       "      <th>1444672</th>\n",
       "      <td>0.000000</td>\n",
       "      <td>0</td>\n",
       "      <td>0</td>\n",
       "      <td>0.0</td>\n",
       "      <td>1.0</td>\n",
       "      <td>40.0</td>\n",
       "      <td>0.0</td>\n",
       "      <td>0.0</td>\n",
       "      <td>PartOfAHorizontalPortScan</td>\n",
       "      <td>0</td>\n",
       "      <td>...</td>\n",
       "      <td>0</td>\n",
       "      <td>0</td>\n",
       "      <td>0</td>\n",
       "      <td>1</td>\n",
       "      <td>0</td>\n",
       "      <td>0</td>\n",
       "      <td>0</td>\n",
       "      <td>0</td>\n",
       "      <td>0</td>\n",
       "      <td>0</td>\n",
       "    </tr>\n",
       "    <tr>\n",
       "      <th>1444673</th>\n",
       "      <td>0.000000</td>\n",
       "      <td>0</td>\n",
       "      <td>0</td>\n",
       "      <td>0.0</td>\n",
       "      <td>1.0</td>\n",
       "      <td>40.0</td>\n",
       "      <td>0.0</td>\n",
       "      <td>0.0</td>\n",
       "      <td>PartOfAHorizontalPortScan</td>\n",
       "      <td>0</td>\n",
       "      <td>...</td>\n",
       "      <td>0</td>\n",
       "      <td>0</td>\n",
       "      <td>0</td>\n",
       "      <td>1</td>\n",
       "      <td>0</td>\n",
       "      <td>0</td>\n",
       "      <td>0</td>\n",
       "      <td>0</td>\n",
       "      <td>0</td>\n",
       "      <td>0</td>\n",
       "    </tr>\n",
       "  </tbody>\n",
       "</table>\n",
       "<p>1444674 rows × 25 columns</p>\n",
       "</div>"
      ],
      "text/plain": [
       "         duration  orig_bytes  resp_bytes  missed_bytes  orig_pkts  \\\n",
       "0        2.998796           0           0           0.0        3.0   \n",
       "1        0.000000           0           0           0.0        1.0   \n",
       "2        0.000000           0           0           0.0        1.0   \n",
       "3        2.998804           0           0           0.0        3.0   \n",
       "4        0.000000           0           0           0.0        1.0   \n",
       "...           ...         ...         ...           ...        ...   \n",
       "1444669  0.000000           0           0           0.0        1.0   \n",
       "1444670  0.000000           0           0           0.0        1.0   \n",
       "1444671  0.000000           0           0           0.0        1.0   \n",
       "1444672  0.000000           0           0           0.0        1.0   \n",
       "1444673  0.000000           0           0           0.0        1.0   \n",
       "\n",
       "         orig_ip_bytes  resp_pkts  resp_ip_bytes                      label  \\\n",
       "0                180.0        0.0            0.0  PartOfAHorizontalPortScan   \n",
       "1                 60.0        0.0            0.0  PartOfAHorizontalPortScan   \n",
       "2                 60.0        0.0            0.0  PartOfAHorizontalPortScan   \n",
       "3                180.0        0.0            0.0                     Benign   \n",
       "4                 60.0        0.0            0.0                     Benign   \n",
       "...                ...        ...            ...                        ...   \n",
       "1444669           40.0        0.0            0.0  PartOfAHorizontalPortScan   \n",
       "1444670           40.0        0.0            0.0  PartOfAHorizontalPortScan   \n",
       "1444671           40.0        0.0            0.0  PartOfAHorizontalPortScan   \n",
       "1444672           40.0        0.0            0.0  PartOfAHorizontalPortScan   \n",
       "1444673           40.0        0.0            0.0  PartOfAHorizontalPortScan   \n",
       "\n",
       "         proto_icmp  ...  conn_state_RSTOS0  conn_state_RSTR  \\\n",
       "0                 0  ...                  0                0   \n",
       "1                 0  ...                  0                0   \n",
       "2                 0  ...                  0                0   \n",
       "3                 0  ...                  0                0   \n",
       "4                 0  ...                  0                0   \n",
       "...             ...  ...                ...              ...   \n",
       "1444669           0  ...                  0                0   \n",
       "1444670           0  ...                  0                0   \n",
       "1444671           0  ...                  0                0   \n",
       "1444672           0  ...                  0                0   \n",
       "1444673           0  ...                  0                0   \n",
       "\n",
       "         conn_state_RSTRH  conn_state_S0  conn_state_S1  conn_state_S2  \\\n",
       "0                       0              1              0              0   \n",
       "1                       0              1              0              0   \n",
       "2                       0              1              0              0   \n",
       "3                       0              1              0              0   \n",
       "4                       0              1              0              0   \n",
       "...                   ...            ...            ...            ...   \n",
       "1444669                 0              1              0              0   \n",
       "1444670                 0              1              0              0   \n",
       "1444671                 0              1              0              0   \n",
       "1444672                 0              1              0              0   \n",
       "1444673                 0              1              0              0   \n",
       "\n",
       "         conn_state_S3  conn_state_SF  conn_state_SH  conn_state_SHR  \n",
       "0                    0              0              0               0  \n",
       "1                    0              0              0               0  \n",
       "2                    0              0              0               0  \n",
       "3                    0              0              0               0  \n",
       "4                    0              0              0               0  \n",
       "...                ...            ...            ...             ...  \n",
       "1444669              0              0              0               0  \n",
       "1444670              0              0              0               0  \n",
       "1444671              0              0              0               0  \n",
       "1444672              0              0              0               0  \n",
       "1444673              0              0              0               0  \n",
       "\n",
       "[1444674 rows x 25 columns]"
      ]
     },
     "execution_count": 2,
     "metadata": {},
     "output_type": "execute_result"
    }
   ],
   "source": [
    "filepath = \"../Data Preprocessing/iot23_combined.csv\"\n",
    "df = pd.read_csv(filepath)\n",
    "del df['Unnamed: 0']\n",
    "df"
   ]
  },
  {
   "cell_type": "code",
   "execution_count": 3,
   "metadata": {},
   "outputs": [
    {
     "data": {
      "text/plain": [
       "PartOfAHorizontalPortScan     825939\n",
       "Okiru                         262690\n",
       "Benign                        197809\n",
       "DDoS                          138777\n",
       "C&C                            15100\n",
       "Attack                          3915\n",
       "C&C-HeartBeat                    349\n",
       "C&C-FileDownload                  43\n",
       "C&C-Torii                         30\n",
       "FileDownload                      13\n",
       "C&C-HeartBeat-FileDownload         8\n",
       "C&C-Mirai                          1\n",
       "Name: label, dtype: int64"
      ]
     },
     "execution_count": 3,
     "metadata": {},
     "output_type": "execute_result"
    }
   ],
   "source": [
    "df['label'].value_counts()"
   ]
  },
  {
   "cell_type": "code",
   "execution_count": 4,
   "metadata": {},
   "outputs": [
    {
     "data": {
      "text/plain": [
       "Index(['duration', 'orig_bytes', 'resp_bytes', 'missed_bytes', 'orig_pkts',\n",
       "       'orig_ip_bytes', 'resp_pkts', 'resp_ip_bytes', 'label', 'proto_icmp',\n",
       "       'proto_tcp', 'proto_udp', 'conn_state_OTH', 'conn_state_REJ',\n",
       "       'conn_state_RSTO', 'conn_state_RSTOS0', 'conn_state_RSTR',\n",
       "       'conn_state_RSTRH', 'conn_state_S0', 'conn_state_S1', 'conn_state_S2',\n",
       "       'conn_state_S3', 'conn_state_SF', 'conn_state_SH', 'conn_state_SHR'],\n",
       "      dtype='object')"
      ]
     },
     "execution_count": 4,
     "metadata": {},
     "output_type": "execute_result"
    }
   ],
   "source": [
    "df.columns"
   ]
  },
  {
   "cell_type": "code",
   "execution_count": 5,
   "metadata": {},
   "outputs": [],
   "source": [
    "X = df[['duration', 'orig_bytes', 'resp_bytes', 'missed_bytes', 'orig_pkts', 'orig_ip_bytes', 'resp_pkts', 'resp_ip_bytes', 'proto_icmp', 'proto_tcp', 'proto_udp', 'conn_state_OTH', 'conn_state_REJ', 'conn_state_RSTO', 'conn_state_RSTOS0', 'conn_state_RSTR', 'conn_state_RSTRH', 'conn_state_S0', 'conn_state_S1', 'conn_state_S2', 'conn_state_S3', 'conn_state_SF', 'conn_state_SH', 'conn_state_SHR']]\n",
    "Y = df['label']"
   ]
  },
  {
   "cell_type": "code",
   "execution_count": 6,
   "metadata": {},
   "outputs": [
    {
     "data": {
      "text/plain": [
       "array([[8.16450401e-05, 5.73121586e-10, 8.57558209e-08, ...,\n",
       "        0.00000000e+00, 0.00000000e+00, 0.00000000e+00],\n",
       "       [2.04174057e-05, 5.73121586e-10, 8.57558209e-08, ...,\n",
       "        0.00000000e+00, 0.00000000e+00, 0.00000000e+00],\n",
       "       [2.04174057e-05, 5.73121586e-10, 8.57558209e-08, ...,\n",
       "        0.00000000e+00, 0.00000000e+00, 0.00000000e+00],\n",
       "       ...,\n",
       "       [2.04174057e-05, 5.73121586e-10, 8.57558209e-08, ...,\n",
       "        0.00000000e+00, 0.00000000e+00, 0.00000000e+00],\n",
       "       [2.04174057e-05, 5.73121586e-10, 8.57558209e-08, ...,\n",
       "        0.00000000e+00, 0.00000000e+00, 0.00000000e+00],\n",
       "       [2.04174057e-05, 5.73121586e-10, 8.57558209e-08, ...,\n",
       "        0.00000000e+00, 0.00000000e+00, 0.00000000e+00]])"
      ]
     },
     "execution_count": 6,
     "metadata": {},
     "output_type": "execute_result"
    }
   ],
   "source": [
    "scaler = MinMaxScaler()\n",
    "scaler.fit(X)\n",
    "normalized_x = scaler.transform(X)\n",
    "normalized_x"
   ]
  },
  {
   "cell_type": "code",
   "execution_count": 7,
   "metadata": {},
   "outputs": [],
   "source": [
    "X_train, X_test, Y_train, Y_test = train_test_split(normalized_x, Y, random_state=100, test_size=0.2)"
   ]
  },
  {
   "cell_type": "code",
   "execution_count": 8,
   "metadata": {},
   "outputs": [
    {
     "name": "stdout",
     "output_type": "stream",
     "text": [
      "{'var_smoothing': array([1.e-12, 1.e-11, 1.e-10, 1.e-09, 1.e-08, 1.e-07, 1.e-06, 1.e-05,\n",
      "       1.e-04, 1.e-03, 1.e-02, 1.e-01, 1.e+00])}\n"
     ]
    }
   ],
   "source": [
    "tuned_parameters  = {\n",
    "    \"var_smoothing\": np.logspace(start=-12.0, stop=0.0, num=13, base=10.0)\n",
    "}\n",
    "print(tuned_parameters)"
   ]
  },
  {
   "cell_type": "code",
   "execution_count": 9,
   "metadata": {
    "scrolled": false
   },
   "outputs": [
    {
     "name": "stdout",
     "output_type": "stream",
     "text": [
      "Fitting 5 folds for each of 13 candidates, totalling 65 fits\n"
     ]
    },
    {
     "name": "stderr",
     "output_type": "stream",
     "text": [
      "/Users/marcelocysneiros/anaconda3/envs/doutorado/lib/python3.7/site-packages/sklearn/model_selection/_split.py:680: UserWarning: The least populated class in y has only 1 members, which is less than n_splits=5.\n",
      "  UserWarning,\n"
     ]
    },
    {
     "data": {
      "text/plain": [
       "GridSearchCV(estimator=GaussianNB(), n_jobs=-1,\n",
       "             param_grid={'var_smoothing': array([1.e-12, 1.e-11, 1.e-10, 1.e-09, 1.e-08, 1.e-07, 1.e-06, 1.e-05,\n",
       "       1.e-04, 1.e-03, 1.e-02, 1.e-01, 1.e+00])},\n",
       "             scoring='accuracy', verbose=2)"
      ]
     },
     "execution_count": 9,
     "metadata": {},
     "output_type": "execute_result"
    }
   ],
   "source": [
    "clf = GridSearchCV(GaussianNB(), tuned_parameters, scoring=\"accuracy\", n_jobs=-1, verbose=2)\n",
    "clf.fit(X_train, Y_train)"
   ]
  },
  {
   "cell_type": "code",
   "execution_count": 10,
   "metadata": {},
   "outputs": [
    {
     "name": "stdout",
     "output_type": "stream",
     "text": [
      "Best parameters set found on development set: {'var_smoothing': 0.1}\n",
      "\n",
      "Refit time (in seconds): 3.784295082092285\n",
      "\n",
      "Grid scores on development set:\n",
      "0.302 (+/-0.000517) for {'var_smoothing': 1e-12}\n",
      "0.302 (+/-0.000517) for {'var_smoothing': 1e-11}\n",
      "0.302 (+/-0.000510) for {'var_smoothing': 1e-10}\n",
      "0.302 (+/-0.000502) for {'var_smoothing': 1e-09}\n",
      "0.302 (+/-0.000548) for {'var_smoothing': 1e-08}\n",
      "0.304 (+/-0.001758) for {'var_smoothing': 1e-07}\n",
      "0.304 (+/-0.000522) for {'var_smoothing': 1e-06}\n",
      "0.304 (+/-0.000533) for {'var_smoothing': 1e-05}\n",
      "0.304 (+/-0.000534) for {'var_smoothing': 0.0001}\n",
      "0.303 (+/-0.002145) for {'var_smoothing': 0.001}\n",
      "0.615 (+/-0.310098) for {'var_smoothing': 0.01}\n",
      "0.692 (+/-0.000621) for {'var_smoothing': 0.1}\n",
      "0.690 (+/-0.000687) for {'var_smoothing': 1.0}\n"
     ]
    }
   ],
   "source": [
    "print(\"Best parameters set found on development set:\", clf.best_params_)\n",
    "\n",
    "print(\"\\nRefit time (in seconds):\", clf.refit_time_)\n",
    "\n",
    "print(\"\\nGrid scores on development set:\")\n",
    "means = clf.cv_results_[\"mean_test_score\"]\n",
    "stds = clf.cv_results_[\"std_test_score\"]\n",
    "params = clf.cv_results_[\"params\"]\n",
    "for mean, std, param in zip(means, stds, params):\n",
    "    print(\"%0.3f (+/-%0.06f) for %r\" % (mean, std * 2, param))"
   ]
  },
  {
   "cell_type": "code",
   "execution_count": 11,
   "metadata": {},
   "outputs": [
    {
     "data": {
      "text/plain": [
       "Text(0.5, 1.0, 'GridSearchCV results')"
      ]
     },
     "execution_count": 11,
     "metadata": {},
     "output_type": "execute_result"
    },
    {
     "data": {
      "image/png": "[encoded data removed]",
      "text/plain": [
       "<Figure size 576x576 with 1 Axes>"
      ]
     },
     "metadata": {
      "needs_background": "light"
     },
     "output_type": "display_data"
    }
   ],
   "source": [
    "x = []\n",
    "for dic in params:\n",
    "    for i in dic:\n",
    "        x.append(f\"'{i}': {dic[i]:0.3e}\")\n",
    "y = means\n",
    "err = stds * 2\n",
    "\n",
    "fig, ax = plt.subplots(figsize=(8,8))\n",
    "plt.style.use('seaborn-whitegrid')\n",
    "plt.errorbar(x, y, yerr=err, fmt='o', color='black', ecolor='lightsalmon', elinewidth=3, capsize=0);\n",
    "plt.xlabel('Parameter(s)')\n",
    "plt.xticks(rotation=60, ha='right')\n",
    "plt.ylabel('Accuracy')\n",
    "plt.ylim(0, 1)\n",
    "plt.title('GridSearchCV results')"
   ]
  },
  {
   "cell_type": "code",
   "execution_count": 12,
   "metadata": {
    "scrolled": false
   },
   "outputs": [
    {
     "name": "stdout",
     "output_type": "stream",
     "text": [
      "Detailed classification report:\n",
      " - The model is trained on the full development set.\n",
      " - The scores are computed on the full evaluation set.\n"
     ]
    },
    {
     "name": "stderr",
     "output_type": "stream",
     "text": [
      "/Users/marcelocysneiros/anaconda3/envs/doutorado/lib/python3.7/site-packages/sklearn/metrics/_classification.py:1308: UndefinedMetricWarning: Precision and F-score are ill-defined and being set to 0.0 in labels with no predicted samples. Use `zero_division` parameter to control this behavior.\n",
      "  _warn_prf(average, modifier, msg_start, len(result))\n",
      "/Users/marcelocysneiros/anaconda3/envs/doutorado/lib/python3.7/site-packages/sklearn/metrics/_classification.py:1308: UndefinedMetricWarning: Recall and F-score are ill-defined and being set to 0.0 in labels with no true samples. Use `zero_division` parameter to control this behavior.\n",
      "  _warn_prf(average, modifier, msg_start, len(result))\n",
      "/Users/marcelocysneiros/anaconda3/envs/doutorado/lib/python3.7/site-packages/sklearn/metrics/_classification.py:1308: UndefinedMetricWarning: Precision and F-score are ill-defined and being set to 0.0 in labels with no predicted samples. Use `zero_division` parameter to control this behavior.\n",
      "  _warn_prf(average, modifier, msg_start, len(result))\n",
      "/Users/marcelocysneiros/anaconda3/envs/doutorado/lib/python3.7/site-packages/sklearn/metrics/_classification.py:1308: UndefinedMetricWarning: Recall and F-score are ill-defined and being set to 0.0 in labels with no true samples. Use `zero_division` parameter to control this behavior.\n",
      "  _warn_prf(average, modifier, msg_start, len(result))\n"
     ]
    },
    {
     "name": "stdout",
     "output_type": "stream",
     "text": [
      "                            precision    recall  f1-score   support\n",
      "\n",
      "                    Attack       0.75      0.97      0.85       764\n",
      "                    Benign       1.00      0.29      0.45     39944\n",
      "                       C&C       0.66      0.11      0.18      2960\n",
      "          C&C-FileDownload       0.40      0.22      0.29         9\n",
      "             C&C-HeartBeat       0.04      0.48      0.08        60\n",
      "C&C-HeartBeat-FileDownload       0.00      0.00      0.00         1\n",
      "                 C&C-Mirai       0.00      0.00      0.00         0\n",
      "                 C&C-Torii       0.08      0.20      0.12         5\n",
      "                      DDoS       1.00      0.82      0.90     27578\n",
      "              FileDownload       0.00      0.00      0.00         2\n",
      "                     Okiru       0.00      0.00      0.00     52275\n",
      " PartOfAHorizontalPortScan       0.65      1.00      0.79    165337\n",
      "\n",
      "                  accuracy                           0.69    288935\n",
      "                 macro avg       0.38      0.34      0.30    288935\n",
      "              weighted avg       0.62      0.69      0.60    288935\n",
      "\n"
     ]
    },
    {
     "name": "stderr",
     "output_type": "stream",
     "text": [
      "/Users/marcelocysneiros/anaconda3/envs/doutorado/lib/python3.7/site-packages/sklearn/metrics/_classification.py:1308: UndefinedMetricWarning: Precision and F-score are ill-defined and being set to 0.0 in labels with no predicted samples. Use `zero_division` parameter to control this behavior.\n",
      "  _warn_prf(average, modifier, msg_start, len(result))\n",
      "/Users/marcelocysneiros/anaconda3/envs/doutorado/lib/python3.7/site-packages/sklearn/metrics/_classification.py:1308: UndefinedMetricWarning: Recall and F-score are ill-defined and being set to 0.0 in labels with no true samples. Use `zero_division` parameter to control this behavior.\n",
      "  _warn_prf(average, modifier, msg_start, len(result))\n"
     ]
    }
   ],
   "source": [
    "print(\"Detailed classification report:\")\n",
    "print(\" - The model is trained on the full development set.\")\n",
    "print(\" - The scores are computed on the full evaluation set.\")\n",
    "Y_true, Y_pred = Y_test, clf.predict(X_test)\n",
    "print(classification_report(Y_true, Y_pred))"
   ]
  },
  {
   "cell_type": "code",
   "execution_count": 13,
   "metadata": {
    "scrolled": true
   },
   "outputs": [
    {
     "data": {
      "text/plain": [
       "<sklearn.metrics._plot.confusion_matrix.ConfusionMatrixDisplay at 0x7fc9983a5650>"
      ]
     },
     "execution_count": 13,
     "metadata": {},
     "output_type": "execute_result"
    },
    {
     "data": {
      "image/png": "[encoded data removed]",
      "text/plain": [
       "<Figure size 720x720 with 2 Axes>"
      ]
     },
     "metadata": {},
     "output_type": "display_data"
    }
   ],
   "source": [
    "cm = confusion_matrix(Y_true, Y_pred, normalize='true')\n",
    "disp = ConfusionMatrixDisplay(cm, display_labels=df['label'].unique())\n",
    "\n",
    "fig, ax = plt.subplots(figsize=(10,10))\n",
    "disp.plot(ax=ax,\n",
    "          cmap=plt.cm.Blues,\n",
    "          xticks_rotation=90,\n",
    "          values_format='.1f')"
   ]
  }
 ],
 "metadata": {
  "kernelspec": {
   "display_name": "Python 3 (ipykernel)",
   "language": "python",
   "name": "python3"
  },
  "language_info": {
   "codemirror_mode": {
    "name": "ipython",
    "version": 3
   },
   "file_extension": ".py",
   "mimetype": "text/x-python",
   "name": "python",
   "nbconvert_exporter": "python",
   "pygments_lexer": "ipython3",
   "version": "3.7.11"
  }
 },
 "nbformat": 4,
 "nbformat_minor": 4
}
