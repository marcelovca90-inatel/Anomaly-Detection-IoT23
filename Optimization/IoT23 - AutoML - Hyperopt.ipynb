{
 "cells": [
  {
   "cell_type": "code",
   "execution_count": null,
   "id": "Kd-Bm8brf0Fz",
   "metadata": {
    "id": "Kd-Bm8brf0Fz"
   },
   "outputs": [],
   "source": [
    "import matplotlib.pyplot as plt\n",
    "import numpy as np\n",
    "import pandas as pd\n",
    "import json\n",
    "import time\n",
    "from datetime import datetime\n",
    "from sklearn.model_selection import train_test_split\n",
    "from sklearn.preprocessing import MinMaxScaler\n",
    "from sklearnex import patch_sklearn\n",
    "patch_sklearn()\n",
    "from hpsklearn import *\n",
    "from hyperopt import hp, tpe"
   ]
  },
  {
   "cell_type": "code",
   "execution_count": null,
   "id": "2229336e",
   "metadata": {},
   "outputs": [],
   "source": [
    "SEED = 10"
   ]
  },
  {
   "cell_type": "code",
   "execution_count": null,
   "id": "dc175db4",
   "metadata": {
    "scrolled": true
   },
   "outputs": [],
   "source": [
    "print(f\"Execution started at {datetime.now().strftime('%Y-%m-%d %H:%M:%S')}.\")"
   ]
  },
  {
   "cell_type": "code",
   "execution_count": null,
   "id": "better-permit",
   "metadata": {
    "id": "better-permit"
   },
   "outputs": [],
   "source": [
    "filepath = \"../Data Preprocessing/iot23_combined_1000k.csv\"\n",
    "df = pd.read_csv(filepath)"
   ]
  },
  {
   "cell_type": "code",
   "execution_count": null,
   "id": "initial-biotechnology",
   "metadata": {
    "colab": {
     "base_uri": "https://localhost:8080/",
     "height": 505
    },
    "id": "initial-biotechnology",
    "outputId": "e027dfbe-1202-4a40-d0d4-fdbb083049ba"
   },
   "outputs": [],
   "source": [
    "df"
   ]
  },
  {
   "cell_type": "code",
   "execution_count": null,
   "id": "paperback-heritage",
   "metadata": {
    "id": "paperback-heritage"
   },
   "outputs": [],
   "source": [
    "del df['Unnamed: 0']"
   ]
  },
  {
   "cell_type": "code",
   "execution_count": null,
   "id": "inside-north",
   "metadata": {
    "colab": {
     "base_uri": "https://localhost:8080/"
    },
    "id": "inside-north",
    "outputId": "e2ccfd8b-0e5b-486d-ee29-432dbeeddad2",
    "scrolled": false
   },
   "outputs": [],
   "source": [
    "df['label'].value_counts()"
   ]
  },
  {
   "cell_type": "code",
   "execution_count": null,
   "id": "d7654c0f",
   "metadata": {},
   "outputs": [],
   "source": [
    "good = 'Benign'\n",
    "bad = 'PartOfAHorizontalPortScan'\n",
    "filtered_labels = df['label'].value_counts().index.drop([good,bad])\n",
    "for label in filtered_labels:\n",
    "    df.drop(df[df.label == label].index, inplace=True)"
   ]
  },
  {
   "cell_type": "code",
   "execution_count": null,
   "id": "f100df72",
   "metadata": {},
   "outputs": [],
   "source": [
    "df['label'].value_counts()"
   ]
  },
  {
   "cell_type": "code",
   "execution_count": null,
   "id": "b31b64a2",
   "metadata": {},
   "outputs": [],
   "source": [
    "df.loc[(df.label == good), 'label'] = 0\n",
    "df.loc[(df.label == bad), 'label'] = 1\n",
    "df = df.astype({'label': int})"
   ]
  },
  {
   "cell_type": "code",
   "execution_count": null,
   "id": "df672b70",
   "metadata": {},
   "outputs": [],
   "source": [
    "df['label'].value_counts()"
   ]
  },
  {
   "cell_type": "code",
   "execution_count": null,
   "id": "5bfc4e88",
   "metadata": {},
   "outputs": [],
   "source": [
    "df"
   ]
  },
  {
   "cell_type": "code",
   "execution_count": null,
   "id": "steady-hotel",
   "metadata": {
    "id": "steady-hotel",
    "scrolled": false
   },
   "outputs": [],
   "source": [
    "X = df.loc[:, df.columns != 'label']\n",
    "print(X.shape)"
   ]
  },
  {
   "cell_type": "code",
   "execution_count": null,
   "id": "published-store",
   "metadata": {
    "id": "published-store"
   },
   "outputs": [],
   "source": [
    "Y = df['label'].values\n",
    "print(Y.shape)"
   ]
  },
  {
   "cell_type": "code",
   "execution_count": null,
   "id": "69362ff8",
   "metadata": {},
   "outputs": [],
   "source": [
    "from sklearn.feature_selection import SelectKBest, SelectPercentile, SelectFpr, SelectFdr, SelectFwe\n",
    "from sklearn.feature_selection import chi2, f_classif, mutual_info_classif\n",
    "X = MinMaxScaler(feature_range=(0,1)).fit_transform(X,Y)\n",
    "X = SelectPercentile(percentile=1).fit_transform(X,Y)\n",
    "print(X.shape)"
   ]
  },
  {
   "cell_type": "code",
   "execution_count": null,
   "id": "touched-tanzania",
   "metadata": {
    "id": "touched-tanzania"
   },
   "outputs": [],
   "source": [
    "X_train, X_test, Y_train, Y_test = train_test_split(X, Y, random_state=SEED, test_size=0.2)"
   ]
  },
  {
   "cell_type": "code",
   "execution_count": null,
   "id": "earned-advertiser",
   "metadata": {
    "id": "earned-advertiser"
   },
   "outputs": [],
   "source": [
    "best_results = {}\n",
    "\n",
    "classifiers = [\n",
    "    ada_boost('ab'),\n",
    "    decision_tree('dt'),\n",
    "    extra_trees('et'),\n",
    "    gaussian_nb('gnb'),\n",
    "    gradient_boosting('gb'),\n",
    "    knn('knn'),\n",
    "    liblinear_svc('svc-ll'),\n",
    "    linear_discriminant_analysis('lda',n_components=1),\n",
    "    multinomial_nb('mnb'),\n",
    "    one_vs_one('ovo'),\n",
    "    one_vs_rest('ovr'),\n",
    "    output_code('oc'),\n",
    "    passive_aggressive('pa'),\n",
    "    quadratic_discriminant_analysis('qda'),\n",
    "    random_forest('rf'),\n",
    "    sgd('sgd'),\n",
    "    svc('svc'),\n",
    "    svc_linear('svc-l'),\n",
    "    svc_poly('svc-p'),\n",
    "    svc_rbf('svc-r'),\n",
    "    svc_sigmoid('svc-s'),\n",
    "    xgboost_classification('xgb')\n",
    "]\n",
    "\n",
    "for clf in classifiers:\n",
    "    \n",
    "    clf_name = clf.name.replace('sklearn_','').replace('Classifier','')\n",
    "    if clf_name == 'switch':\n",
    "        clf_name = 'SVC-LL'\n",
    "    elif 'SVC' in clf_name:\n",
    "        for arg in clf.named_args:\n",
    "            if arg[0] == 'kernel':\n",
    "                clf_name += f'-{arg[1].obj.capitalize()[0]}'\n",
    "    clf_name = ''.join(c for c in clf_name if (c.isupper() or c == '-'))\n",
    "    \n",
    "    print(f'\\n******************** {clf_name} ********************')\n",
    "    \n",
    "    best_results[clf_name] = (0.0, None)\n",
    "        \n",
    "    try:\n",
    "        estim = HyperoptEstimator(classifier=clf,\n",
    "                                  preprocessing=[],\n",
    "                                  algo=tpe.suggest,\n",
    "                                  max_evals=10,\n",
    "                                  trial_timeout=600,\n",
    "                                  seed=np.random.default_rng(SEED),\n",
    "                                  fit_increment=1,\n",
    "                                  fit_increment_dump_filename=f'hyperopt_increments/{clf_name}.inc',\n",
    "                                  n_jobs=-1)\n",
    "    except Exception as e:\n",
    "        print(f\"********** Could not create {clf_name}. Reason: '{str(e)}'. **********\")\n",
    "        \n",
    "    try:\n",
    "        estim.fit(X_train, Y_train, random_state=SEED)\n",
    "    except Exception as e:\n",
    "        print(f\"********** Could not fit {clf_name}. Reason: '{str(e)}'. **********\")\n",
    "        \n",
    "    try:\n",
    "        score = estim.score(X_test, Y_test)\n",
    "        best_model = estim.best_model()\n",
    "        best_results[clf_name] = (score, best_model)\n",
    "        print(best_results[clf_name])\n",
    "    except Exception as e:\n",
    "        print(f\"********** Could not evaluate {clf_name}. Reason: '{str(e)}'. **********\")"
   ]
  },
  {
   "cell_type": "code",
   "execution_count": null,
   "id": "c21cceac",
   "metadata": {},
   "outputs": [],
   "source": [
    "best_results = dict(sorted(best_results.items()))\n",
    "print(json.dumps(best_results, indent=4, default=str))"
   ]
  },
  {
   "cell_type": "code",
   "execution_count": null,
   "id": "d1447725",
   "metadata": {},
   "outputs": [],
   "source": [
    "names = list(best_results.keys())\n",
    "print(names)\n",
    "values = list(x[0] for x in best_results.values())\n",
    "print(values)\n",
    "\n",
    "plt.figure(figsize=(16,9))\n",
    "idx = 0\n",
    "for i in range(len(best_results.keys())):\n",
    "    plt.bar(names[i],values[i])\n",
    "    plt.text(idx-0.1,values[i]+0.01,f'{100*values[i]:.1f}%')\n",
    "    idx += 1\n",
    "plt.xticks(rotation=45, ha='right')\n",
    "plt.xticks(range(0,len(best_results)),names)\n",
    "plt.yticks(np.linspace(0,1,11))\n",
    "plt.ylim(0,1)\n",
    "plt.show()"
   ]
  },
  {
   "cell_type": "code",
   "execution_count": null,
   "id": "dd064505",
   "metadata": {},
   "outputs": [],
   "source": [
    "print(f\"Execution finished at {datetime.now().strftime('%Y-%m-%d %H:%M:%S')}.\")"
   ]
  }
 ],
 "metadata": {
  "accelerator": "GPU",
  "colab": {
   "name": "IoT23 - DNN Opt.ipynb",
   "provenance": []
  },
  "kernelspec": {
   "display_name": "Python 3 (ipykernel)",
   "language": "python",
   "name": "python3"
  },
  "language_info": {
   "codemirror_mode": {
    "name": "ipython",
    "version": 3
   },
   "file_extension": ".py",
   "mimetype": "text/x-python",
   "name": "python",
   "nbconvert_exporter": "python",
   "pygments_lexer": "ipython3",
   "version": "3.8.12"
  }
 },
 "nbformat": 4,
 "nbformat_minor": 5
}
