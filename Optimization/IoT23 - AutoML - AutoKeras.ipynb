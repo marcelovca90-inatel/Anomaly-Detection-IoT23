{
 "cells": [
  {
   "cell_type": "code",
   "execution_count": null,
   "id": "Kd-Bm8brf0Fz",
   "metadata": {
    "id": "Kd-Bm8brf0Fz"
   },
   "outputs": [],
   "source": [
    "import numpy as np\n",
    "import pandas as pd\n",
    "import tensorflow as tf\n",
    "import autokeras as ak\n",
    "import time\n",
    "from datetime import datetime\n",
    "from matplotlib import pyplot\n",
    "from sklearn.model_selection import train_test_split\n",
    "from sklearn.preprocessing import MinMaxScaler"
   ]
  },
  {
   "cell_type": "code",
   "execution_count": null,
   "id": "2229336e",
   "metadata": {},
   "outputs": [],
   "source": [
    "SEED = 10"
   ]
  },
  {
   "cell_type": "code",
   "execution_count": null,
   "id": "dc175db4",
   "metadata": {
    "scrolled": true
   },
   "outputs": [],
   "source": [
    "print(f\"Execution started at {datetime.now().strftime('%Y-%m-%d %H:%M:%S')}.\")"
   ]
  },
  {
   "cell_type": "code",
   "execution_count": null,
   "id": "better-permit",
   "metadata": {
    "id": "better-permit"
   },
   "outputs": [],
   "source": [
    "filepath = \"../Data Preprocessing/iot23_combined_3200k_4_classes.csv\"\n",
    "df = pd.read_csv(filepath)"
   ]
  },
  {
   "cell_type": "code",
   "execution_count": null,
   "id": "initial-biotechnology",
   "metadata": {
    "colab": {
     "base_uri": "https://localhost:8080/",
     "height": 505
    },
    "id": "initial-biotechnology",
    "outputId": "e027dfbe-1202-4a40-d0d4-fdbb083049ba"
   },
   "outputs": [],
   "source": [
    "df"
   ]
  },
  {
   "cell_type": "code",
   "execution_count": null,
   "id": "paperback-heritage",
   "metadata": {
    "id": "paperback-heritage"
   },
   "outputs": [],
   "source": [
    "del df['Unnamed: 0']"
   ]
  },
  {
   "cell_type": "code",
   "execution_count": null,
   "id": "inside-north",
   "metadata": {
    "colab": {
     "base_uri": "https://localhost:8080/"
    },
    "id": "inside-north",
    "outputId": "e2ccfd8b-0e5b-486d-ee29-432dbeeddad2",
    "scrolled": false
   },
   "outputs": [],
   "source": [
    "df['label'].value_counts()"
   ]
  },
  {
   "cell_type": "code",
   "execution_count": null,
   "id": "d7654c0f",
   "metadata": {},
   "outputs": [],
   "source": [
    "relevant_labels = ['Benign','DDoS','PartOfAHorizontalPortScan','Okiru']\n",
    "\n",
    "# leave this block uncommented to remove 'irrelevant' labels\n",
    "if len(df['label'].value_counts()) != len(relevant_labels):\n",
    "    print(f'DF labels do not match the desired ones; some rows will be dropped.')\n",
    "    filtered_labels = df['label'].value_counts().index.drop(relevant_labels)\n",
    "    for label in filtered_labels:\n",
    "        df.drop(df[df.label == label].index, inplace=True)\n",
    "    print(df['label'].value_counts())\n",
    "else:\n",
    "    print(f'DF labels match the desired ones; no rows will be dropped.')"
   ]
  },
  {
   "cell_type": "code",
   "execution_count": null,
   "id": "d67f9ec7",
   "metadata": {
    "scrolled": true
   },
   "outputs": [],
   "source": [
    "# convert 'label' from categoric to numeric type\n",
    "for i in range(len(relevant_labels)):\n",
    "    df.loc[(df.label == relevant_labels[i]), 'label'] = i\n",
    "df = df.astype({'label': int})"
   ]
  },
  {
   "cell_type": "code",
   "execution_count": null,
   "id": "b35b143a",
   "metadata": {},
   "outputs": [],
   "source": [
    "df['label'].value_counts()"
   ]
  },
  {
   "cell_type": "code",
   "execution_count": null,
   "id": "951e0af6",
   "metadata": {},
   "outputs": [],
   "source": [
    "df"
   ]
  },
  {
   "cell_type": "code",
   "execution_count": null,
   "id": "steady-hotel",
   "metadata": {
    "id": "steady-hotel"
   },
   "outputs": [],
   "source": [
    "X = df.loc[:, df.columns != 'label']\n",
    "print(X.shape)"
   ]
  },
  {
   "cell_type": "code",
   "execution_count": null,
   "id": "eb9af18e",
   "metadata": {},
   "outputs": [],
   "source": [
    "Y = df['label'].values\n",
    "print(Y.shape)"
   ]
  },
  {
   "cell_type": "code",
   "execution_count": null,
   "id": "published-store",
   "metadata": {
    "id": "published-store"
   },
   "outputs": [],
   "source": [
    "from sklearn.feature_selection import VarianceThreshold, SelectFpr, SelectFdr, SelectFwe, SelectKBest, SelectPercentile\n",
    "from sklearn.feature_selection import chi2, f_classif, mutual_info_classif\n",
    "\n",
    "X = VarianceThreshold(threshold=0).fit_transform(X,Y)    # remove constant features (i.e. with zero variance)\n",
    "print(f'Input shape after variance thresold filter: {X.shape}')\n",
    "\n",
    "X = MinMaxScaler(feature_range=(0,1)).fit_transform(X,Y) # scale data to [0,1] range\n",
    "print(f'Input shape after min-max feature scaling:  {X.shape}')\n",
    "\n",
    "X = VarianceThreshold(threshold=0).fit_transform(X,Y)    # remove constant features (i.e. with zero variance)\n",
    "print(f'Input shape after variance thresold filter: {X.shape}')\n",
    "\n",
    "X = SelectPercentile(percentile=1).fit_transform(X,Y)    # select top 1% features according to ANOVA F-value\n",
    "print(f'Input shape after percentile selection:     {X.shape}')\n",
    "\n",
    "X = VarianceThreshold(threshold=0).fit_transform(X,Y)    # remove constant features (i.e. with zero variance)\n",
    "print(f'Input shape after variance thresold filter: {X.shape}')"
   ]
  },
  {
   "cell_type": "code",
   "execution_count": null,
   "id": "touched-tanzania",
   "metadata": {
    "id": "touched-tanzania"
   },
   "outputs": [],
   "source": [
    "X_train, X_test, Y_train, Y_test = train_test_split(X, Y, random_state=SEED, test_size=0.2)"
   ]
  },
  {
   "cell_type": "code",
   "execution_count": null,
   "id": "f17060b4",
   "metadata": {},
   "outputs": [],
   "source": [
    "model = ak.StructuredDataClassifier(overwrite=True, max_trials=10)"
   ]
  },
  {
   "cell_type": "code",
   "execution_count": null,
   "id": "f0269ec5",
   "metadata": {},
   "outputs": [],
   "source": [
    "start = time.time()\n",
    "print('program start...')\n",
    "print()\n",
    "\n",
    "history = model.fit(X_train, Y_train, validation_split=0.25)\n",
    "print(history)\n",
    "\n",
    "print()\n",
    "end = time.time()\n",
    "print('program end...')\n",
    "print()\n",
    "print('time cost: ')\n",
    "print(end - start, 'seconds')"
   ]
  },
  {
   "cell_type": "code",
   "execution_count": null,
   "id": "95cc779a",
   "metadata": {},
   "outputs": [],
   "source": [
    "best_model = model.export_model()\n",
    "print(best_model)"
   ]
  },
  {
   "cell_type": "code",
   "execution_count": null,
   "id": "d1447725",
   "metadata": {},
   "outputs": [],
   "source": [
    "print(\"Evaluate on test data\")\n",
    "results = best_model.evaluate(X_test, Y_test)\n",
    "print(\"test loss, test acc:\", results)"
   ]
  },
  {
   "cell_type": "code",
   "execution_count": null,
   "id": "dd064505",
   "metadata": {},
   "outputs": [],
   "source": [
    "print(f\"Execution finished at {datetime.now().strftime('%Y-%m-%d %H:%M:%S')}.\")"
   ]
  }
 ],
 "metadata": {
  "accelerator": "GPU",
  "colab": {
   "name": "IoT23 - DNN Opt.ipynb",
   "provenance": []
  },
  "kernelspec": {
   "display_name": "Python 3 (ipykernel)",
   "language": "python",
   "name": "python3"
  },
  "language_info": {
   "codemirror_mode": {
    "name": "ipython",
    "version": 3
   },
   "file_extension": ".py",
   "mimetype": "text/x-python",
   "name": "python",
   "nbconvert_exporter": "python",
   "pygments_lexer": "ipython3",
   "version": "3.8.12"
  }
 },
 "nbformat": 4,
 "nbformat_minor": 5
}
