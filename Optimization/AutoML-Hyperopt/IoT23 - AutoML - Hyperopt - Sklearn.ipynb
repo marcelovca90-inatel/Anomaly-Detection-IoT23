{
 "cells": [
  {
   "cell_type": "code",
   "execution_count": 1,
   "id": "Kd-Bm8brf0Fz",
   "metadata": {
    "id": "Kd-Bm8brf0Fz"
   },
   "outputs": [
    {
     "name": "stdout",
     "output_type": "stream",
     "text": [
      "WARN: OMP_NUM_THREADS=None =>\n",
      "... If you are using openblas if you are using openblas set OMP_NUM_THREADS=1 or risk subprocess calls hanging indefinitely\n"
     ]
    },
    {
     "name": "stderr",
     "output_type": "stream",
     "text": [
      "Intel(R) Extension for Scikit-learn* enabled (https://github.com/intel/scikit-learn-intelex)\n",
      "C:\\Users\\marce\\anaconda3\\envs\\tf\\lib\\site-packages\\xgboost\\compat.py:36: FutureWarning: pandas.Int64Index is deprecated and will be removed from pandas in a future version. Use pandas.Index with the appropriate dtype instead.\n",
      "  from pandas import MultiIndex, Int64Index\n"
     ]
    }
   ],
   "source": [
    "import matplotlib.pyplot as plt\n",
    "import numpy as np\n",
    "import pandas as pd\n",
    "import json\n",
    "import time\n",
    "from datetime import datetime\n",
    "from sklearnex import patch_sklearn\n",
    "patch_sklearn()\n",
    "from hpsklearn import *\n",
    "from hyperopt import hp, tpe"
   ]
  },
  {
   "cell_type": "code",
   "execution_count": 2,
   "id": "2229336e",
   "metadata": {},
   "outputs": [],
   "source": [
    "SEED = 10\n",
    "limit_rows = None"
   ]
  },
  {
   "cell_type": "code",
   "execution_count": 3,
   "id": "dc175db4",
   "metadata": {
    "scrolled": true
   },
   "outputs": [
    {
     "name": "stdout",
     "output_type": "stream",
     "text": [
      "Execution started at 2022-03-02 04:48:45.\n"
     ]
    }
   ],
   "source": [
    "print(f\"Execution started at {datetime.now().strftime('%Y-%m-%d %H:%M:%S')}.\")"
   ]
  },
  {
   "cell_type": "code",
   "execution_count": 4,
   "id": "208d5970",
   "metadata": {},
   "outputs": [],
   "source": [
    "def load_csv(name):\n",
    "    if limit_rows is None:\n",
    "        full_filename = f'../Data Preprocessing/sklearn/full/iot23_combined_{name}.csv'\n",
    "    else:\n",
    "        full_filename = f'../Data Preprocessing/sklearn/semi/iot23_combined_{int(limit_rows/1000)}k_{name}.csv'\n",
    "    \n",
    "    df = pd.read_table(filepath_or_buffer=full_filename, header=None, sep=',').infer_objects().to_numpy()\n",
    "    \n",
    "    return df.ravel() if df.shape[1] == 1 else df"
   ]
  },
  {
   "cell_type": "code",
   "execution_count": 5,
   "id": "steady-hotel",
   "metadata": {
    "id": "steady-hotel",
    "scrolled": false
   },
   "outputs": [
    {
     "name": "stdout",
     "output_type": "stream",
     "text": [
      "X_train (7142855, 15) \n",
      "y_train (7142855,)\n",
      "X_test (1785714, 15) \n",
      "y_test (1785714,)\n"
     ]
    }
   ],
   "source": [
    "X_train, X_test, y_train, y_test = load_csv('X_train'), load_csv('X_test'), load_csv('y_train'), load_csv('y_test')\n",
    "\n",
    "print('X_train',X_train.shape,'\\ny_train',y_train.shape)\n",
    "print('X_test',X_test.shape,'\\ny_test',y_test.shape)"
   ]
  },
  {
   "cell_type": "code",
   "execution_count": 6,
   "id": "52071f65",
   "metadata": {},
   "outputs": [],
   "source": [
    "def build_clf_name(clf):\n",
    "    clf_name = clf.name.replace('sklearn_','').replace('Classifier','')\n",
    "    if clf_name == 'switch':\n",
    "        clf_name = 'SVC-LL'\n",
    "    elif 'SVC' in clf_name:\n",
    "        for arg in clf.named_args:\n",
    "            if arg[0] == 'kernel':\n",
    "                clf_name += f'-{arg[1].obj.capitalize()[0]}'\n",
    "    clf_name = ''.join(c for c in clf_name if (c.isupper() or c == '-'))\n",
    "    return clf_name"
   ]
  },
  {
   "cell_type": "code",
   "execution_count": 7,
   "id": "a3d7b417",
   "metadata": {},
   "outputs": [],
   "source": [
    "classifiers = [\n",
    "    ada_boost('ab'),\n",
    "    decision_tree('dt'),\n",
    "    extra_trees('et'),\n",
    "    gaussian_nb('gnb'),\n",
    "    gradient_boosting('gb'),\n",
    "    knn('knn'),\n",
    "    liblinear_svc('svc-ll'),\n",
    "    linear_discriminant_analysis('lda',n_components=1),\n",
    "    multinomial_nb('mnb'),\n",
    "    one_vs_one('ovo'),\n",
    "    one_vs_rest('ovr'),\n",
    "    output_code('oc'),\n",
    "    passive_aggressive('pa'),\n",
    "    quadratic_discriminant_analysis('qda'),\n",
    "    random_forest('rf'),\n",
    "    sgd('sgd'),\n",
    "    svc('svc'),\n",
    "    svc_linear('svc-l'),\n",
    "    svc_poly('svc-p'),\n",
    "    svc_rbf('svc-r'),\n",
    "    svc_sigmoid('svc-s'),\n",
    "    xgboost_classification('xgb')\n",
    "]"
   ]
  },
  {
   "cell_type": "code",
   "execution_count": 8,
   "id": "earned-advertiser",
   "metadata": {
    "id": "earned-advertiser",
    "scrolled": true
   },
   "outputs": [
    {
     "name": "stdout",
     "output_type": "stream",
     "text": [
      "\n",
      "******************** AB ********************\n",
      "100%|███████████████████████████████████████████████████████████████████| 1/1 [10:01<00:00, 601.64s/trial, best loss=?]\n",
      "********** Could not fit AB. Reason: ''. **********\n",
      "********** Could not evaluate AB. Reason: 'Attempting to use a model that has not been fit. Ensure fit() has been called and at least one trial has completed without failing or timing out.'. **********\n",
      "\n",
      "******************** DT ********************\n",
      "100%|█████████████████████████████████████████████████| 1/1 [00:11<00:00, 11.62s/trial, best loss: 0.27692708307812497]\n",
      "100%|███████████████████████████████████████████████| 2/2 [00:47<00:00, 47.66s/trial, best loss: 0.0032760009828003422]\n",
      "100%|███████████████████████████████████████████████| 3/3 [00:42<00:00, 42.65s/trial, best loss: 0.0022575006772501682]\n",
      "100%|███████████████████████████████████████████████| 4/4 [00:24<00:00, 24.46s/trial, best loss: 0.0022575006772501682]\n",
      "100%|███████████████████████████████████████████████| 5/5 [00:26<00:00, 26.52s/trial, best loss: 0.0022575006772501682]\n",
      "100%|███████████████████████████████████████████████| 6/6 [00:12<00:00, 12.03s/trial, best loss: 0.0022575006772501682]\n",
      "100%|███████████████████████████████████████████████| 7/7 [00:21<00:00, 21.71s/trial, best loss: 0.0022575006772501682]\n",
      "100%|███████████████████████████████████████████████| 8/8 [00:10<00:00, 10.27s/trial, best loss: 0.0022575006772501682]\n",
      "100%|███████████████████████████████████████████████| 9/9 [00:27<00:00, 27.69s/trial, best loss: 0.0022575006772501682]\n",
      "100%|█████████████████████████████████████████████| 10/10 [00:14<00:00, 15.00s/trial, best loss: 0.0022575006772501682]\n",
      "(0.9976950396312063, {'learner': DecisionTreeClassifier(min_samples_leaf=4, min_samples_split=9, random_state=1,\n",
      "                       splitter='random'), 'preprocs': (), 'ex_preprocs': ()})\n",
      "\n",
      "******************** ET ********************\n",
      "100%|████████████████████████████████████████████████| 1/1 [03:41<00:00, 221.61s/trial, best loss: 0.27594848278454487]\n",
      "100%|███████████████████████████████████████████████| 2/2 [02:44<00:00, 164.14s/trial, best loss: 0.022068906620671958]\n",
      "100%|███████████████████████████████████████████████| 3/3 [10:02<00:00, 602.28s/trial, best loss: 0.022068906620671958]\n",
      "100%|███████████████████████████████████████████████| 4/4 [10:03<00:00, 603.74s/trial, best loss: 0.022068906620671958]\n",
      "100%|███████████████████████████████████████████████| 5/5 [10:03<00:00, 603.48s/trial, best loss: 0.022068906620671958]\n",
      "100%|███████████████████████████████████████████████| 6/6 [10:03<00:00, 603.37s/trial, best loss: 0.022068906620671958]\n",
      "100%|███████████████████████████████████████████████| 7/7 [10:02<00:00, 602.01s/trial, best loss: 0.022068906620671958]\n",
      "100%|███████████████████████████████████████████████| 8/8 [04:22<00:00, 262.81s/trial, best loss: 0.022068906620671958]\n",
      "100%|███████████████████████████████████████████████| 9/9 [01:57<00:00, 117.05s/trial, best loss: 0.012800203840061197]\n",
      "100%|█████████████████████████████████████████████| 10/10 [10:02<00:00, 602.07s/trial, best loss: 0.012800203840061197]\n",
      "(0.993591918974707, {'learner': ExtraTreesClassifier(bootstrap=True, criterion='entropy',\n",
      "                     max_features=0.3826823680920317, min_samples_leaf=2,\n",
      "                     n_estimators=23, n_jobs=1, random_state=2, verbose=False), 'preprocs': (), 'ex_preprocs': ()})\n",
      "\n",
      "******************** GNB ********************\n",
      "100%|██████████████████████████████████████████████████| 1/1 [00:08<00:00,  8.33s/trial, best loss: 0.7288563186568956]\n",
      "100%|██████████████████████████████████████████████████| 2/2 [00:08<00:00,  8.24s/trial, best loss: 0.7288563186568956]\n",
      "100%|██████████████████████████████████████████████████| 3/3 [00:07<00:00,  7.96s/trial, best loss: 0.7288563186568956]\n",
      "100%|██████████████████████████████████████████████████| 4/4 [00:07<00:00,  7.98s/trial, best loss: 0.7288563186568956]\n",
      "100%|██████████████████████████████████████████████████| 5/5 [00:08<00:00,  8.22s/trial, best loss: 0.7288563186568956]\n",
      "100%|██████████████████████████████████████████████████| 6/6 [00:08<00:00,  8.13s/trial, best loss: 0.7288563186568956]\n",
      "100%|██████████████████████████████████████████████████| 7/7 [00:08<00:00,  8.07s/trial, best loss: 0.7288563186568956]\n",
      "100%|██████████████████████████████████████████████████| 8/8 [00:07<00:00,  7.79s/trial, best loss: 0.7288563186568956]\n",
      "100%|██████████████████████████████████████████████████| 9/9 [00:07<00:00,  7.91s/trial, best loss: 0.7288563186568956]\n",
      "100%|████████████████████████████████████████████████| 10/10 [00:07<00:00,  7.64s/trial, best loss: 0.7288563186568956]\n",
      "(0.27169020347043255, {'learner': GaussianNB(), 'preprocs': (), 'ex_preprocs': ()})\n",
      "\n",
      "******************** GB ********************\n",
      "100%|███████████████████████████████████████████████████████████████████| 1/1 [10:02<00:00, 602.08s/trial, best loss=?]\n",
      "********** Could not fit GB. Reason: ''. **********\n",
      "********** Could not evaluate GB. Reason: 'Attempting to use a model that has not been fit. Ensure fit() has been called and at least one trial has completed without failing or timing out.'. **********\n",
      "\n",
      "******************** KN ********************\n",
      "100%|███████████████████████████████████████████████████████████████████| 1/1 [10:01<00:00, 601.99s/trial, best loss=?]\n",
      "********** Could not fit KN. Reason: ''. **********\n",
      "********** Could not evaluate KN. Reason: 'Attempting to use a model that has not been fit. Ensure fit() has been called and at least one trial has completed without failing or timing out.'. **********\n",
      "\n",
      "******************** LSVC ********************\n",
      "100%|███████████████████████████████████████████████████████████████████| 1/1 [10:02<00:00, 602.28s/trial, best loss=?]\n",
      "********** Could not fit LSVC. Reason: ''. **********\n",
      "********** Could not evaluate LSVC. Reason: 'Attempting to use a model that has not been fit. Ensure fit() has been called and at least one trial has completed without failing or timing out.'. **********\n",
      "\n",
      "******************** LDA ********************\n",
      "100%|██████████████████████████████████████████████████| 1/1 [00:21<00:00, 21.42s/trial, best loss: 0.2955561886668566]\n",
      "100%|██████████████████████████████████████████████████| 2/2 [00:28<00:00, 28.89s/trial, best loss: 0.2955561886668566]\n",
      "100%|██████████████████████████████████████████████████| 3/3 [00:29<00:00, 29.44s/trial, best loss: 0.2955561886668566]\n",
      "100%|██████████████████████████████████████████████████| 4/4 [00:22<00:00, 22.89s/trial, best loss: 0.2926147877844363]\n",
      "100%|██████████████████████████████████████████████████| 5/5 [00:21<00:00, 21.82s/trial, best loss: 0.2926147877844363]\n",
      "100%|██████████████████████████████████████████████████| 6/6 [00:22<00:00, 22.73s/trial, best loss: 0.2926147877844363]\n",
      "100%|██████████████████████████████████████████████████| 7/7 [00:23<00:00, 23.24s/trial, best loss: 0.2926147877844363]\n",
      "100%|██████████████████████████████████████████████████| 8/8 [00:16<00:00, 16.93s/trial, best loss: 0.2926147877844363]\n",
      "100%|██████████████████████████████████████████████████| 9/9 [00:21<00:00, 21.46s/trial, best loss: 0.2926147877844363]\n",
      "100%|████████████████████████████████████████████████| 10/10 [00:27<00:00, 27.53s/trial, best loss: 0.2926147877844363]\n",
      "(0.7072537931606069, {'learner': LinearDiscriminantAnalysis(n_components=1, tol=1e-05), 'preprocs': (), 'ex_preprocs': ()})\n",
      "\n",
      "******************** MNB ********************\n",
      "100%|█████████████████████████████████████████████████| 1/1 [00:07<00:00,  7.93s/trial, best loss: 0.28726118617835583]\n",
      "100%|█████████████████████████████████████████████████| 2/2 [00:06<00:00,  6.98s/trial, best loss: 0.28726118617835583]\n",
      "100%|█████████████████████████████████████████████████| 3/3 [00:12<00:00, 12.46s/trial, best loss: 0.28726118617835583]\n",
      "100%|█████████████████████████████████████████████████| 4/4 [00:09<00:00,  9.14s/trial, best loss: 0.28726118617835583]\n",
      "100%|█████████████████████████████████████████████████| 5/5 [00:10<00:00, 10.44s/trial, best loss: 0.28726118617835583]\n",
      "100%|█████████████████████████████████████████████████| 6/6 [00:10<00:00, 10.68s/trial, best loss: 0.28726118617835583]\n"
     ]
    },
    {
     "name": "stdout",
     "output_type": "stream",
     "text": [
      "100%|█████████████████████████████████████████████████| 7/7 [00:09<00:00,  9.64s/trial, best loss: 0.28726118617835583]\n",
      "100%|█████████████████████████████████████████████████| 8/8 [00:11<00:00, 11.40s/trial, best loss: 0.28726118617835583]\n",
      "100%|█████████████████████████████████████████████████| 9/9 [00:10<00:00, 10.05s/trial, best loss: 0.28726118617835583]\n",
      "100%|███████████████████████████████████████████████| 10/10 [00:11<00:00, 11.41s/trial, best loss: 0.28726118617835583]\n",
      "(0.7126846740295478, {'learner': MultinomialNB(alpha=0.38), 'preprocs': (), 'ex_preprocs': ()})\n",
      "\n",
      "******************** OVO ********************\n",
      "100%|█████████████████████████████████████████████████| 1/1 [05:16<00:00, 316.15s/trial, best loss: 0.2867522860256858]\n",
      "100%|█████████████████████████████████████████████████| 2/2 [03:48<00:00, 228.20s/trial, best loss: 0.2867522860256858]\n",
      "100%|█████████████████████████████████████████████████| 3/3 [10:02<00:00, 602.44s/trial, best loss: 0.2867522860256858]\n",
      "100%|█████████████████████████████████████████████████| 4/4 [10:33<00:00, 633.50s/trial, best loss: 0.2867522860256858]\n",
      "100%|█████████████████████████████████████████████████| 5/5 [10:11<00:00, 611.37s/trial, best loss: 0.2867522860256858]\n",
      " 83%|███████████████████████████████████████████████████████████████▎            | 5/6 [00:00<?, ?trial/s, best loss=?]"
     ]
    },
    {
     "name": "stderr",
     "output_type": "stream",
     "text": [
      "job exception: Unable to cast Python instance to C++ type (compile in debug mode for details)\n",
      "\n"
     ]
    },
    {
     "name": "stdout",
     "output_type": "stream",
     "text": [
      " 83%|███████████████████████████████████████████████████████████████▎            | 5/6 [00:07<?, ?trial/s, best loss=?]\n",
      "********** Could not fit OVO. Reason: 'Unable to cast Python instance to C++ type (compile in debug mode for details)'. **********\n",
      "********** Could not evaluate OVO. Reason: 'This OneVsOneClassifier instance is not fitted yet. Call 'fit' with appropriate arguments before using this estimator.'. **********\n",
      "\n",
      "******************** OVR ********************\n",
      "100%|█████████████████████████████████████████████████| 1/1 [05:51<00:00, 351.39s/trial, best loss: 0.2873381862014559]\n",
      "100%|█████████████████████████████████████████████████| 2/2 [05:47<00:00, 347.07s/trial, best loss: 0.2873381862014559]\n",
      "100%|█████████████████████████████████████████████████| 3/3 [10:03<00:00, 603.04s/trial, best loss: 0.2873381862014559]\n",
      " 75%|█████████████████████████████████████████████████████████                   | 3/4 [00:00<?, ?trial/s, best loss=?]"
     ]
    },
    {
     "name": "stderr",
     "output_type": "stream",
     "text": [
      "job exception: bad allocation\n",
      "\n"
     ]
    },
    {
     "name": "stdout",
     "output_type": "stream",
     "text": [
      " 75%|█████████████████████████████████████████████████████████                   | 3/4 [00:07<?, ?trial/s, best loss=?]\n",
      "********** Could not fit OVR. Reason: 'bad allocation'. **********\n",
      "********** Could not evaluate OVR. Reason: 'This OneVsRestClassifier instance is not fitted yet. Call 'fit' with appropriate arguments before using this estimator.'. **********\n",
      "\n",
      "******************** OC ********************\n",
      "100%|█████████████████████████████████████████████████| 1/1 [07:53<00:00, 473.58s/trial, best loss: 0.2867522860256858]\n",
      "100%|█████████████████████████████████████████████████| 2/2 [06:11<00:00, 371.48s/trial, best loss: 0.2867522860256858]\n",
      "100%|█████████████████████████████████████████████████| 3/3 [10:02<00:00, 602.93s/trial, best loss: 0.2867522860256858]\n",
      " 75%|█████████████████████████████████████████████████████████                   | 3/4 [00:00<?, ?trial/s, best loss=?]"
     ]
    },
    {
     "name": "stderr",
     "output_type": "stream",
     "text": [
      "job exception: bad allocation\n",
      "\n"
     ]
    },
    {
     "name": "stdout",
     "output_type": "stream",
     "text": [
      " 75%|█████████████████████████████████████████████████████████                   | 3/4 [00:15<?, ?trial/s, best loss=?]\n",
      "********** Could not fit OC. Reason: 'bad allocation'. **********\n",
      "********** Could not evaluate OC. Reason: 'This OutputCodeClassifier instance is not fitted yet. Call 'fit' with appropriate arguments before using this estimator.'. **********\n",
      "\n",
      "******************** PA ********************\n",
      "100%|████████████████████████████████████████████████| 1/1 [04:56<00:00, 296.15s/trial, best loss: 0.28392148517644555]\n",
      "100%|█████████████████████████████████████████████████| 2/2 [05:03<00:00, 303.48s/trial, best loss: 0.2837912851373855]\n",
      "100%|█████████████████████████████████████████████████| 3/3 [05:23<00:00, 323.78s/trial, best loss: 0.2837912851373855]\n",
      "100%|████████████████████████████████████████████████| 4/4 [06:03<00:00, 363.80s/trial, best loss: 0.28285678485703547]\n",
      "100%|████████████████████████████████████████████████| 5/5 [06:46<00:00, 406.34s/trial, best loss: 0.28285678485703547]\n",
      "100%|████████████████████████████████████████████████| 6/6 [05:01<00:00, 301.86s/trial, best loss: 0.28285678485703547]\n",
      "100%|█████████████████████████████████████████████████| 7/7 [06:08<00:00, 368.79s/trial, best loss: 0.2824780847434254]\n",
      "100%|█████████████████████████████████████████████████| 8/8 [04:53<00:00, 293.20s/trial, best loss: 0.2824780847434254]\n",
      "100%|█████████████████████████████████████████████████| 9/9 [05:18<00:00, 318.55s/trial, best loss: 0.2824780847434254]\n",
      "100%|███████████████████████████████████████████████| 10/10 [05:00<00:00, 300.92s/trial, best loss: 0.2824780847434254]\n",
      "(0.7166953946712632, {'learner': PassiveAggressiveClassifier(C=0.037702012671071344, fit_intercept=False,\n",
      "                            loss='squared_hinge', max_iter=11587094.0, n_jobs=1,\n",
      "                            random_state=4, tol=4.53027677686769e-05,\n",
      "                            verbose=False), 'preprocs': (), 'ex_preprocs': ()})\n",
      "\n",
      "******************** QDA ********************\n",
      "  0%|                                                                            | 0/1 [00:00<?, ?trial/s, best loss=?]"
     ]
    },
    {
     "name": "stderr",
     "output_type": "stream",
     "text": [
      "job exception: y has only 1 sample in class 7, covariance is ill defined.\n",
      "\n"
     ]
    },
    {
     "name": "stdout",
     "output_type": "stream",
     "text": [
      "  0%|                                                                            | 0/1 [00:09<?, ?trial/s, best loss=?]\n",
      "********** Could not fit QDA. Reason: 'y has only 1 sample in class 7, covariance is ill defined.'. **********\n",
      "********** Could not evaluate QDA. Reason: 'Attempting to use a model that has not been fit. Ensure fit() has been called and at least one trial has completed without failing or timing out.'. **********\n",
      "\n",
      "******************** RF ********************\n",
      "100%|██████████████████████████████████████████████| 1/1 [03:57<00:00, 237.08s/trial, best loss: 0.0037289011186703025]\n",
      "100%|██████████████████████████████████████████████| 2/2 [06:48<00:00, 408.48s/trial, best loss: 0.0037289011186703025]\n",
      "100%|██████████████████████████████████████████████| 3/3 [10:04<00:00, 604.14s/trial, best loss: 0.0037289011186703025]\n",
      "100%|██████████████████████████████████████████████| 4/4 [10:04<00:00, 604.07s/trial, best loss: 0.0037289011186703025]\n",
      "100%|██████████████████████████████████████████████| 5/5 [10:03<00:00, 603.47s/trial, best loss: 0.0037289011186703025]\n",
      "100%|██████████████████████████████████████████████| 6/6 [10:02<00:00, 602.68s/trial, best loss: 0.0037289011186703025]\n",
      "100%|██████████████████████████████████████████████| 7/7 [10:04<00:00, 604.24s/trial, best loss: 0.0037289011186703025]\n",
      "100%|██████████████████████████████████████████████| 8/8 [10:04<00:00, 604.49s/trial, best loss: 0.0037289011186703025]\n",
      "100%|██████████████████████████████████████████████| 9/9 [05:37<00:00, 337.25s/trial, best loss: 0.0037289011186703025]\n",
      "100%|████████████████████████████████████████████| 10/10 [10:04<00:00, 604.07s/trial, best loss: 0.0037289011186703025]\n",
      "(0.9965324794451967, {'learner': RandomForestClassifier(max_features=0.29064251968408905, min_samples_leaf=32,\n",
      "                       n_estimators=85, n_jobs=1, random_state=4,\n",
      "                       verbose=False), 'preprocs': (), 'ex_preprocs': ()})\n",
      "\n",
      "******************** SGD ********************\n",
      "100%|█████████████████████████████████████████████████| 1/1 [05:45<00:00, 345.25s/trial, best loss: 0.5192538557761568]\n",
      "100%|████████████████████████████████████████████████| 2/2 [06:07<00:00, 367.87s/trial, best loss: 0.29222068766620635]\n",
      "100%|████████████████████████████████████████████████| 3/3 [08:57<00:00, 537.16s/trial, best loss: 0.29222068766620635]\n",
      "100%|████████████████████████████████████████████████| 4/4 [10:02<00:00, 602.33s/trial, best loss: 0.29222068766620635]\n",
      "100%|████████████████████████████████████████████████| 5/5 [10:02<00:00, 602.23s/trial, best loss: 0.29222068766620635]\n",
      "100%|████████████████████████████████████████████████| 6/6 [10:02<00:00, 602.33s/trial, best loss: 0.29222068766620635]\n",
      "100%|████████████████████████████████████████████████| 7/7 [09:20<00:00, 560.14s/trial, best loss: 0.29222068766620635]\n",
      "100%|█████████████████████████████████████████████████| 8/8 [06:00<00:00, 360.96s/trial, best loss: 0.2842749852824956]\n",
      "100%|█████████████████████████████████████████████████| 9/9 [05:27<00:00, 327.95s/trial, best loss: 0.2842749852824956]\n",
      "100%|███████████████████████████████████████████████| 10/10 [10:03<00:00, 603.86s/trial, best loss: 0.2842749852824956]\n",
      "(0.7154471544715447, {'learner': SGDClassifier(alpha=3.635544519065662e-05, eta0=0.08701776522406507,\n",
      "              l1_ratio=0.17548168634130723, learning_rate='constant',\n",
      "              loss='log', max_iter=300476604.0, n_jobs=1, penalty='elasticnet',\n",
      "              power_t=0.8135731811888463, random_state=4,\n",
      "              tol=0.002726162070321745, verbose=False), 'preprocs': (), 'ex_preprocs': ()})\n",
      "\n",
      "******************** SVC-LL ********************\n",
      "  0%|                                                                            | 0/1 [00:00<?, ?trial/s, best loss=?]"
     ]
    },
    {
     "name": "stderr",
     "output_type": "stream",
     "text": [
      "ERROR:hyperopt.fmin:job exception: bad allocation\n"
     ]
    },
    {
     "name": "stdout",
     "output_type": "stream",
     "text": [
      "  0%|                                                                            | 0/1 [00:20<?, ?trial/s, best loss=?]\n",
      "********** Could not fit SVC-LL. Reason: 'bad allocation'. **********\n",
      "********** Could not evaluate SVC-LL. Reason: 'Attempting to use a model that has not been fit. Ensure fit() has been called and at least one trial has completed without failing or timing out.'. **********\n",
      "\n",
      "******************** SVC-L ********************\n",
      "  0%|                                                                            | 0/1 [00:00<?, ?trial/s, best loss=?]"
     ]
    },
    {
     "name": "stderr",
     "output_type": "stream",
     "text": [
      "ERROR:hyperopt.fmin:job exception: bad allocation\n"
     ]
    },
    {
     "name": "stdout",
     "output_type": "stream",
     "text": [
      "  0%|                                                                            | 0/1 [05:20<?, ?trial/s, best loss=?]\n",
      "********** Could not fit SVC-L. Reason: 'bad allocation'. **********\n",
      "********** Could not evaluate SVC-L. Reason: 'Attempting to use a model that has not been fit. Ensure fit() has been called and at least one trial has completed without failing or timing out.'. **********\n",
      "\n",
      "******************** SVC-P ********************\n",
      "  0%|                                                                            | 0/1 [00:00<?, ?trial/s, best loss=?]"
     ]
    },
    {
     "name": "stderr",
     "output_type": "stream",
     "text": [
      "ERROR:hyperopt.fmin:job exception: Unable to cast Python instance to C++ type (compile in debug mode for details)\n"
     ]
    },
    {
     "name": "stdout",
     "output_type": "stream",
     "text": [
      "  0%|                                                                            | 0/1 [00:12<?, ?trial/s, best loss=?]\n",
      "********** Could not fit SVC-P. Reason: 'Unable to cast Python instance to C++ type (compile in debug mode for details)'. **********\n",
      "********** Could not evaluate SVC-P. Reason: 'Attempting to use a model that has not been fit. Ensure fit() has been called and at least one trial has completed without failing or timing out.'. **********\n",
      "\n",
      "******************** SVC-R ********************\n",
      "  0%|                                                                            | 0/1 [00:00<?, ?trial/s, best loss=?]"
     ]
    },
    {
     "name": "stderr",
     "output_type": "stream",
     "text": [
      "ERROR:hyperopt.fmin:job exception: bad allocation\n"
     ]
    },
    {
     "name": "stdout",
     "output_type": "stream",
     "text": [
      "  0%|                                                                            | 0/1 [07:19<?, ?trial/s, best loss=?]\n",
      "********** Could not fit SVC-R. Reason: 'bad allocation'. **********\n",
      "********** Could not evaluate SVC-R. Reason: 'Attempting to use a model that has not been fit. Ensure fit() has been called and at least one trial has completed without failing or timing out.'. **********\n",
      "\n",
      "******************** SVC-S ********************\n",
      "  0%|                                                                            | 0/1 [00:00<?, ?trial/s, best loss=?]"
     ]
    },
    {
     "name": "stderr",
     "output_type": "stream",
     "text": [
      "ERROR:hyperopt.fmin:job exception: bad allocation\n"
     ]
    },
    {
     "name": "stdout",
     "output_type": "stream",
     "text": [
      "  0%|                                                                            | 0/1 [00:58<?, ?trial/s, best loss=?]\n",
      "********** Could not fit SVC-S. Reason: 'bad allocation'. **********\n",
      "********** Could not evaluate SVC-S. Reason: 'Attempting to use a model that has not been fit. Ensure fit() has been called and at least one trial has completed without failing or timing out.'. **********\n",
      "\n",
      "******************** XGB ********************\n",
      "100%|███████████████████████████████████████████████████████████████████| 1/1 [10:05<00:00, 605.81s/trial, best loss=?]\n",
      "********** Could not fit XGB. Reason: ''. **********\n",
      "********** Could not evaluate XGB. Reason: 'Attempting to use a model that has not been fit. Ensure fit() has been called and at least one trial has completed without failing or timing out.'. **********\n"
     ]
    }
   ],
   "source": [
    "best_results = {}\n",
    "\n",
    "for clf in classifiers:\n",
    "    \n",
    "    clf_name = build_clf_name(clf)\n",
    "    \n",
    "    print(f'\\n******************** {clf_name} ********************')\n",
    "    \n",
    "    best_results[clf_name] = (0.0, None)\n",
    "        \n",
    "    try:\n",
    "        estim = HyperoptEstimator(classifier=clf,\n",
    "                                  preprocessing=[],\n",
    "                                  algo=tpe.suggest,\n",
    "                                  max_evals=10,\n",
    "                                  trial_timeout=600,\n",
    "                                  seed=np.random.default_rng(SEED),\n",
    "                                  fit_increment=1,\n",
    "                                  fit_increment_dump_filename=f'hyperopt_increments/{clf_name}.inc',\n",
    "                                  n_jobs=1)\n",
    "    except Exception as e:\n",
    "        print(f\"********** Could not create {clf_name}. Reason: '{str(e)}'. **********\")\n",
    "        \n",
    "    try:\n",
    "        estim.fit(X_train, y_train, random_state=SEED)\n",
    "    except Exception as e:\n",
    "        print(f\"********** Could not fit {clf_name}. Reason: '{str(e)}'. **********\")\n",
    "        \n",
    "    try:\n",
    "        score = estim.score(X_test, y_test)\n",
    "        best_model = estim.best_model()\n",
    "        best_results[clf_name] = (score, best_model)\n",
    "        print(best_results[clf_name])\n",
    "    except Exception as e:\n",
    "        print(f\"********** Could not evaluate {clf_name}. Reason: '{str(e)}'. **********\")"
   ]
  },
  {
   "cell_type": "code",
   "execution_count": 9,
   "id": "c21cceac",
   "metadata": {},
   "outputs": [
    {
     "name": "stdout",
     "output_type": "stream",
     "text": [
      "{\n",
      "    \"AB\": [\n",
      "        0.0,\n",
      "        null\n",
      "    ],\n",
      "    \"DT\": [\n",
      "        0.9976950396312063,\n",
      "        {\n",
      "            \"learner\": \"DecisionTreeClassifier(min_samples_leaf=4, min_samples_split=9, random_state=1,\\n                       splitter='random')\",\n",
      "            \"preprocs\": [],\n",
      "            \"ex_preprocs\": []\n",
      "        }\n",
      "    ],\n",
      "    \"ET\": [\n",
      "        0.993591918974707,\n",
      "        {\n",
      "            \"learner\": \"ExtraTreesClassifier(bootstrap=True, criterion='entropy',\\n                     max_features=0.3826823680920317, min_samples_leaf=2,\\n                     n_estimators=23, n_jobs=1, random_state=2, verbose=False)\",\n",
      "            \"preprocs\": [],\n",
      "            \"ex_preprocs\": []\n",
      "        }\n",
      "    ],\n",
      "    \"GB\": [\n",
      "        0.0,\n",
      "        null\n",
      "    ],\n",
      "    \"GNB\": [\n",
      "        0.27169020347043255,\n",
      "        {\n",
      "            \"learner\": \"GaussianNB()\",\n",
      "            \"preprocs\": [],\n",
      "            \"ex_preprocs\": []\n",
      "        }\n",
      "    ],\n",
      "    \"KN\": [\n",
      "        0.0,\n",
      "        null\n",
      "    ],\n",
      "    \"LDA\": [\n",
      "        0.7072537931606069,\n",
      "        {\n",
      "            \"learner\": \"LinearDiscriminantAnalysis(n_components=1, tol=1e-05)\",\n",
      "            \"preprocs\": [],\n",
      "            \"ex_preprocs\": []\n",
      "        }\n",
      "    ],\n",
      "    \"LSVC\": [\n",
      "        0.0,\n",
      "        null\n",
      "    ],\n",
      "    \"MNB\": [\n",
      "        0.7126846740295478,\n",
      "        {\n",
      "            \"learner\": \"MultinomialNB(alpha=0.38)\",\n",
      "            \"preprocs\": [],\n",
      "            \"ex_preprocs\": []\n",
      "        }\n",
      "    ],\n",
      "    \"OC\": [\n",
      "        0.0,\n",
      "        null\n",
      "    ],\n",
      "    \"OVO\": [\n",
      "        0.0,\n",
      "        null\n",
      "    ],\n",
      "    \"OVR\": [\n",
      "        0.0,\n",
      "        null\n",
      "    ],\n",
      "    \"PA\": [\n",
      "        0.7166953946712632,\n",
      "        {\n",
      "            \"learner\": \"PassiveAggressiveClassifier(C=0.037702012671071344, fit_intercept=False,\\n                            loss='squared_hinge', max_iter=11587094.0, n_jobs=1,\\n                            random_state=4, tol=4.53027677686769e-05,\\n                            verbose=False)\",\n",
      "            \"preprocs\": [],\n",
      "            \"ex_preprocs\": []\n",
      "        }\n",
      "    ],\n",
      "    \"QDA\": [\n",
      "        0.0,\n",
      "        null\n",
      "    ],\n",
      "    \"RF\": [\n",
      "        0.9965324794451967,\n",
      "        {\n",
      "            \"learner\": \"RandomForestClassifier(max_features=0.29064251968408905, min_samples_leaf=32,\\n                       n_estimators=85, n_jobs=1, random_state=4,\\n                       verbose=False)\",\n",
      "            \"preprocs\": [],\n",
      "            \"ex_preprocs\": []\n",
      "        }\n",
      "    ],\n",
      "    \"SGD\": [\n",
      "        0.7154471544715447,\n",
      "        {\n",
      "            \"learner\": \"SGDClassifier(alpha=3.635544519065662e-05, eta0=0.08701776522406507,\\n              l1_ratio=0.17548168634130723, learning_rate='constant',\\n              loss='log', max_iter=300476604.0, n_jobs=1, penalty='elasticnet',\\n              power_t=0.8135731811888463, random_state=4,\\n              tol=0.002726162070321745, verbose=False)\",\n",
      "            \"preprocs\": [],\n",
      "            \"ex_preprocs\": []\n",
      "        }\n",
      "    ],\n",
      "    \"SVC-L\": [\n",
      "        0.0,\n",
      "        null\n",
      "    ],\n",
      "    \"SVC-LL\": [\n",
      "        0.0,\n",
      "        null\n",
      "    ],\n",
      "    \"SVC-P\": [\n",
      "        0.0,\n",
      "        null\n",
      "    ],\n",
      "    \"SVC-R\": [\n",
      "        0.0,\n",
      "        null\n",
      "    ],\n",
      "    \"SVC-S\": [\n",
      "        0.0,\n",
      "        null\n",
      "    ],\n",
      "    \"XGB\": [\n",
      "        0.0,\n",
      "        null\n",
      "    ]\n",
      "}\n"
     ]
    }
   ],
   "source": [
    "best_results = dict(sorted(best_results.items()))\n",
    "print(json.dumps(best_results, indent=4, default=str))"
   ]
  },
  {
   "cell_type": "code",
   "execution_count": 10,
   "id": "d1447725",
   "metadata": {},
   "outputs": [
    {
     "name": "stdout",
     "output_type": "stream",
     "text": [
      "['AB', 'DT', 'ET', 'GB', 'GNB', 'KN', 'LDA', 'LSVC', 'MNB', 'OC', 'OVO', 'OVR', 'PA', 'QDA', 'RF', 'SGD', 'SVC-L', 'SVC-LL', 'SVC-P', 'SVC-R', 'SVC-S', 'XGB']\n",
      "[0.0, 0.9976950396312063, 0.993591918974707, 0.0, 0.27169020347043255, 0.0, 0.7072537931606069, 0.0, 0.7126846740295478, 0.0, 0.0, 0.0, 0.7166953946712632, 0.0, 0.9965324794451967, 0.7154471544715447, 0.0, 0.0, 0.0, 0.0, 0.0, 0.0]\n"
     ]
    },
    {
     "data": {
      "image/png": "[encoded data removed]",
      "text/plain": [
       "<Figure size 1152x648 with 1 Axes>"
      ]
     },
     "metadata": {
      "needs_background": "light"
     },
     "output_type": "display_data"
    }
   ],
   "source": [
    "names = list(best_results.keys())\n",
    "print(names)\n",
    "values = list(x[0] for x in best_results.values())\n",
    "print(values)\n",
    "\n",
    "plt.figure(figsize=(16,9))\n",
    "idx = 0\n",
    "for i in range(len(best_results.keys())):\n",
    "    plt.bar(names[i],values[i])\n",
    "    plt.text(idx-0.1,values[i]+0.01,f'{100*values[i]:.1f}%')\n",
    "    idx += 1\n",
    "plt.xticks(rotation=45, ha='right')\n",
    "plt.xticks(range(0,len(best_results)),names)\n",
    "plt.yticks(np.linspace(0,1,11))\n",
    "plt.ylim(0,1)\n",
    "plt.show()"
   ]
  },
  {
   "cell_type": "code",
   "execution_count": 11,
   "id": "dd064505",
   "metadata": {},
   "outputs": [
    {
     "name": "stdout",
     "output_type": "stream",
     "text": [
      "Execution finished at 2022-03-02 12:50:38.\n"
     ]
    }
   ],
   "source": [
    "print(f\"Execution finished at {datetime.now().strftime('%Y-%m-%d %H:%M:%S')}.\")"
   ]
  }
 ],
 "metadata": {
  "accelerator": "GPU",
  "colab": {
   "name": "IoT23 - DNN Opt.ipynb",
   "provenance": []
  },
  "kernelspec": {
   "display_name": "Python 3 (ipykernel)",
   "language": "python",
   "name": "python3"
  },
  "language_info": {
   "codemirror_mode": {
    "name": "ipython",
    "version": 3
   },
   "file_extension": ".py",
   "mimetype": "text/x-python",
   "name": "python",
   "nbconvert_exporter": "python",
   "pygments_lexer": "ipython3",
   "version": "3.9.7"
  }
 },
 "nbformat": 4,
 "nbformat_minor": 5
}
