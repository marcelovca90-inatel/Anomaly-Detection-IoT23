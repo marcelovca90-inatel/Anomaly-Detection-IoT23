{
 "cells": [
  {
   "cell_type": "code",
   "execution_count": 1,
   "id": "Kd-Bm8brf0Fz",
   "metadata": {
    "id": "Kd-Bm8brf0Fz"
   },
   "outputs": [
    {
     "name": "stdout",
     "output_type": "stream",
     "text": [
      "WARN: OMP_NUM_THREADS=None =>\n",
      "... If you are using openblas if you are using openblas set OMP_NUM_THREADS=1 or risk subprocess calls hanging indefinitely\n"
     ]
    },
    {
     "name": "stderr",
     "output_type": "stream",
     "text": [
      "Intel(R) Extension for Scikit-learn* enabled (https://github.com/intel/scikit-learn-intelex)\n"
     ]
    }
   ],
   "source": [
    "import matplotlib.pyplot as plt\n",
    "import numpy as np\n",
    "import pandas as pd\n",
    "import json\n",
    "import time\n",
    "from datetime import datetime\n",
    "from sklearnex import patch_sklearn\n",
    "patch_sklearn()\n",
    "from hpsklearn import *\n",
    "from hyperopt import hp, tpe"
   ]
  },
  {
   "cell_type": "code",
   "execution_count": 2,
   "id": "2229336e",
   "metadata": {},
   "outputs": [],
   "source": [
    "SEED = 10\n",
    "limit_rows = (1)*1000"
   ]
  },
  {
   "cell_type": "code",
   "execution_count": 3,
   "id": "dc175db4",
   "metadata": {
    "scrolled": true
   },
   "outputs": [
    {
     "name": "stdout",
     "output_type": "stream",
     "text": [
      "Execution started at 2022-03-01 19:39:29.\n"
     ]
    }
   ],
   "source": [
    "print(f\"Execution started at {datetime.now().strftime('%Y-%m-%d %H:%M:%S')}.\")"
   ]
  },
  {
   "cell_type": "code",
   "execution_count": 4,
   "id": "208d5970",
   "metadata": {},
   "outputs": [],
   "source": [
    "def load_csv(name):\n",
    "    if limit_rows is None:\n",
    "        return pd.read_table(filepath_or_buffer=f'../Data Preprocessing/sklearn/iot23_combined_{name}.csv', sep=',').infer_objects()\n",
    "    else:\n",
    "        return pd.read_table(filepath_or_buffer=f'../Data Preprocessing/sklearn/iot23_combined_{int(limit_rows/1000)}k_{name}.csv', sep=',').infer_objects()"
   ]
  },
  {
   "cell_type": "code",
   "execution_count": 5,
   "id": "steady-hotel",
   "metadata": {
    "id": "steady-hotel",
    "scrolled": false
   },
   "outputs": [
    {
     "name": "stdout",
     "output_type": "stream",
     "text": [
      "X_train (7713, 16) \n",
      "y_train (7713, 1)\n",
      "X_test (1928, 16) \n",
      "y_test (1928, 1)\n"
     ]
    }
   ],
   "source": [
    "X_train, X_test, y_train, y_test = load_csv('X_train'), load_csv('X_test'), load_csv('y_train'), load_csv('y_test')\n",
    "\n",
    "print('X_train',X_train.shape,'\\ny_train',y_train.shape)\n",
    "\n",
    "print('X_test',X_test.shape,'\\ny_test',y_test.shape)"
   ]
  },
  {
   "cell_type": "code",
   "execution_count": 6,
   "id": "e5401710",
   "metadata": {},
   "outputs": [
    {
     "data": {
      "text/html": [
       "<div>\n",
       "<style scoped>\n",
       "    .dataframe tbody tr th:only-of-type {\n",
       "        vertical-align: middle;\n",
       "    }\n",
       "\n",
       "    .dataframe tbody tr th {\n",
       "        vertical-align: top;\n",
       "    }\n",
       "\n",
       "    .dataframe thead th {\n",
       "        text-align: right;\n",
       "    }\n",
       "</style>\n",
       "<table border=\"1\" class=\"dataframe\">\n",
       "  <thead>\n",
       "    <tr style=\"text-align: right;\">\n",
       "      <th></th>\n",
       "      <th>0.595344</th>\n",
       "      <th>0.906291</th>\n",
       "      <th>0</th>\n",
       "      <th>0.1</th>\n",
       "      <th>0.2</th>\n",
       "      <th>0.3</th>\n",
       "      <th>0.4</th>\n",
       "      <th>0.5</th>\n",
       "      <th>0.6</th>\n",
       "      <th>0.7</th>\n",
       "      <th>1</th>\n",
       "      <th>0.8</th>\n",
       "      <th>1.1</th>\n",
       "      <th>0.9</th>\n",
       "      <th>0.10</th>\n",
       "      <th>0.11</th>\n",
       "    </tr>\n",
       "  </thead>\n",
       "  <tbody>\n",
       "    <tr>\n",
       "      <th>0</th>\n",
       "      <td>0.524791</td>\n",
       "      <td>0.000763</td>\n",
       "      <td>0.000462</td>\n",
       "      <td>0.000000</td>\n",
       "      <td>0.000000</td>\n",
       "      <td>0.0</td>\n",
       "      <td>0.000000</td>\n",
       "      <td>0.000000</td>\n",
       "      <td>0.000000</td>\n",
       "      <td>0.000000</td>\n",
       "      <td>1</td>\n",
       "      <td>0</td>\n",
       "      <td>1</td>\n",
       "      <td>0</td>\n",
       "      <td>0</td>\n",
       "      <td>0.0</td>\n",
       "    </tr>\n",
       "    <tr>\n",
       "      <th>1</th>\n",
       "      <td>0.752627</td>\n",
       "      <td>0.101802</td>\n",
       "      <td>0.000312</td>\n",
       "      <td>0.000003</td>\n",
       "      <td>0.000021</td>\n",
       "      <td>0.0</td>\n",
       "      <td>0.000001</td>\n",
       "      <td>0.000001</td>\n",
       "      <td>0.000869</td>\n",
       "      <td>0.000051</td>\n",
       "      <td>1</td>\n",
       "      <td>0</td>\n",
       "      <td>0</td>\n",
       "      <td>1</td>\n",
       "      <td>0</td>\n",
       "      <td>0.0</td>\n",
       "    </tr>\n",
       "    <tr>\n",
       "      <th>2</th>\n",
       "      <td>0.917425</td>\n",
       "      <td>0.000809</td>\n",
       "      <td>0.000000</td>\n",
       "      <td>0.000000</td>\n",
       "      <td>0.000000</td>\n",
       "      <td>0.0</td>\n",
       "      <td>0.000000</td>\n",
       "      <td>0.000000</td>\n",
       "      <td>0.000000</td>\n",
       "      <td>0.000000</td>\n",
       "      <td>0</td>\n",
       "      <td>1</td>\n",
       "      <td>1</td>\n",
       "      <td>0</td>\n",
       "      <td>0</td>\n",
       "      <td>0.0</td>\n",
       "    </tr>\n",
       "    <tr>\n",
       "      <th>3</th>\n",
       "      <td>0.001833</td>\n",
       "      <td>0.001878</td>\n",
       "      <td>0.000001</td>\n",
       "      <td>0.000004</td>\n",
       "      <td>0.000008</td>\n",
       "      <td>0.0</td>\n",
       "      <td>0.000000</td>\n",
       "      <td>0.000000</td>\n",
       "      <td>0.000248</td>\n",
       "      <td>0.000013</td>\n",
       "      <td>0</td>\n",
       "      <td>1</td>\n",
       "      <td>0</td>\n",
       "      <td>0</td>\n",
       "      <td>1</td>\n",
       "      <td>0.0</td>\n",
       "    </tr>\n",
       "    <tr>\n",
       "      <th>4</th>\n",
       "      <td>0.001833</td>\n",
       "      <td>0.001878</td>\n",
       "      <td>0.000003</td>\n",
       "      <td>0.000002</td>\n",
       "      <td>0.000004</td>\n",
       "      <td>0.0</td>\n",
       "      <td>0.000000</td>\n",
       "      <td>0.000000</td>\n",
       "      <td>0.000124</td>\n",
       "      <td>0.000006</td>\n",
       "      <td>0</td>\n",
       "      <td>1</td>\n",
       "      <td>0</td>\n",
       "      <td>0</td>\n",
       "      <td>1</td>\n",
       "      <td>0.0</td>\n",
       "    </tr>\n",
       "    <tr>\n",
       "      <th>...</th>\n",
       "      <td>...</td>\n",
       "      <td>...</td>\n",
       "      <td>...</td>\n",
       "      <td>...</td>\n",
       "      <td>...</td>\n",
       "      <td>...</td>\n",
       "      <td>...</td>\n",
       "      <td>...</td>\n",
       "      <td>...</td>\n",
       "      <td>...</td>\n",
       "      <td>...</td>\n",
       "      <td>...</td>\n",
       "      <td>...</td>\n",
       "      <td>...</td>\n",
       "      <td>...</td>\n",
       "      <td>...</td>\n",
       "    </tr>\n",
       "    <tr>\n",
       "      <th>7708</th>\n",
       "      <td>0.915547</td>\n",
       "      <td>0.001222</td>\n",
       "      <td>0.000464</td>\n",
       "      <td>0.000000</td>\n",
       "      <td>0.000000</td>\n",
       "      <td>0.0</td>\n",
       "      <td>0.000000</td>\n",
       "      <td>0.000000</td>\n",
       "      <td>0.000000</td>\n",
       "      <td>0.000000</td>\n",
       "      <td>1</td>\n",
       "      <td>0</td>\n",
       "      <td>1</td>\n",
       "      <td>0</td>\n",
       "      <td>0</td>\n",
       "      <td>0.0</td>\n",
       "    </tr>\n",
       "    <tr>\n",
       "      <th>7709</th>\n",
       "      <td>0.777876</td>\n",
       "      <td>0.000336</td>\n",
       "      <td>0.000000</td>\n",
       "      <td>0.000000</td>\n",
       "      <td>0.000000</td>\n",
       "      <td>0.0</td>\n",
       "      <td>0.000000</td>\n",
       "      <td>0.000000</td>\n",
       "      <td>0.000000</td>\n",
       "      <td>0.000000</td>\n",
       "      <td>1</td>\n",
       "      <td>0</td>\n",
       "      <td>1</td>\n",
       "      <td>0</td>\n",
       "      <td>0</td>\n",
       "      <td>0.0</td>\n",
       "    </tr>\n",
       "    <tr>\n",
       "      <th>7710</th>\n",
       "      <td>0.368974</td>\n",
       "      <td>0.123393</td>\n",
       "      <td>0.000000</td>\n",
       "      <td>0.000000</td>\n",
       "      <td>0.000000</td>\n",
       "      <td>0.0</td>\n",
       "      <td>0.000000</td>\n",
       "      <td>0.000000</td>\n",
       "      <td>0.000000</td>\n",
       "      <td>0.000000</td>\n",
       "      <td>1</td>\n",
       "      <td>0</td>\n",
       "      <td>1</td>\n",
       "      <td>0</td>\n",
       "      <td>0</td>\n",
       "      <td>0.0</td>\n",
       "    </tr>\n",
       "    <tr>\n",
       "      <th>7711</th>\n",
       "      <td>0.777891</td>\n",
       "      <td>0.075966</td>\n",
       "      <td>0.000149</td>\n",
       "      <td>0.000002</td>\n",
       "      <td>0.000011</td>\n",
       "      <td>0.0</td>\n",
       "      <td>0.000000</td>\n",
       "      <td>0.000001</td>\n",
       "      <td>0.000497</td>\n",
       "      <td>0.000027</td>\n",
       "      <td>1</td>\n",
       "      <td>0</td>\n",
       "      <td>0</td>\n",
       "      <td>0</td>\n",
       "      <td>0</td>\n",
       "      <td>0.0</td>\n",
       "    </tr>\n",
       "    <tr>\n",
       "      <th>7712</th>\n",
       "      <td>0.276242</td>\n",
       "      <td>0.001222</td>\n",
       "      <td>0.000000</td>\n",
       "      <td>0.000000</td>\n",
       "      <td>0.000000</td>\n",
       "      <td>0.0</td>\n",
       "      <td>0.000000</td>\n",
       "      <td>0.000000</td>\n",
       "      <td>0.000000</td>\n",
       "      <td>0.000000</td>\n",
       "      <td>1</td>\n",
       "      <td>0</td>\n",
       "      <td>1</td>\n",
       "      <td>0</td>\n",
       "      <td>0</td>\n",
       "      <td>0.0</td>\n",
       "    </tr>\n",
       "  </tbody>\n",
       "</table>\n",
       "<p>7713 rows × 16 columns</p>\n",
       "</div>"
      ],
      "text/plain": [
       "      0.595344  0.906291         0       0.1       0.2  0.3       0.4  \\\n",
       "0     0.524791  0.000763  0.000462  0.000000  0.000000  0.0  0.000000   \n",
       "1     0.752627  0.101802  0.000312  0.000003  0.000021  0.0  0.000001   \n",
       "2     0.917425  0.000809  0.000000  0.000000  0.000000  0.0  0.000000   \n",
       "3     0.001833  0.001878  0.000001  0.000004  0.000008  0.0  0.000000   \n",
       "4     0.001833  0.001878  0.000003  0.000002  0.000004  0.0  0.000000   \n",
       "...        ...       ...       ...       ...       ...  ...       ...   \n",
       "7708  0.915547  0.001222  0.000464  0.000000  0.000000  0.0  0.000000   \n",
       "7709  0.777876  0.000336  0.000000  0.000000  0.000000  0.0  0.000000   \n",
       "7710  0.368974  0.123393  0.000000  0.000000  0.000000  0.0  0.000000   \n",
       "7711  0.777891  0.075966  0.000149  0.000002  0.000011  0.0  0.000000   \n",
       "7712  0.276242  0.001222  0.000000  0.000000  0.000000  0.0  0.000000   \n",
       "\n",
       "           0.5       0.6       0.7  1  0.8  1.1  0.9  0.10  0.11  \n",
       "0     0.000000  0.000000  0.000000  1    0    1    0     0   0.0  \n",
       "1     0.000001  0.000869  0.000051  1    0    0    1     0   0.0  \n",
       "2     0.000000  0.000000  0.000000  0    1    1    0     0   0.0  \n",
       "3     0.000000  0.000248  0.000013  0    1    0    0     1   0.0  \n",
       "4     0.000000  0.000124  0.000006  0    1    0    0     1   0.0  \n",
       "...        ...       ...       ... ..  ...  ...  ...   ...   ...  \n",
       "7708  0.000000  0.000000  0.000000  1    0    1    0     0   0.0  \n",
       "7709  0.000000  0.000000  0.000000  1    0    1    0     0   0.0  \n",
       "7710  0.000000  0.000000  0.000000  1    0    1    0     0   0.0  \n",
       "7711  0.000001  0.000497  0.000027  1    0    0    0     0   0.0  \n",
       "7712  0.000000  0.000000  0.000000  1    0    1    0     0   0.0  \n",
       "\n",
       "[7713 rows x 16 columns]"
      ]
     },
     "execution_count": 6,
     "metadata": {},
     "output_type": "execute_result"
    }
   ],
   "source": [
    "X_train"
   ]
  },
  {
   "cell_type": "code",
   "execution_count": 7,
   "id": "52071f65",
   "metadata": {},
   "outputs": [],
   "source": [
    "def build_clf_name(clf):\n",
    "    clf_name = clf.name.replace('sklearn_','').replace('Classifier','')\n",
    "    if clf_name == 'switch':\n",
    "        clf_name = 'SVC-LL'\n",
    "    elif 'SVC' in clf_name:\n",
    "        for arg in clf.named_args:\n",
    "            if arg[0] == 'kernel':\n",
    "                clf_name += f'-{arg[1].obj.capitalize()[0]}'\n",
    "    clf_name = ''.join(c for c in clf_name if (c.isupper() or c == '-'))\n",
    "    return clf_name"
   ]
  },
  {
   "cell_type": "code",
   "execution_count": 8,
   "id": "a3d7b417",
   "metadata": {},
   "outputs": [],
   "source": [
    "classifiers = [\n",
    "    ada_boost('ab'),\n",
    "    decision_tree('dt'),\n",
    "    extra_trees('et'),\n",
    "    gaussian_nb('gnb'),\n",
    "    gradient_boosting('gb'),\n",
    "    knn('knn'),\n",
    "    liblinear_svc('svc-ll'),\n",
    "    linear_discriminant_analysis('lda',n_components=1),\n",
    "    multinomial_nb('mnb'),\n",
    "    one_vs_one('ovo'),\n",
    "    one_vs_rest('ovr'),\n",
    "    output_code('oc'),\n",
    "    passive_aggressive('pa'),\n",
    "    quadratic_discriminant_analysis('qda'),\n",
    "    random_forest('rf'),\n",
    "    sgd('sgd'),\n",
    "    svc('svc'),\n",
    "    svc_linear('svc-l'),\n",
    "    svc_poly('svc-p'),\n",
    "    svc_rbf('svc-r'),\n",
    "    svc_sigmoid('svc-s'),\n",
    "    xgboost_classification('xgb')\n",
    "]"
   ]
  },
  {
   "cell_type": "code",
   "execution_count": 9,
   "id": "earned-advertiser",
   "metadata": {
    "id": "earned-advertiser",
    "scrolled": true
   },
   "outputs": [
    {
     "name": "stdout",
     "output_type": "stream",
     "text": [
      "\n",
      "******************** AB ********************\n",
      "100%|███████████████████████████████████████████████████████████████████████████████████████| 1/1 [00:01<00:00,  1.18s/trial, best loss: 0.3091380427738173]\n",
      "100%|██████████████████████████████████████████████████████████████████████████████████████| 2/2 [00:01<00:00,  1.01s/trial, best loss: 0.23460790667530784]\n",
      "100%|█████████████████████████████████████████████████████████████████████████████████████| 3/3 [00:02<00:00,  3.00s/trial, best loss: 0.025275437459494454]\n"
     ]
    },
    {
     "name": "stderr",
     "output_type": "stream",
     "text": [
      "C:\\Users\\marce\\anaconda3\\envs\\tf\\lib\\site-packages\\sklearn\\utils\\validation.py:993: DataConversionWarning: A column-vector y was passed when a 1d array was expected. Please change the shape of y to (n_samples, ), for example using ravel().\n",
      "  y = column_or_1d(y, warn=True)\n"
     ]
    },
    {
     "name": "stdout",
     "output_type": "stream",
     "text": [
      "(0.9725103734439834, {'learner': AdaBoostClassifier(algorithm='SAMME', learning_rate=0.3756144655926187,\n",
      "                   n_estimators=483, random_state=4), 'preprocs': (), 'ex_preprocs': ()})\n",
      "\n",
      "******************** DT ********************\n",
      "100%|██████████████████████████████████████████████████████████████████████████████████████| 1/1 [00:00<00:00,  1.18trial/s, best loss: 0.07388204795852238]\n",
      "100%|█████████████████████████████████████████████████████████████████████████████████████| 2/2 [00:00<00:00,  1.16trial/s, best loss: 0.036292935839274176]\n",
      "100%|██████████████████████████████████████████████████████████████████████████████████████| 3/3 [00:00<00:00,  1.17trial/s, best loss: 0.01944264419961117]\n",
      "(0.9859958506224067, {'learner': DecisionTreeClassifier(min_samples_leaf=4, min_samples_split=9, random_state=1,\n",
      "                       splitter='random'), 'preprocs': (), 'ex_preprocs': ()})\n",
      "\n",
      "******************** ET ********************\n",
      "100%|██████████████████████████████████████████████████████████████████████████████████████| 1/1 [00:00<00:00,  1.04trial/s, best loss: 0.23979261179520417]\n",
      "100%|█████████████████████████████████████████████████████████████████████████████████████| 2/2 [00:00<00:00,  1.10trial/s, best loss: 0.024627349319507497]\n",
      "100%|█████████████████████████████████████████████████████████████████████████████████████| 3/3 [00:03<00:00,  3.15s/trial, best loss: 0.022034996759559333]\n"
     ]
    },
    {
     "name": "stderr",
     "output_type": "stream",
     "text": [
      "C:\\Users\\marce\\anaconda3\\envs\\tf\\lib\\site-packages\\hpsklearn\\estimator.py:746: DataConversionWarning: A column-vector y was passed when a 1d array was expected. Please change the shape of y to (n_samples,), for example using ravel().\n",
      "  self._best_learner.fit(XEX, y)\n"
     ]
    },
    {
     "name": "stdout",
     "output_type": "stream",
     "text": [
      "(0.9808091286307054, {'learner': ExtraTreesClassifier(bootstrap=True, max_features=None, n_estimators=1195,\n",
      "                     n_jobs=1, random_state=4, verbose=False), 'preprocs': (), 'ex_preprocs': ()})\n",
      "\n",
      "******************** GNB ********************\n",
      "100%|███████████████████████████████████████████████████████████████████████████████████████| 1/1 [00:00<00:00,  1.13trial/s, best loss: 0.2754374594944913]\n",
      "100%|███████████████████████████████████████████████████████████████████████████████████████| 2/2 [00:00<00:00,  1.15trial/s, best loss: 0.2754374594944913]\n",
      "100%|███████████████████████████████████████████████████████████████████████████████████████| 3/3 [00:00<00:00,  1.07trial/s, best loss: 0.2754374594944913]\n",
      "(0.7531120331950207, {'learner': GaussianNB(), 'preprocs': (), 'ex_preprocs': ()})\n",
      "\n",
      "******************** GB ********************\n",
      "  0%|                                                                                                                 | 0/1 [00:00<?, ?trial/s, best loss=?]"
     ]
    },
    {
     "name": "stderr",
     "output_type": "stream",
     "text": [
      "C:\\Users\\marce\\anaconda3\\envs\\tf\\lib\\site-packages\\sklearn\\utils\\validation.py:993: DataConversionWarning: A column-vector y was passed when a 1d array was expected. Please change the shape of y to (n_samples, ), for example using ravel().\n",
      "  y = column_or_1d(y, warn=True)\n"
     ]
    },
    {
     "name": "stdout",
     "output_type": "stream",
     "text": [
      "100%|█████████████████████████████████████████████████████████████████████████████████████| 1/1 [00:03<00:00,  3.32s/trial, best loss: 0.025275437459494454]\n",
      " 50%|████████████████████████████████████████████████████████▌                                                        | 1/2 [00:00<?, ?trial/s, best loss=?]"
     ]
    },
    {
     "name": "stderr",
     "output_type": "stream",
     "text": [
      "job exception: ExponentialLoss requires 2 classes; got 3 class(es)\n",
      "\n"
     ]
    },
    {
     "name": "stdout",
     "output_type": "stream",
     "text": [
      " 50%|████████████████████████████████████████████████████████▌                                                        | 1/2 [00:00<?, ?trial/s, best loss=?]\n",
      "********** Could not fit GB. Reason: 'ExponentialLoss requires 2 classes; got 3 class(es)'. **********\n",
      "********** Could not evaluate GB. Reason: 'This GradientBoostingClassifier instance is not fitted yet. Call 'fit' with appropriate arguments before using this estimator.'. **********\n",
      "\n",
      "******************** KN ********************\n",
      "100%|██████████████████████████████████████████████████████████████████████████████████████| 1/1 [00:03<00:00,  3.02s/trial, best loss: 0.12119248217757617]\n",
      "100%|██████████████████████████████████████████████████████████████████████████████████████| 2/2 [00:01<00:00,  1.25s/trial, best loss: 0.12119248217757617]\n",
      "100%|██████████████████████████████████████████████████████████████████████████████████████| 3/3 [00:03<00:00,  3.32s/trial, best loss: 0.11211924821775765]\n"
     ]
    },
    {
     "name": "stderr",
     "output_type": "stream",
     "text": [
      "C:\\Users\\marce\\anaconda3\\envs\\tf\\lib\\site-packages\\daal4py\\sklearn\\neighbors\\_base.py:361: DataConversionWarning: A column-vector y was passed when a 1d array was expected. Please change the shape of y to (n_samples,), for example using ravel().\n",
      "  result = super(NeighborsBase, self)._fit(X, y)\n"
     ]
    },
    {
     "name": "stdout",
     "output_type": "stream",
     "text": [
      "(0.8807053941908713, {'learner': KNeighborsClassifier(n_jobs=1, n_neighbors=24, p=3.0, weights='distance'), 'preprocs': (), 'ex_preprocs': ()})\n",
      "\n",
      "******************** LSVC ********************\n",
      "100%|███████████████████████████████████████████████████████████████████████████████████████| 1/1 [00:01<00:00,  1.03s/trial, best loss: 0.2670123136746597]\n",
      "100%|███████████████████████████████████████████████████████████████████████████████████████| 2/2 [00:01<00:00,  1.18s/trial, best loss: 0.2670123136746597]\n",
      "100%|██████████████████████████████████████████████████████████████████████████████████████| 3/3 [00:51<00:00, 51.79s/trial, best loss: 0.26636422553467276]\n"
     ]
    },
    {
     "name": "stderr",
     "output_type": "stream",
     "text": [
      "C:\\Users\\marce\\anaconda3\\envs\\tf\\lib\\site-packages\\sklearn\\utils\\validation.py:993: DataConversionWarning: A column-vector y was passed when a 1d array was expected. Please change the shape of y to (n_samples, ), for example using ravel().\n",
      "  y = column_or_1d(y, warn=True)\n"
     ]
    },
    {
     "name": "stdout",
     "output_type": "stream",
     "text": [
      "(0.491701244813278, {'learner': LinearSVC(C=48617.228800553676, class_weight='balanced', dual=False,\n",
      "          intercept_scaling=0.41034553377344246, multi_class='crammer_singer',\n",
      "          random_state=0, tol=0.00011321032970961408, verbose=False), 'preprocs': (), 'ex_preprocs': ()})\n",
      "\n",
      "******************** LDA ********************\n",
      "\r",
      "  0%|                                                                                                                 | 0/1 [00:00<?, ?trial/s, best loss=?]"
     ]
    },
    {
     "name": "stderr",
     "output_type": "stream",
     "text": [
      "C:\\Users\\marce\\anaconda3\\envs\\tf\\lib\\site-packages\\sklearn\\svm\\_base.py:1206: ConvergenceWarning: Liblinear failed to converge, increase the number of iterations.\n",
      "  warnings.warn(\n"
     ]
    },
    {
     "name": "stdout",
     "output_type": "stream",
     "text": [
      "100%|███████████████████████████████████████████████████████████████████████████████████████| 1/1 [00:01<00:00,  1.12s/trial, best loss: 0.2696046662346079]\n",
      "100%|███████████████████████████████████████████████████████████████████████████████████████| 2/2 [00:01<00:00,  1.02s/trial, best loss: 0.2696046662346079]\n",
      "100%|███████████████████████████████████████████████████████████████████████████████████████| 3/3 [00:00<00:00,  1.03trial/s, best loss: 0.2696046662346079]\n",
      "(0.7593360995850622, {'learner': LinearDiscriminantAnalysis(n_components=1, shrinkage='auto', solver='eigen',\n",
      "                           tol=1e-05), 'preprocs': (), 'ex_preprocs': ()})\n",
      "\n",
      "******************** MNB ********************\n",
      "  0%|                                                                                                                 | 0/1 [00:00<?, ?trial/s, best loss=?]"
     ]
    },
    {
     "name": "stderr",
     "output_type": "stream",
     "text": [
      "C:\\Users\\marce\\anaconda3\\envs\\tf\\lib\\site-packages\\sklearn\\utils\\validation.py:993: DataConversionWarning: A column-vector y was passed when a 1d array was expected. Please change the shape of y to (n_samples, ), for example using ravel().\n",
      "  y = column_or_1d(y, warn=True)\n"
     ]
    },
    {
     "name": "stdout",
     "output_type": "stream",
     "text": [
      "100%|██████████████████████████████████████████████████████████████████████████████████████| 1/1 [00:00<00:00,  1.12trial/s, best loss: 0.27738172391445237]\n",
      "100%|██████████████████████████████████████████████████████████████████████████████████████| 2/2 [00:01<00:00,  1.03s/trial, best loss: 0.27738172391445237]\n",
      "100%|██████████████████████████████████████████████████████████████████████████████████████| 3/3 [00:01<00:00,  1.11s/trial, best loss: 0.27738172391445237]\n",
      "(0.754149377593361, {'learner': MultinomialNB(alpha=0.38), 'preprocs': (), 'ex_preprocs': ()})\n",
      "\n",
      "******************** OVO ********************\n",
      "  0%|                                                                                                                 | 0/1 [00:00<?, ?trial/s, best loss=?]"
     ]
    },
    {
     "name": "stderr",
     "output_type": "stream",
     "text": [
      "C:\\Users\\marce\\anaconda3\\envs\\tf\\lib\\site-packages\\sklearn\\utils\\validation.py:993: DataConversionWarning: A column-vector y was passed when a 1d array was expected. Please change the shape of y to (n_samples, ), for example using ravel().\n",
      "  y = column_or_1d(y, warn=True)\n"
     ]
    },
    {
     "name": "stdout",
     "output_type": "stream",
     "text": [
      "100%|██████████████████████████████████████████████████████████████████████████████████████| 1/1 [00:02<00:00,  2.02s/trial, best loss: 0.02657161373946859]\n",
      "100%|██████████████████████████████████████████████████████████████████████████████████████| 2/2 [00:01<00:00,  1.29s/trial, best loss: 0.02657161373946859]\n",
      "100%|██████████████████████████████████████████████████████████████████████████████████████| 3/3 [00:01<00:00,  1.08s/trial, best loss: 0.02657161373946859]\n"
     ]
    },
    {
     "name": "stderr",
     "output_type": "stream",
     "text": [
      "C:\\Users\\marce\\anaconda3\\envs\\tf\\lib\\site-packages\\sklearn\\utils\\validation.py:993: DataConversionWarning: A column-vector y was passed when a 1d array was expected. Please change the shape of y to (n_samples, ), for example using ravel().\n",
      "  y = column_or_1d(y, warn=True)\n"
     ]
    },
    {
     "name": "stdout",
     "output_type": "stream",
     "text": [
      "(0.983402489626556, {'learner': OneVsOneClassifier(estimator=GradientBoostingClassifier(learning_rate=0.011641046969577998,\n",
      "                                                        max_depth=None,\n",
      "                                                        max_features=0.4941456118168194,\n",
      "                                                        min_samples_leaf=7,\n",
      "                                                        n_estimators=48,\n",
      "                                                        random_state=4,\n",
      "                                                        subsample=0.93482899929673),\n",
      "                   n_jobs=1), 'preprocs': (), 'ex_preprocs': ()})\n",
      "\n",
      "******************** OVR ********************\n",
      "100%|█████████████████████████████████████████████████████████████████████████████████████| 1/1 [00:02<00:00,  2.45s/trial, best loss: 0.025275437459494454]\n",
      "100%|█████████████████████████████████████████████████████████████████████████████████████| 2/2 [00:01<00:00,  1.48s/trial, best loss: 0.025275437459494454]\n",
      "100%|█████████████████████████████████████████████████████████████████████████████████████| 3/3 [00:01<00:00,  1.08s/trial, best loss: 0.025275437459494454]\n",
      "(0.9818464730290456, {'learner': OneVsRestClassifier(estimator=GradientBoostingClassifier(learning_rate=0.011641046969577998,\n",
      "                                                         max_depth=None,\n",
      "                                                         max_features=0.4941456118168194,\n",
      "                                                         min_samples_leaf=7,\n",
      "                                                         n_estimators=48,\n",
      "                                                         random_state=4,\n",
      "                                                         subsample=0.93482899929673),\n",
      "                    n_jobs=1), 'preprocs': (), 'ex_preprocs': ()})\n",
      "\n",
      "******************** OC ********************\n",
      "100%|██████████████████████████████████████████████████████████████████████████████████████| 1/1 [00:01<00:00,  1.83s/trial, best loss: 0.11276733635774461]\n",
      "100%|██████████████████████████████████████████████████████████████████████████████████████| 2/2 [00:01<00:00,  1.65s/trial, best loss: 0.11276733635774461]\n",
      "100%|██████████████████████████████████████████████████████████████████████████████████████| 3/3 [00:01<00:00,  1.26s/trial, best loss: 0.11276733635774461]\n"
     ]
    },
    {
     "name": "stderr",
     "output_type": "stream",
     "text": [
      "C:\\Users\\marce\\anaconda3\\envs\\tf\\lib\\site-packages\\sklearn\\utils\\validation.py:993: DataConversionWarning: A column-vector y was passed when a 1d array was expected. Please change the shape of y to (n_samples, ), for example using ravel().\n",
      "  y = column_or_1d(y, warn=True)\n"
     ]
    },
    {
     "name": "stdout",
     "output_type": "stream",
     "text": [
      "(0.9144190871369294, {'learner': OutputCodeClassifier(estimator=GradientBoostingClassifier(learning_rate=0.011641046969577998,\n",
      "                                                          max_depth=None,\n",
      "                                                          max_features=0.4941456118168194,\n",
      "                                                          min_samples_leaf=7,\n",
      "                                                          n_estimators=48,\n",
      "                                                          random_state=4,\n",
      "                                                          subsample=0.93482899929673),\n",
      "                     n_jobs=1), 'preprocs': (), 'ex_preprocs': ()})\n",
      "\n",
      "******************** PA ********************\n",
      "100%|██████████████████████████████████████████████████████████████████████████████████████| 1/1 [00:00<00:00,  1.04trial/s, best loss: 0.27219701879455604]\n",
      "100%|██████████████████████████████████████████████████████████████████████████████████████| 2/2 [00:00<00:00,  1.10trial/s, best loss: 0.27219701879455604]\n",
      "100%|██████████████████████████████████████████████████████████████████████████████████████| 3/3 [00:00<00:00,  1.10trial/s, best loss: 0.27219701879455604]\n",
      "(0.7557053941908713, {'learner': PassiveAggressiveClassifier(C=0.10580618144023571, fit_intercept=False,\n",
      "                            max_iter=548676042.0, n_jobs=1, random_state=3,\n",
      "                            tol=0.003799057710504326, verbose=False), 'preprocs': (), 'ex_preprocs': ()})\n",
      "\n",
      "******************** QDA ********************\n",
      "  0%|                                                                                                                 | 0/1 [00:00<?, ?trial/s, best loss=?]"
     ]
    },
    {
     "name": "stderr",
     "output_type": "stream",
     "text": [
      "C:\\Users\\marce\\anaconda3\\envs\\tf\\lib\\site-packages\\sklearn\\utils\\validation.py:993: DataConversionWarning: A column-vector y was passed when a 1d array was expected. Please change the shape of y to (n_samples, ), for example using ravel().\n",
      "  y = column_or_1d(y, warn=True)\n"
     ]
    },
    {
     "name": "stdout",
     "output_type": "stream",
     "text": [
      "100%|███████████████████████████████████████████████████████████████████████████████████████| 1/1 [00:00<00:00,  1.05trial/s, best loss: 0.2786779001944264]\n",
      "100%|███████████████████████████████████████████████████████████████████████████████████████| 2/2 [00:00<00:00,  1.04trial/s, best loss: 0.2786779001944264]\n",
      "100%|██████████████████████████████████████████████████████████████████████████████████████| 3/3 [00:00<00:00,  1.05trial/s, best loss: 0.27738172391445237]\n",
      "(0.754149377593361, {'learner': QuadraticDiscriminantAnalysis(reg_param=0.3512953517399541), 'preprocs': (), 'ex_preprocs': ()})\n",
      "\n",
      "******************** RF ********************\n",
      "  0%|                                                                                                                 | 0/1 [00:00<?, ?trial/s, best loss=?]"
     ]
    },
    {
     "name": "stderr",
     "output_type": "stream",
     "text": [
      "C:\\Users\\marce\\anaconda3\\envs\\tf\\lib\\site-packages\\sklearn\\utils\\validation.py:993: DataConversionWarning: A column-vector y was passed when a 1d array was expected. Please change the shape of y to (n_samples, ), for example using ravel().\n",
      "  y = column_or_1d(y, warn=True)\n",
      "C:\\Users\\marce\\anaconda3\\envs\\tf\\lib\\site-packages\\sklearn\\discriminant_analysis.py:878: UserWarning: Variables are collinear\n",
      "  warnings.warn(\"Variables are collinear\")\n"
     ]
    },
    {
     "name": "stdout",
     "output_type": "stream",
     "text": [
      "100%|█████████████████████████████████████████████████████████████████████████████████████| 1/1 [00:01<00:00,  1.53s/trial, best loss: 0.028515878159429686]\n",
      "100%|██████████████████████████████████████████████████████████████████████████████████████| 2/2 [00:01<00:00,  1.40s/trial, best loss: 0.02268308489954629]\n",
      "100%|██████████████████████████████████████████████████████████████████████████████████████| 3/3 [00:02<00:00,  2.07s/trial, best loss: 0.02268308489954629]\n",
      "(0.9828838174273858, {'learner': RandomForestClassifier(criterion='entropy', max_features=0.2531954371648645,\n",
      "                       min_samples_leaf=2, n_estimators=37, n_jobs=1,\n",
      "                       random_state=4, verbose=False), 'preprocs': (), 'ex_preprocs': ()})\n",
      "\n",
      "******************** SGD ********************\n",
      "  0%|                                                                                                                 | 0/1 [00:00<?, ?trial/s, best loss=?]"
     ]
    },
    {
     "name": "stderr",
     "output_type": "stream",
     "text": [
      "C:\\Users\\marce\\anaconda3\\envs\\tf\\lib\\site-packages\\daal4py\\sklearn\\ensemble\\_forest.py:350: DataConversionWarning: A column-vector y was passed when a 1d array was expected. Please change the shape of y to (n_samples,), for example using ravel().\n",
      "  return super(RandomForestClassifier, self).fit(\n"
     ]
    },
    {
     "name": "stdout",
     "output_type": "stream",
     "text": [
      "100%|███████████████████████████████████████████████████████████████████████████████████████| 1/1 [00:00<00:00,  1.07trial/s, best loss: 0.5346727154893065]\n",
      "100%|██████████████████████████████████████████████████████████████████████████████████████| 2/2 [00:01<00:00,  1.09s/trial, best loss: 0.27932598833441347]\n",
      "100%|███████████████████████████████████████████████████████████████████████████████████████| 3/3 [00:01<00:00,  1.02s/trial, best loss: 0.2670123136746597]\n",
      "(0.7624481327800829, {'learner': SGDClassifier(alpha=0.0006379623179663057, class_weight='balanced',\n",
      "              eta0=0.00011422166980413974, l1_ratio=0.46788713954999506,\n",
      "              loss='log', max_iter=14829567.0, n_jobs=1, penalty='elasticnet',\n",
      "              power_t=0.7226192697361069, random_state=0,\n",
      "              tol=0.00011321032970961408, verbose=False), 'preprocs': (), 'ex_preprocs': ()})\n",
      "\n",
      "******************** SVC-LL ********************\n",
      "  0%|                                                                                                                 | 0/1 [00:00<?, ?trial/s, best loss=?]"
     ]
    },
    {
     "name": "stderr",
     "output_type": "stream",
     "text": [
      "C:\\Users\\marce\\anaconda3\\envs\\tf\\lib\\site-packages\\sklearn\\utils\\validation.py:993: DataConversionWarning: A column-vector y was passed when a 1d array was expected. Please change the shape of y to (n_samples, ), for example using ravel().\n",
      "  y = column_or_1d(y, warn=True)\n"
     ]
    },
    {
     "name": "stdout",
     "output_type": "stream",
     "text": [
      "100%|███████████████████████████████████████████████████████████████████████████████████████| 1/1 [00:01<00:00,  1.95s/trial, best loss: 0.1827608554763448]\n",
      "100%|███████████████████████████████████████████████████████████████████████████████████████| 2/2 [00:01<00:00,  1.58s/trial, best loss: 0.1827608554763448]\n",
      "100%|███████████████████████████████████████████████████████████████████████████████████████| 3/3 [00:01<00:00,  1.79s/trial, best loss: 0.1827608554763448]\n"
     ]
    },
    {
     "name": "stderr",
     "output_type": "stream",
     "text": [
      "C:\\Users\\marce\\anaconda3\\envs\\tf\\lib\\site-packages\\onedal\\datatypes\\validation.py:126: DataConversionWarning: A column-vector y was passed when a 1d array was expected. Please change the shape of y to (n_samples, ), for example using ravel().\n",
      "  y = _column_or_1d(y, warn=True)\n"
     ]
    },
    {
     "name": "stdout",
     "output_type": "stream",
     "text": [
      "(0.8200207468879668, {'learner': SVC(C=37.342663628925735, cache_size=512, coef0=-1.3999003460080859, degree=1,\n",
      "    gamma=0.3343325358844833, kernel='sigmoid', max_iter=46047080.0,\n",
      "    random_state=3, tol=0.00013835805102197597), 'preprocs': (), 'ex_preprocs': ()})\n",
      "\n",
      "******************** SVC-L ********************\n",
      "100%|███████████████████████████████████████████████████████████████████████████████████████| 1/1 [00:01<00:00,  1.65s/trial, best loss: 0.2689565780946209]\n",
      "100%|███████████████████████████████████████████████████████████████████████████████████████| 2/2 [00:01<00:00,  1.54s/trial, best loss: 0.2670123136746597]\n",
      "100%|███████████████████████████████████████████████████████████████████████████████████████| 3/3 [00:01<00:00,  1.56s/trial, best loss: 0.2670123136746597]\n"
     ]
    },
    {
     "name": "stderr",
     "output_type": "stream",
     "text": [
      "C:\\Users\\marce\\anaconda3\\envs\\tf\\lib\\site-packages\\onedal\\datatypes\\validation.py:126: DataConversionWarning: A column-vector y was passed when a 1d array was expected. Please change the shape of y to (n_samples, ), for example using ravel().\n",
      "  y = _column_or_1d(y, warn=True)\n"
     ]
    },
    {
     "name": "stdout",
     "output_type": "stream",
     "text": [
      "(0.7624481327800829, {'learner': SVC(C=0.44715364630050225, cache_size=512, degree=1, gamma='auto',\n",
      "    kernel='linear', max_iter=19440826.0, random_state=1,\n",
      "    tol=0.003292008207495153), 'preprocs': (), 'ex_preprocs': ()})\n",
      "\n",
      "******************** SVC-P ********************\n",
      "\r",
      "  0%|                                                                                                                 | 0/1 [00:00<?, ?trial/s, best loss=?]"
     ]
    },
    {
     "name": "stderr",
     "output_type": "stream",
     "text": [
      "ERROR:hyperopt.fmin:job exception: Unable to cast Python instance to C++ type (compile in debug mode for details)\n"
     ]
    },
    {
     "name": "stdout",
     "output_type": "stream",
     "text": [
      "  0%|                                                                                                                 | 0/1 [00:01<?, ?trial/s, best loss=?]\n",
      "********** Could not fit SVC-P. Reason: 'Unable to cast Python instance to C++ type (compile in debug mode for details)'. **********\n",
      "********** Could not evaluate SVC-P. Reason: 'Attempting to use a model that has not been fit. Ensure fit() has been called and at least one trial has completed without failing or timing out.'. **********\n",
      "\n",
      "******************** SVC-R ********************\n",
      "100%|██████████████████████████████████████████████████████████████████████████████████████| 1/1 [00:01<00:00,  1.42s/trial, best loss: 0.26636422553467276]\n",
      "100%|██████████████████████████████████████████████████████████████████████████████████████| 2/2 [00:01<00:00,  1.55s/trial, best loss: 0.26636422553467276]\n",
      "100%|██████████████████████████████████████████████████████████████████████████████████████| 3/3 [01:00<00:00, 60.89s/trial, best loss: 0.26636422553467276]\n"
     ]
    },
    {
     "name": "stderr",
     "output_type": "stream",
     "text": [
      "C:\\Users\\marce\\anaconda3\\envs\\tf\\lib\\site-packages\\onedal\\datatypes\\validation.py:126: DataConversionWarning: A column-vector y was passed when a 1d array was expected. Please change the shape of y to (n_samples, ), for example using ravel().\n",
      "  y = _column_or_1d(y, warn=True)\n"
     ]
    },
    {
     "name": "stdout",
     "output_type": "stream",
     "text": [
      "(0.7531120331950207, {'learner': SVC(C=19.21572171058445, cache_size=512, degree=1, gamma=0.09763516860628368,\n",
      "    max_iter=548676042.0, random_state=1, tol=0.003799057710504326), 'preprocs': (), 'ex_preprocs': ()})\n",
      "\n",
      "******************** SVC-S ********************\n",
      "100%|███████████████████████████████████████████████████████████████████████████████████████| 1/1 [00:01<00:00,  1.59s/trial, best loss: 0.3668178872326636]\n",
      "100%|███████████████████████████████████████████████████████████████████████████████████████| 2/2 [00:01<00:00,  1.73s/trial, best loss: 0.3091380427738173]\n",
      "100%|███████████████████████████████████████████████████████████████████████████████████████| 3/3 [00:01<00:00,  1.58s/trial, best loss: 0.3091380427738173]\n"
     ]
    },
    {
     "name": "stderr",
     "output_type": "stream",
     "text": [
      "C:\\Users\\marce\\anaconda3\\envs\\tf\\lib\\site-packages\\onedal\\datatypes\\validation.py:126: DataConversionWarning: A column-vector y was passed when a 1d array was expected. Please change the shape of y to (n_samples, ), for example using ravel().\n",
      "  y = _column_or_1d(y, warn=True)\n"
     ]
    },
    {
     "name": "stdout",
     "output_type": "stream",
     "text": [
      "(0.7256224066390041, {'learner': SVC(C=0.003403724272190324, cache_size=512, coef0=0.2935898951799667, degree=1,\n",
      "    gamma=0.2676077838782693, kernel='sigmoid', max_iter=19440826.0,\n",
      "    random_state=1, tol=0.003292008207495153), 'preprocs': (), 'ex_preprocs': ()})\n",
      "\n",
      "******************** XGB ********************\n",
      "\r",
      "  0%|                                                                                                                 | 0/1 [00:00<?, ?trial/s, best loss=?]"
     ]
    },
    {
     "name": "stderr",
     "output_type": "stream",
     "text": [
      "ERROR:hyperopt.fmin:job exception: No module named xgboost\n"
     ]
    },
    {
     "name": "stdout",
     "output_type": "stream",
     "text": [
      "  0%|                                                                                                                 | 0/1 [00:00<?, ?trial/s, best loss=?]\n",
      "********** Could not fit XGB. Reason: 'No module named xgboost'. **********\n",
      "********** Could not evaluate XGB. Reason: 'Attempting to use a model that has not been fit. Ensure fit() has been called and at least one trial has completed without failing or timing out.'. **********\n"
     ]
    }
   ],
   "source": [
    "best_results = {}\n",
    "\n",
    "for clf in classifiers:\n",
    "    \n",
    "    clf_name = build_clf_name(clf)\n",
    "    \n",
    "    print(f'\\n******************** {clf_name} ********************')\n",
    "    \n",
    "    best_results[clf_name] = (0.0, None)\n",
    "        \n",
    "    try:\n",
    "        estim = HyperoptEstimator(classifier=clf,\n",
    "                                  preprocessing=[],\n",
    "                                  algo=tpe.suggest,\n",
    "                                  max_evals=3,\n",
    "                                  trial_timeout=60,\n",
    "                                  seed=np.random.default_rng(SEED),\n",
    "                                  fit_increment=1,\n",
    "                                  fit_increment_dump_filename=f'hyperopt_increments/{clf_name}.inc',\n",
    "                                  n_jobs=1)\n",
    "    except Exception as e:\n",
    "        print(f\"********** Could not create {clf_name}. Reason: '{str(e)}'. **********\")\n",
    "        \n",
    "    try:\n",
    "        estim.fit(X_train, y_train, random_state=SEED)\n",
    "    except Exception as e:\n",
    "        print(f\"********** Could not fit {clf_name}. Reason: '{str(e)}'. **********\")\n",
    "        \n",
    "    try:\n",
    "        score = estim.score(X_test, y_test)\n",
    "        best_model = estim.best_model()\n",
    "        best_results[clf_name] = (score, best_model)\n",
    "        print(best_results[clf_name])\n",
    "    except Exception as e:\n",
    "        print(f\"********** Could not evaluate {clf_name}. Reason: '{str(e)}'. **********\")"
   ]
  },
  {
   "cell_type": "code",
   "execution_count": 10,
   "id": "c21cceac",
   "metadata": {},
   "outputs": [
    {
     "name": "stdout",
     "output_type": "stream",
     "text": [
      "{\n",
      "    \"AB\": [\n",
      "        0.9725103734439834,\n",
      "        {\n",
      "            \"learner\": \"AdaBoostClassifier(algorithm='SAMME', learning_rate=0.3756144655926187,\\n                   n_estimators=483, random_state=4)\",\n",
      "            \"preprocs\": [],\n",
      "            \"ex_preprocs\": []\n",
      "        }\n",
      "    ],\n",
      "    \"DT\": [\n",
      "        0.9859958506224067,\n",
      "        {\n",
      "            \"learner\": \"DecisionTreeClassifier(min_samples_leaf=4, min_samples_split=9, random_state=1,\\n                       splitter='random')\",\n",
      "            \"preprocs\": [],\n",
      "            \"ex_preprocs\": []\n",
      "        }\n",
      "    ],\n",
      "    \"ET\": [\n",
      "        0.9808091286307054,\n",
      "        {\n",
      "            \"learner\": \"ExtraTreesClassifier(bootstrap=True, max_features=None, n_estimators=1195,\\n                     n_jobs=1, random_state=4, verbose=False)\",\n",
      "            \"preprocs\": [],\n",
      "            \"ex_preprocs\": []\n",
      "        }\n",
      "    ],\n",
      "    \"GB\": [\n",
      "        0.0,\n",
      "        null\n",
      "    ],\n",
      "    \"GNB\": [\n",
      "        0.7531120331950207,\n",
      "        {\n",
      "            \"learner\": \"GaussianNB()\",\n",
      "            \"preprocs\": [],\n",
      "            \"ex_preprocs\": []\n",
      "        }\n",
      "    ],\n",
      "    \"KN\": [\n",
      "        0.8807053941908713,\n",
      "        {\n",
      "            \"learner\": \"KNeighborsClassifier(n_jobs=1, n_neighbors=24, p=3.0, weights='distance')\",\n",
      "            \"preprocs\": [],\n",
      "            \"ex_preprocs\": []\n",
      "        }\n",
      "    ],\n",
      "    \"LDA\": [\n",
      "        0.7593360995850622,\n",
      "        {\n",
      "            \"learner\": \"LinearDiscriminantAnalysis(n_components=1, shrinkage='auto', solver='eigen',\\n                           tol=1e-05)\",\n",
      "            \"preprocs\": [],\n",
      "            \"ex_preprocs\": []\n",
      "        }\n",
      "    ],\n",
      "    \"LSVC\": [\n",
      "        0.491701244813278,\n",
      "        {\n",
      "            \"learner\": \"LinearSVC(C=48617.228800553676, class_weight='balanced', dual=False,\\n          intercept_scaling=0.41034553377344246, multi_class='crammer_singer',\\n          random_state=0, tol=0.00011321032970961408, verbose=False)\",\n",
      "            \"preprocs\": [],\n",
      "            \"ex_preprocs\": []\n",
      "        }\n",
      "    ],\n",
      "    \"MNB\": [\n",
      "        0.754149377593361,\n",
      "        {\n",
      "            \"learner\": \"MultinomialNB(alpha=0.38)\",\n",
      "            \"preprocs\": [],\n",
      "            \"ex_preprocs\": []\n",
      "        }\n",
      "    ],\n",
      "    \"OC\": [\n",
      "        0.9144190871369294,\n",
      "        {\n",
      "            \"learner\": \"OutputCodeClassifier(estimator=GradientBoostingClassifier(learning_rate=0.011641046969577998,\\n                                                          max_depth=None,\\n                                                          max_features=0.4941456118168194,\\n                                                          min_samples_leaf=7,\\n                                                          n_estimators=48,\\n                                                          random_state=4,\\n                                                          subsample=0.93482899929673),\\n                     n_jobs=1)\",\n",
      "            \"preprocs\": [],\n",
      "            \"ex_preprocs\": []\n",
      "        }\n",
      "    ],\n",
      "    \"OVO\": [\n",
      "        0.983402489626556,\n",
      "        {\n",
      "            \"learner\": \"OneVsOneClassifier(estimator=GradientBoostingClassifier(learning_rate=0.011641046969577998,\\n                                                        max_depth=None,\\n                                                        max_features=0.4941456118168194,\\n                                                        min_samples_leaf=7,\\n                                                        n_estimators=48,\\n                                                        random_state=4,\\n                                                        subsample=0.93482899929673),\\n                   n_jobs=1)\",\n",
      "            \"preprocs\": [],\n",
      "            \"ex_preprocs\": []\n",
      "        }\n",
      "    ],\n",
      "    \"OVR\": [\n",
      "        0.9818464730290456,\n",
      "        {\n",
      "            \"learner\": \"OneVsRestClassifier(estimator=GradientBoostingClassifier(learning_rate=0.011641046969577998,\\n                                                         max_depth=None,\\n                                                         max_features=0.4941456118168194,\\n                                                         min_samples_leaf=7,\\n                                                         n_estimators=48,\\n                                                         random_state=4,\\n                                                         subsample=0.93482899929673),\\n                    n_jobs=1)\",\n",
      "            \"preprocs\": [],\n",
      "            \"ex_preprocs\": []\n",
      "        }\n",
      "    ],\n",
      "    \"PA\": [\n",
      "        0.7557053941908713,\n",
      "        {\n",
      "            \"learner\": \"PassiveAggressiveClassifier(C=0.10580618144023571, fit_intercept=False,\\n                            max_iter=548676042.0, n_jobs=1, random_state=3,\\n                            tol=0.003799057710504326, verbose=False)\",\n",
      "            \"preprocs\": [],\n",
      "            \"ex_preprocs\": []\n",
      "        }\n",
      "    ],\n",
      "    \"QDA\": [\n",
      "        0.754149377593361,\n",
      "        {\n",
      "            \"learner\": \"QuadraticDiscriminantAnalysis(reg_param=0.3512953517399541)\",\n",
      "            \"preprocs\": [],\n",
      "            \"ex_preprocs\": []\n",
      "        }\n",
      "    ],\n",
      "    \"RF\": [\n",
      "        0.9828838174273858,\n",
      "        {\n",
      "            \"learner\": \"RandomForestClassifier(criterion='entropy', max_features=0.2531954371648645,\\n                       min_samples_leaf=2, n_estimators=37, n_jobs=1,\\n                       random_state=4, verbose=False)\",\n",
      "            \"preprocs\": [],\n",
      "            \"ex_preprocs\": []\n",
      "        }\n",
      "    ],\n",
      "    \"SGD\": [\n",
      "        0.7624481327800829,\n",
      "        {\n",
      "            \"learner\": \"SGDClassifier(alpha=0.0006379623179663057, class_weight='balanced',\\n              eta0=0.00011422166980413974, l1_ratio=0.46788713954999506,\\n              loss='log', max_iter=14829567.0, n_jobs=1, penalty='elasticnet',\\n              power_t=0.7226192697361069, random_state=0,\\n              tol=0.00011321032970961408, verbose=False)\",\n",
      "            \"preprocs\": [],\n",
      "            \"ex_preprocs\": []\n",
      "        }\n",
      "    ],\n",
      "    \"SVC-L\": [\n",
      "        0.7624481327800829,\n",
      "        {\n",
      "            \"learner\": \"SVC(C=0.44715364630050225, cache_size=512, degree=1, gamma='auto',\\n    kernel='linear', max_iter=19440826.0, random_state=1,\\n    tol=0.003292008207495153)\",\n",
      "            \"preprocs\": [],\n",
      "            \"ex_preprocs\": []\n",
      "        }\n",
      "    ],\n",
      "    \"SVC-LL\": [\n",
      "        0.8200207468879668,\n",
      "        {\n",
      "            \"learner\": \"SVC(C=37.342663628925735, cache_size=512, coef0=-1.3999003460080859, degree=1,\\n    gamma=0.3343325358844833, kernel='sigmoid', max_iter=46047080.0,\\n    random_state=3, tol=0.00013835805102197597)\",\n",
      "            \"preprocs\": [],\n",
      "            \"ex_preprocs\": []\n",
      "        }\n",
      "    ],\n",
      "    \"SVC-P\": [\n",
      "        0.0,\n",
      "        null\n",
      "    ],\n",
      "    \"SVC-R\": [\n",
      "        0.7531120331950207,\n",
      "        {\n",
      "            \"learner\": \"SVC(C=19.21572171058445, cache_size=512, degree=1, gamma=0.09763516860628368,\\n    max_iter=548676042.0, random_state=1, tol=0.003799057710504326)\",\n",
      "            \"preprocs\": [],\n",
      "            \"ex_preprocs\": []\n",
      "        }\n",
      "    ],\n",
      "    \"SVC-S\": [\n",
      "        0.7256224066390041,\n",
      "        {\n",
      "            \"learner\": \"SVC(C=0.003403724272190324, cache_size=512, coef0=0.2935898951799667, degree=1,\\n    gamma=0.2676077838782693, kernel='sigmoid', max_iter=19440826.0,\\n    random_state=1, tol=0.003292008207495153)\",\n",
      "            \"preprocs\": [],\n",
      "            \"ex_preprocs\": []\n",
      "        }\n",
      "    ],\n",
      "    \"XGB\": [\n",
      "        0.0,\n",
      "        null\n",
      "    ]\n",
      "}\n"
     ]
    }
   ],
   "source": [
    "best_results = dict(sorted(best_results.items()))\n",
    "print(json.dumps(best_results, indent=4, default=str))"
   ]
  },
  {
   "cell_type": "code",
   "execution_count": 11,
   "id": "d1447725",
   "metadata": {},
   "outputs": [
    {
     "name": "stdout",
     "output_type": "stream",
     "text": [
      "['AB', 'DT', 'ET', 'GB', 'GNB', 'KN', 'LDA', 'LSVC', 'MNB', 'OC', 'OVO', 'OVR', 'PA', 'QDA', 'RF', 'SGD', 'SVC-L', 'SVC-LL', 'SVC-P', 'SVC-R', 'SVC-S', 'XGB']\n",
      "[0.9725103734439834, 0.9859958506224067, 0.9808091286307054, 0.0, 0.7531120331950207, 0.8807053941908713, 0.7593360995850622, 0.491701244813278, 0.754149377593361, 0.9144190871369294, 0.983402489626556, 0.9818464730290456, 0.7557053941908713, 0.754149377593361, 0.9828838174273858, 0.7624481327800829, 0.7624481327800829, 0.8200207468879668, 0.0, 0.7531120331950207, 0.7256224066390041, 0.0]\n"
     ]
    },
    {
     "data": {
      "image/png": "[encoded data removed]",
      "text/plain": [
       "<Figure size 1152x648 with 1 Axes>"
      ]
     },
     "metadata": {
      "needs_background": "light"
     },
     "output_type": "display_data"
    }
   ],
   "source": [
    "names = list(best_results.keys())\n",
    "print(names)\n",
    "values = list(x[0] for x in best_results.values())\n",
    "print(values)\n",
    "\n",
    "plt.figure(figsize=(16,9))\n",
    "idx = 0\n",
    "for i in range(len(best_results.keys())):\n",
    "    plt.bar(names[i],values[i])\n",
    "    plt.text(idx-0.1,values[i]+0.01,f'{100*values[i]:.1f}%')\n",
    "    idx += 1\n",
    "plt.xticks(rotation=45, ha='right')\n",
    "plt.xticks(range(0,len(best_results)),names)\n",
    "plt.yticks(np.linspace(0,1,11))\n",
    "plt.ylim(0,1)\n",
    "plt.show()"
   ]
  },
  {
   "cell_type": "code",
   "execution_count": 12,
   "id": "dd064505",
   "metadata": {},
   "outputs": [
    {
     "name": "stdout",
     "output_type": "stream",
     "text": [
      "Execution finished at 2022-03-01 19:44:06.\n"
     ]
    }
   ],
   "source": [
    "print(f\"Execution finished at {datetime.now().strftime('%Y-%m-%d %H:%M:%S')}.\")"
   ]
  }
 ],
 "metadata": {
  "accelerator": "GPU",
  "colab": {
   "name": "IoT23 - DNN Opt.ipynb",
   "provenance": []
  },
  "kernelspec": {
   "display_name": "Python 3 (ipykernel)",
   "language": "python",
   "name": "python3"
  },
  "language_info": {
   "codemirror_mode": {
    "name": "ipython",
    "version": 3
   },
   "file_extension": ".py",
   "mimetype": "text/x-python",
   "name": "python",
   "nbconvert_exporter": "python",
   "pygments_lexer": "ipython3",
   "version": "3.9.7"
  }
 },
 "nbformat": 4,
 "nbformat_minor": 5
}
