{
 "cells": [
  {
   "cell_type": "code",
   "execution_count": null,
   "id": "Kd-Bm8brf0Fz",
   "metadata": {
    "id": "Kd-Bm8brf0Fz"
   },
   "outputs": [],
   "source": [
    "import matplotlib.pyplot as plt\n",
    "import numpy as np\n",
    "import pandas as pd\n",
    "import json\n",
    "import time\n",
    "from datetime import datetime\n",
    "from sklearnex import patch_sklearn\n",
    "patch_sklearn()\n",
    "from hpsklearn import *\n",
    "from hyperopt import hp, tpe"
   ]
  },
  {
   "cell_type": "code",
   "execution_count": null,
   "id": "2229336e",
   "metadata": {},
   "outputs": [],
   "source": [
    "SEED = 10\n",
    "limit_rows = (1)*1000"
   ]
  },
  {
   "cell_type": "code",
   "execution_count": null,
   "id": "dc175db4",
   "metadata": {
    "scrolled": true
   },
   "outputs": [],
   "source": [
    "print(f\"Execution started at {datetime.now().strftime('%Y-%m-%d %H:%M:%S')}.\")"
   ]
  },
  {
   "cell_type": "code",
   "execution_count": null,
   "id": "208d5970",
   "metadata": {},
   "outputs": [],
   "source": [
    "def load_csv(name):\n",
    "    if limit_rows is None:\n",
    "        return pd.read_table(filepath_or_buffer=f'../Data Preprocessing/sklearn/iot23_combined_{name}.csv', sep=',').infer_objects()\n",
    "    else:\n",
    "        return pd.read_table(filepath_or_buffer=f'../Data Preprocessing/sklearn/iot23_combined_{int(limit_rows/1000)}k_{name}.csv', sep=',').infer_objects()"
   ]
  },
  {
   "cell_type": "code",
   "execution_count": null,
   "id": "steady-hotel",
   "metadata": {
    "id": "steady-hotel",
    "scrolled": false
   },
   "outputs": [],
   "source": [
    "X_train, X_test, y_train, y_test = load_csv('X_train'), load_csv('X_test'), load_csv('y_train'), load_csv('y_test')\n",
    "\n",
    "print('X_train',X_train.shape,'\\ny_train',y_train.shape)\n",
    "\n",
    "print('X_test',X_test.shape,'\\ny_test',y_test.shape)"
   ]
  },
  {
   "cell_type": "code",
   "execution_count": null,
   "id": "e5401710",
   "metadata": {},
   "outputs": [],
   "source": [
    "X_train"
   ]
  },
  {
   "cell_type": "code",
   "execution_count": null,
   "id": "52071f65",
   "metadata": {},
   "outputs": [],
   "source": [
    "def build_clf_name(clf):\n",
    "    clf_name = clf.name.replace('sklearn_','').replace('Classifier','')\n",
    "    if clf_name == 'switch':\n",
    "        clf_name = 'SVC-LL'\n",
    "    elif 'SVC' in clf_name:\n",
    "        for arg in clf.named_args:\n",
    "            if arg[0] == 'kernel':\n",
    "                clf_name += f'-{arg[1].obj.capitalize()[0]}'\n",
    "    clf_name = ''.join(c for c in clf_name if (c.isupper() or c == '-'))\n",
    "    return clf_name"
   ]
  },
  {
   "cell_type": "code",
   "execution_count": null,
   "id": "a3d7b417",
   "metadata": {},
   "outputs": [],
   "source": [
    "classifiers = [\n",
    "    ada_boost('ab'),\n",
    "    decision_tree('dt'),\n",
    "    extra_trees('et'),\n",
    "    gaussian_nb('gnb'),\n",
    "    gradient_boosting('gb'),\n",
    "    knn('knn'),\n",
    "    liblinear_svc('svc-ll'),\n",
    "    linear_discriminant_analysis('lda',n_components=1),\n",
    "    multinomial_nb('mnb'),\n",
    "    one_vs_one('ovo'),\n",
    "    one_vs_rest('ovr'),\n",
    "    output_code('oc'),\n",
    "    passive_aggressive('pa'),\n",
    "    quadratic_discriminant_analysis('qda'),\n",
    "    random_forest('rf'),\n",
    "    sgd('sgd'),\n",
    "    svc('svc'),\n",
    "    svc_linear('svc-l'),\n",
    "    svc_poly('svc-p'),\n",
    "    svc_rbf('svc-r'),\n",
    "    svc_sigmoid('svc-s'),\n",
    "    xgboost_classification('xgb')\n",
    "]"
   ]
  },
  {
   "cell_type": "code",
   "execution_count": null,
   "id": "earned-advertiser",
   "metadata": {
    "id": "earned-advertiser",
    "scrolled": true
   },
   "outputs": [],
   "source": [
    "best_results = {}\n",
    "\n",
    "for clf in classifiers:\n",
    "    \n",
    "    clf_name = build_clf_name(clf)\n",
    "    \n",
    "    print(f'\\n******************** {clf_name} ********************')\n",
    "    \n",
    "    best_results[clf_name] = (0.0, None)\n",
    "        \n",
    "    try:\n",
    "        estim = HyperoptEstimator(classifier=clf,\n",
    "                                  preprocessing=[],\n",
    "                                  algo=tpe.suggest,\n",
    "                                  max_evals=10,\n",
    "                                  trial_timeout=600,\n",
    "                                  seed=np.random.default_rng(SEED),\n",
    "                                  fit_increment=1,\n",
    "                                  fit_increment_dump_filename=f'hyperopt_increments/{clf_name}.inc',\n",
    "                                  n_jobs=1)\n",
    "    except Exception as e:\n",
    "        print(f\"********** Could not create {clf_name}. Reason: '{str(e)}'. **********\")\n",
    "        \n",
    "    try:\n",
    "        estim.fit(X_train, y_train, random_state=SEED)\n",
    "    except Exception as e:\n",
    "        print(f\"********** Could not fit {clf_name}. Reason: '{str(e)}'. **********\")\n",
    "        \n",
    "    try:\n",
    "        score = estim.score(X_test, y_test)\n",
    "        best_model = estim.best_model()\n",
    "        best_results[clf_name] = (score, best_model)\n",
    "        print(best_results[clf_name])\n",
    "    except Exception as e:\n",
    "        print(f\"********** Could not evaluate {clf_name}. Reason: '{str(e)}'. **********\")"
   ]
  },
  {
   "cell_type": "code",
   "execution_count": null,
   "id": "c21cceac",
   "metadata": {},
   "outputs": [],
   "source": [
    "best_results = dict(sorted(best_results.items()))\n",
    "print(json.dumps(best_results, indent=4, default=str))"
   ]
  },
  {
   "cell_type": "code",
   "execution_count": null,
   "id": "d1447725",
   "metadata": {},
   "outputs": [],
   "source": [
    "names = list(best_results.keys())\n",
    "print(names)\n",
    "values = list(x[0] for x in best_results.values())\n",
    "print(values)\n",
    "\n",
    "plt.figure(figsize=(16,9))\n",
    "idx = 0\n",
    "for i in range(len(best_results.keys())):\n",
    "    plt.bar(names[i],values[i])\n",
    "    plt.text(idx-0.1,values[i]+0.01,f'{100*values[i]:.1f}%')\n",
    "    idx += 1\n",
    "plt.xticks(rotation=45, ha='right')\n",
    "plt.xticks(range(0,len(best_results)),names)\n",
    "plt.yticks(np.linspace(0,1,11))\n",
    "plt.ylim(0,1)\n",
    "plt.show()"
   ]
  },
  {
   "cell_type": "code",
   "execution_count": null,
   "id": "dd064505",
   "metadata": {},
   "outputs": [],
   "source": [
    "print(f\"Execution finished at {datetime.now().strftime('%Y-%m-%d %H:%M:%S')}.\")"
   ]
  }
 ],
 "metadata": {
  "accelerator": "GPU",
  "colab": {
   "name": "IoT23 - DNN Opt.ipynb",
   "provenance": []
  },
  "kernelspec": {
   "display_name": "Python 3 (ipykernel)",
   "language": "python",
   "name": "python3"
  },
  "language_info": {
   "codemirror_mode": {
    "name": "ipython",
    "version": 3
   },
   "file_extension": ".py",
   "mimetype": "text/x-python",
   "name": "python",
   "nbconvert_exporter": "python",
   "pygments_lexer": "ipython3",
   "version": "3.9.7"
  }
 },
 "nbformat": 4,
 "nbformat_minor": 5
}
